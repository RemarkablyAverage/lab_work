{
 "cells": [
  {
   "cell_type": "markdown",
   "metadata": {},
   "source": [
    "# Create Data for PCA"
   ]
  },
  {
   "cell_type": "code",
   "execution_count": 1,
   "metadata": {
    "collapsed": false
   },
   "outputs": [
    {
     "name": "stdout",
     "output_type": "stream",
     "text": [
      "Populating the interactive namespace from numpy and matplotlib\n"
     ]
    }
   ],
   "source": [
    "import numpy as np\n",
    "import math\n",
    "%pylab inline\n",
    "from matplotlib import pyplot as plt\n",
    "from mpl_toolkits.mplot3d import Axes3D\n",
    "from mpl_toolkits.mplot3d import proj3d\n",
    "from matplotlib import pyplot as plt\n",
    "from scipy.cluster.hierarchy import dendrogram, linkage\n",
    "import numpy as np\n",
    "from scipy.cluster.vq import kmeans,vq\n",
    "from scipy.spatial.distance import cdist\n",
    "from sklearn.decomposition import PCA as sklearnPCA\n"
   ]
  },
  {
   "cell_type": "markdown",
   "metadata": {},
   "source": [
    "# Create Cell Data"
   ]
  },
  {
   "cell_type": "code",
   "execution_count": 2,
   "metadata": {
    "collapsed": true
   },
   "outputs": [],
   "source": [
    "np.random.seed(4294967295) # random seed for consistency"
   ]
  },
  {
   "cell_type": "markdown",
   "metadata": {},
   "source": [
    "# Cell 1 Data"
   ]
  },
  {
   "cell_type": "code",
   "execution_count": 106,
   "metadata": {
    "collapsed": false
   },
   "outputs": [
    {
     "data": {
      "text/plain": [
       "(30, 10)"
      ]
     },
     "execution_count": 106,
     "metadata": {},
     "output_type": "execute_result"
    }
   ],
   "source": [
    "#Set parameters\n",
    "mean_cell1 = [8,8,8,8,7,7,9,7,8,8]\n",
    "cov = np.identity(10) \n",
    "cell1 = np.random.multivariate_normal(mean_cell1, cov, 30)\n",
    "shape(cell1)"
   ]
  },
  {
   "cell_type": "markdown",
   "metadata": {},
   "source": [
    "# Cell 2 Data"
   ]
  },
  {
   "cell_type": "code",
   "execution_count": 107,
   "metadata": {
    "collapsed": false
   },
   "outputs": [
    {
     "data": {
      "text/plain": [
       "(30, 10)"
      ]
     },
     "execution_count": 107,
     "metadata": {},
     "output_type": "execute_result"
    }
   ],
   "source": [
    "mean_cell2 = [4,4,2,3,4,3,4,5,4,4]\n",
    "cov = np.identity(10) \n",
    "cell2 = np.random.multivariate_normal(mean_cell2, cov, 30)\n",
    "shape(cell2)\n"
   ]
  },
  {
   "cell_type": "markdown",
   "metadata": {},
   "source": [
    "# Cell 3 Data"
   ]
  },
  {
   "cell_type": "code",
   "execution_count": 108,
   "metadata": {
    "collapsed": false
   },
   "outputs": [
    {
     "data": {
      "text/plain": [
       "(30, 10)"
      ]
     },
     "execution_count": 108,
     "metadata": {},
     "output_type": "execute_result"
    }
   ],
   "source": [
    "mean_cell3 = [0,1,1,2,1,0,1,1,2,2]\n",
    "cov = np.identity(10) \n",
    "cell3 = np.random.multivariate_normal(mean_cell3, cov, 30)\n",
    "shape(cell3)"
   ]
  },
  {
   "cell_type": "markdown",
   "metadata": {},
   "source": [
    "# Dimension Viz + Plot without Drop Out "
   ]
  },
  {
   "cell_type": "code",
   "execution_count": 109,
   "metadata": {
    "collapsed": false
   },
   "outputs": [
    {
     "name": "stdout",
     "output_type": "stream",
     "text": [
      "(90, 10)\n"
     ]
    },
    {
     "data": {
      "text/plain": [
       "(90, 5)"
      ]
     },
     "execution_count": 109,
     "metadata": {},
     "output_type": "execute_result"
    }
   ],
   "source": [
    "#Cell PCA\n",
    "#feature space = 90, samples = 10\n",
    "t = np.concatenate((cell1, cell2, cell3),)\n",
    "print shape(t)\n",
    "pca1 = sklearnPCA(n_components=5)\n",
    "fitted1 = pca1.fit(t)\n",
    "trans1 = pca1.transform(t)\n",
    "shape(trans1)"
   ]
  },
  {
   "cell_type": "code",
   "execution_count": 110,
   "metadata": {
    "collapsed": true
   },
   "outputs": [],
   "source": [
    "# #Cell 2 PCA\n",
    "# pca2 = sklearnPCA(n_components=10)\n",
    "# fitted2 = pca2.fit(cell2)\n",
    "# trans2 = pca2.transform(cell2) "
   ]
  },
  {
   "cell_type": "code",
   "execution_count": 111,
   "metadata": {
    "collapsed": false
   },
   "outputs": [
    {
     "data": {
      "image/png": "[encoded data removed]",
      "text/plain": [
       "<matplotlib.figure.Figure at 0x1103074d0>"
      ]
     },
     "metadata": {},
     "output_type": "display_data"
    }
   ],
   "source": [
    "plt.plot(trans1[:,0], trans1[:,1], 'o', markersize=7, color='blue', alpha=0.5, label='celldata')\n",
    "#plt.plot(trans2[:,0], trans2[:,1], '^', markersize=7, color='red', alpha=0.5, label='cell2')\n",
    "\n",
    "plt.xlabel('PC 1')\n",
    "plt.ylabel('PC 2')\n",
    "plt.xlim([-15,15])\n",
    "plt.ylim([-15,15])\n",
    "plt.legend()\n",
    "plt.title('Transformed samples without dropout rate')\n",
    "\n",
    "plt.show()"
   ]
  },
  {
   "cell_type": "code",
   "execution_count": 112,
   "metadata": {
    "collapsed": false
   },
   "outputs": [
    {
     "data": {
      "text/plain": [
       "array([-0.23316383, -0.30869411, -0.11665085,  0.69953386,  0.42248976,\n",
       "       -0.96678886, -1.22469783, -0.77301821, -1.477204  , -1.06425889,\n",
       "       -0.69659406, -0.61638165,  0.24439628, -1.1798189 , -2.30507036,\n",
       "        0.24519629, -0.95701653, -0.46949311, -1.36761843, -1.83792262,\n",
       "       -1.94359267, -1.03749372, -0.27709268, -0.31337866, -2.14540754,\n",
       "       -3.3391291 ,  0.32023871,  0.28559193,  0.17694161, -1.21890807,\n",
       "        3.18185469,  3.31570023,  2.20089583,  0.29155573,  1.89713408,\n",
       "        1.95620799,  0.88013391,  2.33709128,  1.9655611 ,  4.7099501 ,\n",
       "        2.26541764,  1.67374326,  1.24250756,  1.67780465,  2.26065963,\n",
       "        0.41343231,  3.73829609,  2.69733939,  1.98876608,  2.43472412,\n",
       "        4.2516874 ,  2.06360773,  2.07235404,  2.28904265, -0.10020287,\n",
       "        1.99600032,  1.52254634,  0.29721636,  2.34944784,  3.59717233,\n",
       "       -1.37953472, -1.44536952, -1.51365343, -0.25801362, -1.01000946,\n",
       "       -1.50145515, -1.5962486 ,  0.14278429, -0.97345245, -2.13175753,\n",
       "       -1.35242194, -2.13972735, -0.96721881, -1.78483576, -1.58778585,\n",
       "        1.93416073, -2.36822385, -0.89561629, -0.81500134, -2.90864436,\n",
       "       -1.09751876, -1.03844269, -1.44606556, -2.16438335, -1.35368039,\n",
       "       -2.83379792, -1.88343824, -0.45633626, -2.60995043, -0.55700294])"
      ]
     },
     "execution_count": 112,
     "metadata": {},
     "output_type": "execute_result"
    }
   ],
   "source": [
    "trans1[:,1]"
   ]
  },
  {
   "cell_type": "code",
   "execution_count": null,
   "metadata": {
    "collapsed": false
   },
   "outputs": [],
   "source": []
  },
  {
   "cell_type": "markdown",
   "metadata": {},
   "source": [
    "# Drop out rate parameters"
   ]
  },
  {
   "cell_type": "code",
   "execution_count": 190,
   "metadata": {
    "collapsed": true
   },
   "outputs": [],
   "source": [
    "def drop_out(exp):\n",
    "    p = math.e**(-.01 * exp**2)\n",
    "    return np.random.binomial(1, p, 1)[0]"
   ]
  },
  {
   "cell_type": "code",
   "execution_count": 191,
   "metadata": {
    "collapsed": true
   },
   "outputs": [],
   "source": [
    "noise_1 = .1 * np.random.randn(shape(cell1)[0], shape(cell1)[1]) \n",
    "# noise_2 = .1 * np.random.randn(shape(cell2)[0], shape(cell2)[1]) "
   ]
  },
  {
   "cell_type": "code",
   "execution_count": 192,
   "metadata": {
    "collapsed": true
   },
   "outputs": [],
   "source": [
    "nsd1 = np.copy(cell1) + np.copy(noise_1)\n",
    "#nsd2 = np.copy(cell2) + np.copy(noise_2)"
   ]
  },
  {
   "cell_type": "code",
   "execution_count": 193,
   "metadata": {
    "collapsed": false
   },
   "outputs": [
    {
     "name": "stdout",
     "output_type": "stream",
     "text": [
      "171\n"
     ]
    }
   ],
   "source": [
    "count = 0\n",
    "for (i,j), value in numpy.ndenumerate(nsd1):\n",
    "    if (drop_out(value) == 1):\n",
    "        count += 1\n",
    "        nsd1[i,j] = 0\n",
    "print count"
   ]
  },
  {
   "cell_type": "code",
   "execution_count": 195,
   "metadata": {
    "collapsed": false
   },
   "outputs": [
    {
     "data": {
      "text/plain": [
       "(30, 10)"
      ]
     },
     "execution_count": 195,
     "metadata": {},
     "output_type": "execute_result"
    }
   ],
   "source": [
    "shape(nsd1)"
   ]
  },
  {
   "cell_type": "code",
   "execution_count": null,
   "metadata": {
    "collapsed": true
   },
   "outputs": [],
   "source": []
  },
  {
   "cell_type": "code",
   "execution_count": null,
   "metadata": {
    "collapsed": true
   },
   "outputs": [],
   "source": []
  },
  {
   "cell_type": "code",
   "execution_count": null,
   "metadata": {
    "collapsed": true
   },
   "outputs": [],
   "source": []
  },
  {
   "cell_type": "code",
   "execution_count": null,
   "metadata": {
    "collapsed": true
   },
   "outputs": [],
   "source": []
  },
  {
   "cell_type": "code",
   "execution_count": null,
   "metadata": {
    "collapsed": true
   },
   "outputs": [],
   "source": []
  },
  {
   "cell_type": "code",
   "execution_count": null,
   "metadata": {
    "collapsed": true
   },
   "outputs": [],
   "source": []
  },
  {
   "cell_type": "code",
   "execution_count": null,
   "metadata": {
    "collapsed": true
   },
   "outputs": [],
   "source": []
  },
  {
   "cell_type": "code",
   "execution_count": null,
   "metadata": {
    "collapsed": true
   },
   "outputs": [],
   "source": []
  },
  {
   "cell_type": "code",
   "execution_count": null,
   "metadata": {
    "collapsed": true
   },
   "outputs": [],
   "source": []
  },
  {
   "cell_type": "code",
   "execution_count": null,
   "metadata": {
    "collapsed": true
   },
   "outputs": [],
   "source": []
  },
  {
   "cell_type": "code",
   "execution_count": null,
   "metadata": {
    "collapsed": true
   },
   "outputs": [],
   "source": []
  },
  {
   "cell_type": "code",
   "execution_count": null,
   "metadata": {
    "collapsed": true
   },
   "outputs": [],
   "source": []
  }
 ],
 "metadata": {
  "kernelspec": {
   "display_name": "Python 2",
   "language": "python",
   "name": "python2"
  },
  "language_info": {
   "codemirror_mode": {
    "name": "ipython",
    "version": 2
   },
   "file_extension": ".py",
   "mimetype": "text/x-python",
   "name": "python",
   "nbconvert_exporter": "python",
   "pygments_lexer": "ipython2",
   "version": "2.7.11"
  }
 },
 "nbformat": 4,
 "nbformat_minor": 0
}

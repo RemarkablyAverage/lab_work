{
 "cells": [
  {
   "cell_type": "markdown",
   "metadata": {},
   "source": [
    "# Create Data for PCA"
   ]
  },
  {
   "cell_type": "code",
   "execution_count": 1,
   "metadata": {
    "collapsed": false
   },
   "outputs": [
    {
     "name": "stdout",
     "output_type": "stream",
     "text": [
      "Populating the interactive namespace from numpy and matplotlib\n"
     ]
    }
   ],
   "source": [
    "import numpy as np\n",
    "import math\n",
    "%pylab inline\n",
    "from matplotlib import pyplot as plt\n",
    "from mpl_toolkits.mplot3d import Axes3D\n",
    "from mpl_toolkits.mplot3d import proj3d\n",
    "from matplotlib import pyplot as plt\n",
    "from scipy.cluster.hierarchy import dendrogram, linkage\n",
    "import numpy as np\n",
    "from scipy.cluster.vq import kmeans,vq\n",
    "from scipy.spatial.distance import cdist\n",
    "from sklearn.decomposition import PCA as sklearnPCA\n"
   ]
  },
  {
   "cell_type": "markdown",
   "metadata": {},
   "source": [
    "# Create Cell Data"
   ]
  },
  {
   "cell_type": "code",
   "execution_count": 2,
   "metadata": {
    "collapsed": true
   },
   "outputs": [],
   "source": [
    "np.random.seed(4294967295) # random seed for consistency"
   ]
  },
  {
   "cell_type": "markdown",
   "metadata": {},
   "source": [
    "# Cell 1 Data"
   ]
  },
  {
   "cell_type": "code",
   "execution_count": 67,
   "metadata": {
    "collapsed": false
   },
   "outputs": [
    {
     "data": {
      "text/plain": [
       "(30, 10)"
      ]
     },
     "execution_count": 67,
     "metadata": {},
     "output_type": "execute_result"
    }
   ],
   "source": [
    "#Set parameters\n",
    "mean_cell1 = [8,8,8,8,7,7,9,7,8,8]\n",
    "cov = np.identity(10) \n",
    "cell1 = np.random.multivariate_normal(mean_cell1, cov, 30)\n",
    "shape(cell1)"
   ]
  },
  {
   "cell_type": "markdown",
   "metadata": {},
   "source": [
    "# Cell 2 Data"
   ]
  },
  {
   "cell_type": "code",
   "execution_count": 72,
   "metadata": {
    "collapsed": false
   },
   "outputs": [
    {
     "data": {
      "text/plain": [
       "(30, 10)"
      ]
     },
     "execution_count": 72,
     "metadata": {},
     "output_type": "execute_result"
    }
   ],
   "source": [
    "mean_cell2 = [4,4,2,3,4,3,4,5,4,4]\n",
    "cov = np.identity(10) \n",
    "cell2 = np.random.multivariate_normal(mean_cell2, cov, 30)\n",
    "shape(cell2)\n"
   ]
  },
  {
   "cell_type": "markdown",
   "metadata": {},
   "source": [
    "# Cell 3 Data"
   ]
  },
  {
   "cell_type": "code",
   "execution_count": 96,
   "metadata": {
    "collapsed": false
   },
   "outputs": [
    {
     "data": {
      "text/plain": [
       "(30, 10)"
      ]
     },
     "execution_count": 96,
     "metadata": {},
     "output_type": "execute_result"
    }
   ],
   "source": [
    "mean_cell3 = [0,1,1,2,1,0,1,1,2,2]\n",
    "cov = np.identity(10) \n",
    "cell3 = np.random.multivariate_normal(mean_cell3, cov, 30)\n",
    "shape(cell3)"
   ]
  },
  {
   "cell_type": "markdown",
   "metadata": {},
   "source": [
    "# Dimension Viz + Plot without Drop Out "
   ]
  },
  {
   "cell_type": "code",
   "execution_count": 73,
   "metadata": {
    "collapsed": false
   },
   "outputs": [
    {
     "name": "stdout",
     "output_type": "stream",
     "text": [
      "(90, 10)\n"
     ]
    },
    {
     "data": {
      "text/plain": [
       "(90, 5)"
      ]
     },
     "execution_count": 73,
     "metadata": {},
     "output_type": "execute_result"
    }
   ],
   "source": [
    "#Cell PCA\n",
    "#feature space = 90, samples = 10\n",
    "t = np.concatenate((cell1, cell2, cell3))\n",
    "print shape(t)\n",
    "pca1 = sklearnPCA(n_components=5)\n",
    "fitted1 = pca1.fit(t)\n",
    "trans1 = pca1.transform(t)\n",
    "shape(trans1)"
   ]
  },
  {
   "cell_type": "code",
   "execution_count": 74,
   "metadata": {
    "collapsed": true
   },
   "outputs": [],
   "source": [
    "# #Cell 2 PCA\n",
    "# pca2 = sklearnPCA(n_components=10)\n",
    "# fitted2 = pca2.fit(cell2)\n",
    "# trans2 = pca2.transform(cell2) "
   ]
  },
  {
   "cell_type": "code",
   "execution_count": 93,
   "metadata": {
    "collapsed": false
   },
   "outputs": [
    {
     "data": {
      "image/png": "[encoded data removed]",
      "text/plain": [
       "<matplotlib.figure.Figure at 0x10fec5e10>"
      ]
     },
     "metadata": {},
     "output_type": "display_data"
    }
   ],
   "source": [
    "plt.plot(trans1[:,0], trans1[:,1], 'o', markersize=7, color='blue', alpha=0.5, label='celldata')\n",
    "#plt.plot(trans2[:,0], trans2[:,1], '^', markersize=7, color='red', alpha=0.5, label='cell2')\n",
    "\n",
    "plt.xlabel('PC 1')\n",
    "plt.ylabel('PC 2')\n",
    "plt.xlim([-15,15])\n",
    "plt.ylim([-15,15])\n",
    "plt.legend()\n",
    "plt.title('Transformed samples without dropout rate')\n",
    "\n",
    "plt.show()"
   ]
  },
  {
   "cell_type": "code",
   "execution_count": 95,
   "metadata": {
    "collapsed": false
   },
   "outputs": [
    {
     "data": {
      "text/plain": [
       "array([-1.84371924,  0.92608   ,  1.62303584,  1.56797467,  1.70748248,\n",
       "        1.37168945,  0.15198972,  2.14093973,  0.5702435 , -0.91531293,\n",
       "        1.03416341, -0.90102393, -0.64189682,  0.09046883,  1.26792226,\n",
       "        2.00909525,  0.49003796,  0.63636228, -0.34557013, -0.74571642,\n",
       "        0.83864999,  0.72771294, -0.54864129,  1.91518244,  0.42200858,\n",
       "        1.53443309,  0.50430976,  1.87779799,  1.29611059,  2.82655943,\n",
       "       -2.55892739, -0.59077017,  0.40073325, -1.57487761, -2.30757502,\n",
       "       -1.87557421, -1.95139822, -1.35374662, -1.949688  , -0.51748464,\n",
       "       -1.7675603 , -0.71125457, -1.50965868, -4.15397847, -3.13898864,\n",
       "       -1.79997921, -1.05410185, -2.19428098, -2.17228842, -3.07389921,\n",
       "       -0.64938535, -1.61205615, -1.68603798, -2.18265344, -2.28541373,\n",
       "       -2.60257782, -1.63062726, -1.12210579, -4.05589966, -4.91280141,\n",
       "        1.46959601, -0.20212818,  1.63364918, -1.11681173,  0.72540179,\n",
       "        1.17299117, -0.0163281 ,  0.68250807,  0.37921107,  0.8235412 ,\n",
       "        1.88340715,  1.74950321,  1.12889591, -0.31319926,  1.88483843,\n",
       "        3.07279139,  0.35063866,  1.9451069 ,  1.20681973,  1.62871988,\n",
       "       -0.0084864 ,  2.21985819,  0.61141422,  3.57377831,  0.58455081,\n",
       "        4.24574101,  1.55914652,  2.06040534,  0.86365065,  1.20727699])"
      ]
     },
     "execution_count": 95,
     "metadata": {},
     "output_type": "execute_result"
    }
   ],
   "source": [
    "trans1[:,1]"
   ]
  },
  {
   "cell_type": "code",
   "execution_count": null,
   "metadata": {
    "collapsed": false
   },
   "outputs": [],
   "source": []
  },
  {
   "cell_type": "markdown",
   "metadata": {},
   "source": [
    "# Drop out rate parameters"
   ]
  },
  {
   "cell_type": "code",
   "execution_count": 190,
   "metadata": {
    "collapsed": true
   },
   "outputs": [],
   "source": [
    "def drop_out(exp):\n",
    "    p = math.e**(-.01 * exp**2)\n",
    "    return np.random.binomial(1, p, 1)[0]"
   ]
  },
  {
   "cell_type": "code",
   "execution_count": 191,
   "metadata": {
    "collapsed": true
   },
   "outputs": [],
   "source": [
    "noise_1 = .1 * np.random.randn(shape(cell1)[0], shape(cell1)[1]) \n",
    "# noise_2 = .1 * np.random.randn(shape(cell2)[0], shape(cell2)[1]) "
   ]
  },
  {
   "cell_type": "code",
   "execution_count": 192,
   "metadata": {
    "collapsed": true
   },
   "outputs": [],
   "source": [
    "nsd1 = np.copy(cell1) + np.copy(noise_1)\n",
    "nsd2 = np.copy(cell2) + np.copy(noise_2)"
   ]
  },
  {
   "cell_type": "code",
   "execution_count": 193,
   "metadata": {
    "collapsed": false
   },
   "outputs": [
    {
     "name": "stdout",
     "output_type": "stream",
     "text": [
      "171\n"
     ]
    }
   ],
   "source": [
    "count = 0\n",
    "for (i,j), value in numpy.ndenumerate(nsd1):\n",
    "    if (drop_out(value) == 1):\n",
    "        count += 1\n",
    "        nsd1[i,j] = 0\n",
    "print count"
   ]
  },
  {
   "cell_type": "code",
   "execution_count": 195,
   "metadata": {
    "collapsed": false
   },
   "outputs": [
    {
     "data": {
      "text/plain": [
       "(30, 10)"
      ]
     },
     "execution_count": 195,
     "metadata": {},
     "output_type": "execute_result"
    }
   ],
   "source": [
    "shape(nsd1)"
   ]
  },
  {
   "cell_type": "code",
   "execution_count": null,
   "metadata": {
    "collapsed": true
   },
   "outputs": [],
   "source": []
  },
  {
   "cell_type": "code",
   "execution_count": null,
   "metadata": {
    "collapsed": true
   },
   "outputs": [],
   "source": []
  },
  {
   "cell_type": "code",
   "execution_count": null,
   "metadata": {
    "collapsed": true
   },
   "outputs": [],
   "source": []
  },
  {
   "cell_type": "code",
   "execution_count": null,
   "metadata": {
    "collapsed": true
   },
   "outputs": [],
   "source": []
  },
  {
   "cell_type": "code",
   "execution_count": null,
   "metadata": {
    "collapsed": true
   },
   "outputs": [],
   "source": []
  },
  {
   "cell_type": "code",
   "execution_count": null,
   "metadata": {
    "collapsed": true
   },
   "outputs": [],
   "source": []
  },
  {
   "cell_type": "code",
   "execution_count": null,
   "metadata": {
    "collapsed": true
   },
   "outputs": [],
   "source": []
  },
  {
   "cell_type": "code",
   "execution_count": null,
   "metadata": {
    "collapsed": true
   },
   "outputs": [],
   "source": []
  },
  {
   "cell_type": "code",
   "execution_count": null,
   "metadata": {
    "collapsed": true
   },
   "outputs": [],
   "source": []
  },
  {
   "cell_type": "code",
   "execution_count": null,
   "metadata": {
    "collapsed": true
   },
   "outputs": [],
   "source": []
  },
  {
   "cell_type": "code",
   "execution_count": null,
   "metadata": {
    "collapsed": true
   },
   "outputs": [],
   "source": []
  },
  {
   "cell_type": "code",
   "execution_count": null,
   "metadata": {
    "collapsed": true
   },
   "outputs": [],
   "source": []
  }
 ],
 "metadata": {
  "kernelspec": {
   "display_name": "Python 2",
   "language": "python",
   "name": "python2"
  },
  "language_info": {
   "codemirror_mode": {
    "name": "ipython",
    "version": 2
   },
   "file_extension": ".py",
   "mimetype": "text/x-python",
   "name": "python",
   "nbconvert_exporter": "python",
   "pygments_lexer": "ipython2",
   "version": "2.7.11"
  }
 },
 "nbformat": 4,
 "nbformat_minor": 0
}

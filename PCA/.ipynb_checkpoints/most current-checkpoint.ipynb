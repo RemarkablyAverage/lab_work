{
 "cells": [
  {
   "cell_type": "markdown",
   "metadata": {},
   "source": [
    "# Formalized Problem\n",
    "    1. Given a gene matrix, correct for gene expression drop out"
   ]
  },
  {
   "cell_type": "markdown",
   "metadata": {},
   "source": [
    "# Create Data for PCA"
   ]
  },
  {
   "cell_type": "code",
   "execution_count": 259,
   "metadata": {
    "collapsed": false
   },
   "outputs": [
    {
     "name": "stdout",
     "output_type": "stream",
     "text": [
      "Populating the interactive namespace from numpy and matplotlib\n"
     ]
    },
    {
     "name": "stderr",
     "output_type": "stream",
     "text": [
      "WARNING: pylab import has clobbered these variables: ['cov']\n",
      "`%matplotlib` prevents importing * from pylab and numpy\n"
     ]
    }
   ],
   "source": [
    "import numpy as np\n",
    "import math\n",
    "%pylab inline\n",
    "from matplotlib import pyplot as plt\n",
    "from mpl_toolkits.mplot3d import Axes3D\n",
    "from mpl_toolkits.mplot3d import proj3d\n",
    "from matplotlib import pyplot as plt\n",
    "from scipy.cluster.hierarchy import dendrogram, linkage\n",
    "import numpy as np\n",
    "from scipy.cluster.vq import kmeans,vq\n",
    "from scipy.spatial.distance import cdist\n",
    "from sklearn.decomposition import PCA as sklearnPCA\n",
    "\n",
    "#DBSCAN\n",
    "from sklearn.cluster import DBSCAN\n",
    "from sklearn import metrics\n",
    "from sklearn.datasets.samples_generator import make_blobs\n",
    "from sklearn.preprocessing import StandardScaler"
   ]
  },
  {
   "cell_type": "markdown",
   "metadata": {},
   "source": [
    "# Create Cell Data"
   ]
  },
  {
   "cell_type": "code",
   "execution_count": 2,
   "metadata": {
    "collapsed": true
   },
   "outputs": [],
   "source": [
    "np.random.seed(4294967295) # random seed for consistency"
   ]
  },
  {
   "cell_type": "markdown",
   "metadata": {},
   "source": [
    "# Cell 1 Data"
   ]
  },
  {
   "cell_type": "code",
   "execution_count": 253,
   "metadata": {
    "collapsed": false
   },
   "outputs": [
    {
     "data": {
      "text/plain": [
       "(30, 10)"
      ]
     },
     "execution_count": 253,
     "metadata": {},
     "output_type": "execute_result"
    }
   ],
   "source": [
    "#Set parameters\n",
    "mean_cell1 = [8,8,8,8,7,7,9,7,8,8]\n",
    "cov = np.identity(10) \n",
    "cell1 = np.random.multivariate_normal(mean_cell1, cov, 30)\n",
    "shape(cell1)"
   ]
  },
  {
   "cell_type": "markdown",
   "metadata": {},
   "source": [
    "# Cell 2 Data"
   ]
  },
  {
   "cell_type": "code",
   "execution_count": 107,
   "metadata": {
    "collapsed": false
   },
   "outputs": [
    {
     "data": {
      "text/plain": [
       "(30, 10)"
      ]
     },
     "execution_count": 107,
     "metadata": {},
     "output_type": "execute_result"
    }
   ],
   "source": [
    "mean_cell2 = [4,4,2,3,4,3,4,5,4,4]\n",
    "cov = np.identity(10) \n",
    "cell2 = np.random.multivariate_normal(mean_cell2, cov, 30)\n",
    "shape(cell2)\n"
   ]
  },
  {
   "cell_type": "markdown",
   "metadata": {},
   "source": [
    "# Cell 3 Data"
   ]
  },
  {
   "cell_type": "code",
   "execution_count": 262,
   "metadata": {
    "collapsed": false
   },
   "outputs": [
    {
     "data": {
      "text/plain": [
       "(30, 10)"
      ]
     },
     "execution_count": 262,
     "metadata": {},
     "output_type": "execute_result"
    }
   ],
   "source": [
    "mean_cell3 = [2,1,1,2,2,1,1,1,2,2]\n",
    "cov = np.identity(10) \n",
    "cell3 = np.random.multivariate_normal(mean_cell3, cov, 30)\n",
    "shape(cell3)"
   ]
  },
  {
   "cell_type": "markdown",
   "metadata": {},
   "source": [
    "# Dimension Viz + Plot without Drop Out "
   ]
  },
  {
   "cell_type": "code",
   "execution_count": 263,
   "metadata": {
    "collapsed": false
   },
   "outputs": [
    {
     "name": "stdout",
     "output_type": "stream",
     "text": [
      "(90, 10)\n"
     ]
    },
    {
     "data": {
      "text/plain": [
       "(90, 5)"
      ]
     },
     "execution_count": 263,
     "metadata": {},
     "output_type": "execute_result"
    }
   ],
   "source": [
    "#Cell PCA\n",
    "#feature space/genes = 10, samples = 90\n",
    "#each element is the level of expression (log read count) of the jth gene, ith sample\n",
    "\n",
    "t = np.concatenate((cell1, cell2, cell3),)\n",
    "print shape(t)\n",
    "pca1 = sklearnPCA(n_components=5)\n",
    "fitted1 = pca1.fit(t)\n",
    "trans1 = pca1.transform(t)\n",
    "shape(trans1)"
   ]
  },
  {
   "cell_type": "code",
   "execution_count": 264,
   "metadata": {
    "collapsed": true
   },
   "outputs": [],
   "source": [
    "# #Cell 2 PCA\n",
    "# pca2 = sklearnPCA(n_components=10)\n",
    "# fitted2 = pca2.fit(cell2)\n",
    "# trans2 = pca2.transform(cell2) "
   ]
  },
  {
   "cell_type": "code",
   "execution_count": 265,
   "metadata": {
    "collapsed": false
   },
   "outputs": [
    {
     "data": {
      "image/png": "[encoded data removed]",
      "text/plain": [
       "<matplotlib.figure.Figure at 0x1107eeb10>"
      ]
     },
     "metadata": {},
     "output_type": "display_data"
    }
   ],
   "source": [
    "plt.plot(trans1[:,0], trans1[:,1], 'o', markersize=7, color='blue', alpha=0.5, label='celldata')\n",
    "\n",
    "#plt.plot(trans2[:,0], trans2[:,1], '^', markersize=7, color='red', alpha=0.5, label='cell2')\n",
    "\n",
    "plt.xlabel('PC 1')\n",
    "plt.ylabel('PC 2')\n",
    "plt.xlim([-15,15])\n",
    "plt.ylim([-15,15])\n",
    "plt.legend()\n",
    "plt.title('Transformed samples without dropout rate')\n",
    "\n",
    "plt.show()"
   ]
  },
  {
   "cell_type": "code",
   "execution_count": 266,
   "metadata": {
    "collapsed": false
   },
   "outputs": [
    {
     "data": {
      "text/plain": [
       "array([-0.44211449, -0.37970072,  0.62420482,  2.16009189,  0.44073682,\n",
       "        1.27554482,  1.95047356,  3.23551245, -0.05511964, -0.256828  ,\n",
       "        0.23698623, -0.26606215,  1.06227412, -0.906601  ,  0.68835585,\n",
       "        0.01533656,  1.77012092,  0.5027672 ,  1.27889317, -0.94738684,\n",
       "        0.24203189,  1.66430299,  0.34878012, -0.60571989,  0.61244306,\n",
       "        2.13592196, -0.87701685,  2.72143859,  1.17601673, -0.18391493,\n",
       "       -3.08941953, -3.09195111, -2.04114474, -0.24599222, -1.78945587,\n",
       "       -2.35391133, -1.21256012, -2.09026241, -2.33993396, -3.82770118,\n",
       "       -2.38537925, -0.78715141, -0.87976808, -1.59314983, -2.59579731,\n",
       "        0.02634652, -4.52718124, -2.5970459 , -1.57140703, -2.50710183,\n",
       "       -5.03549113, -0.85033901, -2.11955134, -1.47185024,  0.55810485,\n",
       "       -2.10209023, -0.99272691,  0.09330615, -1.93459645, -3.20503363,\n",
       "        1.13862046, -0.71284008,  2.07390111,  1.86303628,  2.6815999 ,\n",
       "        2.17135374,  0.23427021,  1.66822926,  2.27154406,  0.27489947,\n",
       "        1.47016666,  1.02913633,  0.90370824,  1.48074609,  1.23720094,\n",
       "        0.01428273,  1.84789953,  0.90958205,  1.63811994,  2.08588546,\n",
       "        0.82142834,  0.7157818 ,  1.7981179 ,  3.25429141,  1.29156991,\n",
       "       -0.01865621,  2.20305042,  0.71962423,  0.18341587,  2.08850048])"
      ]
     },
     "execution_count": 266,
     "metadata": {},
     "output_type": "execute_result"
    }
   ],
   "source": [
    "trans1[:,1]"
   ]
  },
  {
   "cell_type": "code",
   "execution_count": null,
   "metadata": {
    "collapsed": false
   },
   "outputs": [],
   "source": []
  },
  {
   "cell_type": "markdown",
   "metadata": {},
   "source": [
    "# Drop out rate parameters"
   ]
  },
  {
   "cell_type": "code",
   "execution_count": 267,
   "metadata": {
    "collapsed": true
   },
   "outputs": [],
   "source": [
    "#mu is the mean vector aka centroid\n",
    "def drop_out(exp):\n",
    "    p = math.e**(-.1 * exp**2)\n",
    "    return np.random.binomial(1, p, 1)[0]"
   ]
  },
  {
   "cell_type": "code",
   "execution_count": 268,
   "metadata": {
    "collapsed": true
   },
   "outputs": [],
   "source": [
    "noise_1 = .1 * np.random.randn(shape(t)[0], shape(t)[1]) \n",
    "# noise_2 = .1 * np.random.randn(shape(cell2)[0], shape(cell2)[1]) "
   ]
  },
  {
   "cell_type": "code",
   "execution_count": 269,
   "metadata": {
    "collapsed": true
   },
   "outputs": [],
   "source": [
    "nsd1 = np.copy(t) + np.copy(noise_1)\n",
    "#nsd2 = np.copy(cell2) + np.copy(noise_2)"
   ]
  },
  {
   "cell_type": "code",
   "execution_count": 270,
   "metadata": {
    "collapsed": false
   },
   "outputs": [
    {
     "name": "stdout",
     "output_type": "stream",
     "text": [
      "319\n"
     ]
    }
   ],
   "source": [
    "count = 0\n",
    "for (i,j), value in numpy.ndenumerate(nsd1):\n",
    "    if (drop_out(value) == 1):\n",
    "        count += 1\n",
    "        nsd1[i,j] = 0\n",
    "print count"
   ]
  },
  {
   "cell_type": "code",
   "execution_count": 271,
   "metadata": {
    "collapsed": false
   },
   "outputs": [
    {
     "data": {
      "text/plain": [
       "(90, 10)"
      ]
     },
     "execution_count": 271,
     "metadata": {},
     "output_type": "execute_result"
    }
   ],
   "source": [
    "shape(nsd1)"
   ]
  },
  {
   "cell_type": "code",
   "execution_count": 272,
   "metadata": {
    "collapsed": false,
    "scrolled": true
   },
   "outputs": [
    {
     "data": {
      "text/plain": [
       "array([[  9.19031307,   9.34094992,   8.30501928,   7.57942914,\n",
       "          7.69289101,   7.35876943,   8.78628255,   8.98948659,\n",
       "          8.42131092,   7.57124944],\n",
       "       [  9.04958537,   6.37632154,   6.77192146,   7.76247716,\n",
       "          5.4700851 ,   6.25717385,  11.28267183,   8.05764654,\n",
       "          7.64312957,   9.13558304],\n",
       "       [  7.81767214,   6.94165669,   9.11779506,   6.82447426,\n",
       "          6.48638202,   8.22054963,   8.74646492,   7.31940902,\n",
       "          0.        ,   6.41867813],\n",
       "       [ 10.22704942,   6.46113621,   7.83162277,   8.31423189,\n",
       "          6.71772647,   8.04394774,   8.15287228,   6.30270588,\n",
       "          7.57596852,   7.97965677],\n",
       "       [  8.0835293 ,   7.48124447,   8.21626538,   6.88409822,\n",
       "          5.88377576,   8.17564658,   8.15263435,   7.27963991,\n",
       "          8.4151709 ,   7.66779865],\n",
       "       [  8.64068741,   7.85466093,   8.31303393,   7.14498624,\n",
       "          7.44132986,   7.13271814,   7.54098642,   6.29056232,\n",
       "          8.67349505,   7.69190082],\n",
       "       [  8.33501998,   8.00377762,   8.69424385,   8.23501635,\n",
       "          6.85072991,   6.73018294,   9.14823045,   5.64803901,\n",
       "          6.3689046 ,  10.08171838],\n",
       "       [  9.34397499,   8.40482616,   9.01709589,   9.66287594,\n",
       "          9.21186007,   7.67096415,   6.8988353 ,   6.14344898,\n",
       "          8.53525382,   7.43368522],\n",
       "       [  8.20222462,   8.19208699,   7.42178658,   8.48000371,\n",
       "          9.03557217,   6.45690346,  10.1164899 ,   8.19806659,\n",
       "          9.4306803 ,   7.48073056],\n",
       "       [  6.88316873,   9.72088619,   8.18799864,   7.52321121,\n",
       "          6.64346361,   5.9620974 ,   9.53853647,   7.55868866,\n",
       "          7.64418809,   6.66814455],\n",
       "       [  5.96882538,   7.8072896 ,   6.74556013,   7.9984986 ,\n",
       "          8.77406873,   5.63230012,   8.0658148 ,   7.19207905,\n",
       "          7.60691072,   7.97575742],\n",
       "       [  8.69748276,   7.89433696,   7.24810017,   8.35718216,\n",
       "          5.53822798,   7.64578273,  10.55457131,   8.07147379,\n",
       "          7.88229638,   7.12061337],\n",
       "       [  8.22505816,   9.88696574,   8.84730645,   7.57912417,\n",
       "          6.28524461,   8.05679572,   8.55388704,   6.16985093,\n",
       "          7.76583812,   7.1503176 ],\n",
       "       [  7.11646629,   8.63512775,   8.86640243,   5.93779705,\n",
       "          8.47603998,   8.00159631,   8.45418746,   8.55845141,\n",
       "          9.72850053,   9.5316665 ],\n",
       "       [  9.06604569,   9.35946481,   7.44398215,   8.25525204,\n",
       "          5.48877167,   5.51995194,   8.43281106,   6.98113695,\n",
       "          6.69633317,   8.80384134],\n",
       "       [  7.81067802,   8.75997152,   7.61222115,   8.0070679 ,\n",
       "          8.34402482,   7.06445401,   9.28126566,   7.63409018,\n",
       "          8.22372744,   8.27068107],\n",
       "       [  7.7811526 ,   8.79278075,  10.11510834,   7.77627065,\n",
       "          8.79807627,   6.39268298,   8.96713598,   6.44650759,\n",
       "          8.4770585 ,   7.80381746],\n",
       "       [ 10.38536152,   8.42444647,   7.0214006 ,   7.97488502,\n",
       "          7.31996666,   6.16962361,   8.01511091,   7.50133614,\n",
       "          8.49717183,   9.11168114],\n",
       "       [  7.39744569,   8.69665938,   8.71181619,   8.05400875,\n",
       "          6.49301999,   7.83415929,   9.7111023 ,   6.09500863,\n",
       "          8.86053511,   7.82786912],\n",
       "       [  7.91428251,   7.83459666,   7.15166249,   6.76074078,\n",
       "          5.34296582,   7.71532827,  10.14461945,   7.71845256,\n",
       "          6.89147576,   5.78921895],\n",
       "       [  7.65665483,   8.99245552,   7.40978475,   7.15591807,\n",
       "          8.51257504,   7.05337366,   8.94291102,   6.60045218,\n",
       "          7.06522913,   7.15837517],\n",
       "       [  9.43733103,   7.59177665,   9.01411521,   9.83116131,\n",
       "          7.44302142,   9.51815248,   7.8368083 ,   8.56858375,\n",
       "          9.27371601,   6.47484208],\n",
       "       [  6.70253269,   5.53451521,   7.943941  ,   6.53678594,\n",
       "          8.06811709,   7.02370101,   9.4543007 ,   6.90472245,\n",
       "          6.50930161,   6.909744  ],\n",
       "       [  8.08566108,   7.13400153,   7.96511453,   6.8186602 ,\n",
       "          8.20025613,   7.84361055,   8.45378896,   8.54464499,\n",
       "          6.62709259,   7.81920917],\n",
       "       [  6.57444677,   8.86395826,   7.99374368,   8.11518098,\n",
       "          6.23368648,   5.68977484,   9.69367048,   6.78031725,\n",
       "          8.38815971,   8.44281827],\n",
       "       [  7.87918877,   8.17212457,   9.42073883,   9.21981683,\n",
       "          6.87455978,   6.57914119,   8.97018126,   6.78192386,\n",
       "          6.67376066,   9.41082421],\n",
       "       [  7.21055511,   8.18907096,   7.79763293,   6.0018106 ,\n",
       "          8.30915527,   7.63549809,   9.99740078,   7.40773679,\n",
       "          7.97839373,   9.25188131],\n",
       "       [  8.73527135,   7.09701885,   8.92872496,  11.76241962,\n",
       "          8.34884361,   4.49436323,  11.50165953,   7.57741649,\n",
       "          7.97243128,   8.50073541],\n",
       "       [  5.99787407,   9.12349775,   8.38715515,   7.03023218,\n",
       "          7.66254449,   6.18598483,   8.15020111,   5.53595495,\n",
       "          8.72047795,   8.87595523],\n",
       "       [  8.3792019 ,   7.20128069,   8.5146955 ,   7.93994902,\n",
       "          7.65822053,   6.53306133,   9.90821554,   8.80433567,\n",
       "          7.59963949,   7.34920377],\n",
       "       [  0.        ,   0.        ,   2.62401158,   0.        ,\n",
       "          3.81656394,   4.45691291,   5.09344298,   5.07172863,\n",
       "          5.21719858,   4.8430032 ],\n",
       "       [  4.15909388,   5.92172104,   0.        ,   2.34493473,\n",
       "          4.04249697,   0.        ,   0.        ,   5.53281311,\n",
       "          3.12995239,   3.55438804],\n",
       "       [  4.8293845 ,   4.92827028,   2.53651308,   0.        ,\n",
       "          5.1970417 ,   2.33609295,   5.17600856,   5.14612701,\n",
       "          0.        ,   0.        ],\n",
       "       [  3.31258324,   3.67366108,   3.02535939,   4.73067129,\n",
       "          4.86992164,   2.2601082 ,   4.99160901,   4.50829034,\n",
       "          3.39367095,   3.6507013 ],\n",
       "       [  4.59465438,   5.51958341,   1.81832879,   2.69832335,\n",
       "          0.        ,   0.        ,   3.59969977,   0.        ,\n",
       "          4.15361884,   0.        ],\n",
       "       [  0.        ,   3.78712873,   2.91555462,   0.        ,\n",
       "          2.57027465,   0.        ,   4.76523695,   5.78700756,\n",
       "          3.903141  ,   4.55741401],\n",
       "       [  2.4686252 ,   0.        ,   0.        ,   4.14015677,\n",
       "          3.33487402,   0.        ,   5.00527594,   5.18542531,\n",
       "          4.20958164,   4.97675543],\n",
       "       [  3.54712561,   4.29197356,   0.        ,   4.61488761,\n",
       "          3.52714668,   2.08472778,   3.56514872,   5.9473452 ,\n",
       "          4.0573305 ,   0.        ],\n",
       "       [  0.        ,   4.29056439,   0.        ,   0.        ,\n",
       "          3.71264213,   0.        ,   5.26953365,   6.25684132,\n",
       "          3.57209594,   0.        ],\n",
       "       [  4.07066693,   0.        ,   0.        ,   0.        ,\n",
       "          4.49374721,   4.18267113,   2.59332906,   6.74239517,\n",
       "          4.93877715,   3.11782184],\n",
       "       [  3.24108721,   0.        ,   0.        ,   2.76755336,\n",
       "          0.        ,   3.33671231,   4.00735256,   6.17725627,\n",
       "          0.        ,   5.32409669],\n",
       "       [  5.22316688,   0.        ,   3.17075144,   0.        ,\n",
       "          3.51689483,   0.        ,   3.84443968,   4.76177988,\n",
       "          6.3402753 ,   3.98027614],\n",
       "       [  3.81514821,   4.98622674,   0.        ,   0.        ,\n",
       "          4.15020593,   0.        ,   3.14307795,   4.21388561,\n",
       "          4.14223485,   0.        ],\n",
       "       [  0.        ,   4.51081142,   0.        ,   2.79721688,\n",
       "          0.        ,   2.54938916,   5.18425485,   3.62245503,\n",
       "          0.        ,   5.77570189],\n",
       "       [  3.41099442,   5.95118365,   0.        ,   4.03400074,\n",
       "          4.32446235,   4.02296925,   5.4220907 ,   5.72237338,\n",
       "          4.81662585,   0.        ],\n",
       "       [  4.45726373,   2.69476246,   0.        ,   0.        ,\n",
       "          3.96698618,   1.88465716,   4.85808859,   0.        ,\n",
       "          3.62459734,   2.90832285],\n",
       "       [  0.        ,   4.45362229,   0.        ,   2.75989153,\n",
       "          0.        ,   4.37259272,   5.563753  ,   6.58400762,\n",
       "          2.41122841,   4.13559342],\n",
       "       [  2.37793884,   3.40930296,   0.        ,   0.        ,\n",
       "          4.28451984,   3.99971612,   0.        ,   5.11180777,\n",
       "          0.        ,   4.32200109],\n",
       "       [  0.        ,   3.68962174,   3.18831761,   3.5122321 ,\n",
       "          5.72439888,   0.        ,   3.87545154,   5.96142643,\n",
       "          4.43234764,   0.        ],\n",
       "       [  4.09949438,   4.13981067,   0.        ,   2.47815444,\n",
       "          3.55787389,   0.        ,   4.69191476,   5.42759378,\n",
       "          0.        ,   6.0918468 ],\n",
       "       [  2.91787534,   4.79613655,   0.        ,   0.        ,\n",
       "          0.        ,   3.5118722 ,   5.89048316,   7.37060928,\n",
       "          0.        ,   3.32942155],\n",
       "       [  5.27664851,   3.7391239 ,   3.34327575,   0.        ,\n",
       "          5.69750861,   0.        ,   0.        ,   3.76422182,\n",
       "          3.24497822,   0.        ],\n",
       "       [  0.        ,   4.86301444,   0.        ,   3.53126144,\n",
       "          4.65908719,   0.        ,   4.72085077,   4.95789509,\n",
       "          4.20226435,   5.05263703],\n",
       "       [  3.39395876,   0.        ,   0.        ,   0.        ,\n",
       "          4.61826229,   2.9449883 ,   0.        ,   5.63316885,\n",
       "          3.53255886,   3.12077993],\n",
       "       [  2.58743168,   0.        ,   0.        ,   4.66143566,\n",
       "          3.74124399,   4.26922304,   3.7870121 ,   2.68995166,\n",
       "          0.        ,   0.        ],\n",
       "       [  4.31418406,   4.48678517,   0.        ,   3.15678171,\n",
       "          0.        ,   0.        ,   5.13697158,   4.77117795,\n",
       "          3.81923894,   4.7482096 ],\n",
       "       [  0.        ,   0.        ,   0.        ,   4.40877227,\n",
       "          5.0816308 ,   3.10322096,   2.67279879,   5.74654747,\n",
       "          0.        ,   4.3033343 ],\n",
       "       [  3.9196181 ,   0.        ,   3.43341058,   3.10683979,\n",
       "          0.        ,   3.13397539,   2.71286988,   4.34345203,\n",
       "          0.        ,   4.18771545],\n",
       "       [  3.95767598,   4.11234787,   4.08705265,   1.55018235,\n",
       "          5.24264953,   0.        ,   4.31036775,   4.96315732,\n",
       "          3.06082565,   1.85939537],\n",
       "       [  2.80750817,   3.79835106,   0.        ,   2.2036149 ,\n",
       "          4.73696655,   4.02599343,   0.        ,   5.30331206,\n",
       "          4.37079092,   4.14941459],\n",
       "       [  0.        ,   0.        ,   0.        ,   0.        ,\n",
       "          1.34425946,   0.        ,   0.        ,   0.        ,\n",
       "          2.81558395,   0.        ],\n",
       "       [  1.50317852,   0.        ,   0.        ,   0.        ,\n",
       "          1.11238088,   0.        ,   0.        ,   0.        ,\n",
       "          0.        ,   0.        ],\n",
       "       [  3.84820993,   0.        ,   0.        ,   0.        ,\n",
       "          0.        ,   0.        ,   0.        ,   0.        ,\n",
       "          0.        ,   2.47569037],\n",
       "       [  0.        ,   0.        ,   0.        ,   0.        ,\n",
       "          0.        ,   0.        ,   1.28561444,   0.        ,\n",
       "          0.        ,   0.        ],\n",
       "       [  2.46715627,   0.        ,   0.        ,   2.77655649,\n",
       "          0.        ,   0.        ,   0.        ,   0.75580656,\n",
       "          3.82570417,   5.01739092],\n",
       "       [  2.41885136,   0.        ,   2.64844302,   0.        ,\n",
       "          3.81619704,   0.        ,   0.        ,   0.        ,\n",
       "          2.30233753,   0.        ],\n",
       "       [  3.24542913,   0.        ,   0.        ,   0.        ,\n",
       "          0.        ,   0.        ,   0.        ,   0.        ,\n",
       "          0.63212783,   0.        ],\n",
       "       [  0.        ,   0.        ,   0.        ,   0.        ,\n",
       "          0.        ,   0.        ,   0.        ,   0.        ,\n",
       "          1.78430829,   0.        ],\n",
       "       [  0.        ,   0.        ,   0.        ,   3.4719995 ,\n",
       "          2.35839354,   0.        ,   0.        ,   0.        ,\n",
       "          1.7350526 ,   0.        ],\n",
       "       [  0.        ,   0.        ,   0.        ,   0.        ,\n",
       "          0.        ,   0.        ,   2.08742551,   0.        ,\n",
       "          1.14104145,   0.        ],\n",
       "       [  1.68614281,   1.4910835 ,   0.        ,   2.89679251,\n",
       "          2.04385528,   0.        ,   0.        ,   0.        ,\n",
       "          3.65063778,   0.        ],\n",
       "       [  0.        ,   0.        ,   0.        ,   0.        ,\n",
       "          0.        ,   2.50864986,   1.39885727,   0.        ,\n",
       "          2.28853858,   3.39277066],\n",
       "       [  0.        ,   0.        ,   0.        ,   0.        ,\n",
       "          0.        ,   0.        ,   0.        ,   0.        ,\n",
       "          3.31467656,   0.        ],\n",
       "       [  2.23206487,   0.        ,   0.        ,   1.85451522,\n",
       "          0.        ,   0.        ,   0.        ,   0.        ,\n",
       "          3.09084047,   0.        ],\n",
       "       [  1.81609763,   0.        ,   0.        ,   0.        ,\n",
       "          0.        ,   0.        ,   0.        ,   0.        ,\n",
       "          0.        ,   3.51308784],\n",
       "       [  3.45917823,   0.        ,   0.56296316,   0.        ,\n",
       "          3.19815466,   0.        ,   0.        ,   0.        ,\n",
       "          0.        ,   0.        ],\n",
       "       [  1.94932424,   0.        ,   0.        ,   2.56907227,\n",
       "          3.68154986,   0.        ,   0.        ,   0.        ,\n",
       "          3.40944457,   0.        ],\n",
       "       [  2.52260635,   0.        ,   2.26685834,   0.        ,\n",
       "          2.64997799,   0.        ,   0.        ,   1.69062386,\n",
       "          2.68629014,   0.        ],\n",
       "       [  0.        ,   0.        ,   0.        ,   0.        ,\n",
       "          0.        ,   0.        ,   0.        ,   2.12331858,\n",
       "          3.21970174,   3.7090612 ],\n",
       "       [  0.        ,   0.        ,   0.        ,   4.43503528,\n",
       "          1.92078598,   0.        ,   0.        ,   0.        ,\n",
       "          0.        ,   0.        ],\n",
       "       [  0.        ,   0.        ,   0.        ,   0.        ,\n",
       "          0.        ,   0.        ,   0.        ,   0.        ,\n",
       "          0.        ,   1.33439398],\n",
       "       [  0.        ,   0.        ,   0.        ,   0.        ,\n",
       "          0.        ,   0.        ,   0.        ,   0.        ,\n",
       "          2.48199173,   0.        ],\n",
       "       [  2.81748851,   0.        ,   0.        ,   0.        ,\n",
       "          2.24623577,   0.        ,   0.        ,   0.        ,\n",
       "          0.        ,   0.        ],\n",
       "       [  0.        ,   0.        ,   0.        ,   5.87459665,\n",
       "          0.        ,   0.        ,   3.02831551,   0.        ,\n",
       "          0.        ,   0.        ],\n",
       "       [  0.        ,   0.        ,   0.        ,   0.        ,\n",
       "          3.61775709,   0.        ,   0.        ,   0.        ,\n",
       "          0.        ,   2.89961754],\n",
       "       [  0.        ,   0.        ,   0.        ,   0.        ,\n",
       "          2.28430588,   0.        ,   0.        ,   0.        ,\n",
       "          0.        ,   0.        ],\n",
       "       [  0.        ,   0.        ,   0.        ,   0.        ,\n",
       "          3.70939096,   0.        ,   0.        ,   0.        ,\n",
       "          0.        ,   0.        ],\n",
       "       [  2.55461563,   1.51896093,   0.        ,   0.        ,\n",
       "          0.        ,   0.        ,   0.        ,   0.        ,\n",
       "          0.        ,   0.        ],\n",
       "       [  0.        ,   0.        ,   0.        ,   0.        ,\n",
       "          0.        ,   3.04671804,   0.        ,   0.        ,\n",
       "          0.        ,   0.        ],\n",
       "       [  3.90210664,   0.        ,   1.20890019,   3.88538414,\n",
       "          2.48161927,   0.        ,   0.        ,   1.16269822,\n",
       "          2.18692143,   2.60388576]])"
      ]
     },
     "execution_count": 272,
     "metadata": {},
     "output_type": "execute_result"
    }
   ],
   "source": [
    "nsd1"
   ]
  },
  {
   "cell_type": "code",
   "execution_count": 274,
   "metadata": {
    "collapsed": false
   },
   "outputs": [
    {
     "data": {
      "image/png": "[encoded data removed]",
      "text/plain": [
       "<matplotlib.figure.Figure at 0x110788090>"
      ]
     },
     "metadata": {},
     "output_type": "display_data"
    }
   ],
   "source": [
    "plt.plot(nsd1[:,0], nsd1[:,1], 'o', markersize=7, color='blue', alpha=0.5, label='dropped')\n",
    "plt.plot(t[:,0], t[:,1], 'o', markersize=7, color='red', alpha=0.5, label='non dropped')\n",
    "plt.xlabel(\"X\")\n",
    "plt.ylabel(\"Y\")\n",
    "plt.xlim([-2.5,15])\n",
    "plt.ylim([-2.5,15])\n",
    "plt.legend()\n",
    "plt.title('Samples with dropout rate')\n",
    "\n",
    "plt.show()"
   ]
  },
  {
   "cell_type": "markdown",
   "metadata": {
    "collapsed": true
   },
   "source": [
    "# With Dropout Visualization"
   ]
  },
  {
   "cell_type": "code",
   "execution_count": 242,
   "metadata": {
    "collapsed": false
   },
   "outputs": [
    {
     "data": {
      "text/plain": [
       "(90, 5)"
      ]
     },
     "execution_count": 242,
     "metadata": {},
     "output_type": "execute_result"
    }
   ],
   "source": [
    "#Cell PCA\n",
    "#feature space = 90, samples = 10\n",
    "pca2 = sklearnPCA(n_components=5)\n",
    "fitted1 = pca2.fit(nsd1)\n",
    "trans2 = pca1.transform(nsd1)\n",
    "shape(trans2)"
   ]
  },
  {
   "cell_type": "code",
   "execution_count": 255,
   "metadata": {
    "collapsed": false
   },
   "outputs": [
    {
     "data": {
      "image/png": "[encoded data removed]",
      "text/plain": [
       "<matplotlib.figure.Figure at 0x110680dd0>"
      ]
     },
     "metadata": {},
     "output_type": "display_data"
    }
   ],
   "source": [
    "plt.plot(trans2[:,0], trans2[:,1], 'o', markersize=7, color='blue', alpha=0.5, label='cells')\n",
    "\n",
    "plt.xlabel('PC 1')\n",
    "plt.ylabel('PC 2')\n",
    "plt.xlim([-15,15])\n",
    "plt.ylim([-15,15])\n",
    "plt.legend()\n",
    "plt.title('Transformed samples with dropout rate')\n",
    "\n",
    "plt.show()"
   ]
  },
  {
   "cell_type": "code",
   "execution_count": 244,
   "metadata": {
    "collapsed": false
   },
   "outputs": [
    {
     "data": {
      "text/plain": [
       "array([-11.9184336 , -10.45808605, -10.77816766,  -9.2951556 ,\n",
       "       -10.94269827, -10.98521858, -11.01733012, -11.68047651,\n",
       "       -11.96299082, -13.38464874, -11.33326855, -11.12411986,\n",
       "       -11.92616307,  -9.39492273, -11.33776632, -11.33616333,\n",
       "       -11.65974655, -11.1931352 ,  -8.43395167, -13.08619767,\n",
       "       -10.50950138, -10.66878871, -11.54305488, -12.15306662,\n",
       "       -11.04837429, -12.79569146, -12.59467833, -12.26106838,\n",
       "       -13.55500445, -10.03051963,   5.61205479,   5.9146472 ,\n",
       "         3.29063509,   4.76182344,   4.6658258 ,   3.14315461,\n",
       "         6.22668616,   7.66248838,   2.00760345,   4.3430564 ,\n",
       "         4.0583566 ,   2.94803761,   5.79105299,   2.35802725,\n",
       "         1.64228548,   7.04516259,   2.72506128,   5.11042988,\n",
       "         5.57809376,   3.50590578,   4.38510608,   6.04266923,\n",
       "         4.38932688,   7.26482613,   6.10381986,   3.55614287,\n",
       "         3.80623831,   6.95191762,   4.82975586,   8.09006294,\n",
       "        11.13997665,  12.08396042,  13.07182318,  12.28188572,\n",
       "        12.66748041,  10.33765239,  12.84642981,  12.73165589,\n",
       "         9.56512089,  10.89427426,  11.4286026 ,  13.07182318,\n",
       "        12.79339572,  11.02082829,  10.70647381,  11.25026649,\n",
       "        11.17274563,  12.03635233,  12.06835094,  13.07182318,\n",
       "        13.07182318,  11.52098818,  12.34885196,  10.85289692,\n",
       "        10.73786799,  12.47598252,  11.569169  ,  11.76991151,\n",
       "        10.13709801,  12.52290798])"
      ]
     },
     "execution_count": 244,
     "metadata": {},
     "output_type": "execute_result"
    }
   ],
   "source": [
    "trans2[:,0]"
   ]
  },
  {
   "cell_type": "markdown",
   "metadata": {
    "collapsed": true
   },
   "source": [
    "# Methods"
   ]
  },
  {
   "cell_type": "code",
   "execution_count": 376,
   "metadata": {
    "collapsed": false
   },
   "outputs": [],
   "source": [
    "def find_avgWithinSS(matrix, maxclusters=10):\n",
    "    K = range(1, maxclusters)\n",
    "    KM = [kmeans(matrix,k) for k in K]\n",
    "    centroids = [cent for (cent,var) in KM]   \n",
    "    D_k = [cdist(matrix, cent, 'euclidean') for cent in centroids]\n",
    "    cIdx = [np.argmin(D,axis=1) for D in D_k]\n",
    "    dist = [np.min(D,axis=1) for D in D_k]\n",
    "    avgWithinSS = [sum(d)/matrix.shape[0] for d in dist]\n",
    "    return avgWithinSS\n",
    "\n",
    "def find_centroid(matrix):\n",
    "    K = findK(find_avgWithinSS(matrix))\n",
    "    KM = [kmeans(matrix, K)]\n",
    "    centroids = [cent for (cent,var) in KM]\n",
    "    return centroids\n",
    "\n",
    "def findK(points, num_derivatives=3):\n",
    "    for x in range(0,num_derivatives):\n",
    "        points = np.diff(points)\n",
    "    ret = list(points)\n",
    "    return ret.index(max(ret))"
   ]
  },
  {
   "cell_type": "code",
   "execution_count": 377,
   "metadata": {
    "collapsed": false
   },
   "outputs": [
    {
     "data": {
      "text/plain": [
       "5"
      ]
     },
     "execution_count": 377,
     "metadata": {},
     "output_type": "execute_result"
    }
   ],
   "source": [
    "findK(find_avgWithinSS(nsd1))"
   ]
  },
  {
   "cell_type": "code",
   "execution_count": null,
   "metadata": {
    "collapsed": true
   },
   "outputs": [],
   "source": []
  },
  {
   "cell_type": "code",
   "execution_count": 378,
   "metadata": {
    "collapsed": false
   },
   "outputs": [
    {
     "name": "stdout",
     "output_type": "stream",
     "text": [
      "[9.7625165484281968, 4.1838617056151666, 2.8783570647998449, 2.6862162346438456, 2.5469628853295552, 2.4207911997717804, 2.3333559638756642, 2.251633076064754, 2.1842833471727983]\n",
      "memes 3\n",
      "2\n"
     ]
    },
    {
     "data": {
      "image/png": "[encoded data removed]",
      "text/plain": [
       "<matplotlib.figure.Figure at 0x1102dba90>"
      ]
     },
     "metadata": {},
     "output_type": "display_data"
    },
    {
     "data": {
      "image/png": "[encoded data removed]",
      "text/plain": [
       "<matplotlib.figure.Figure at 0x10ffc1390>"
      ]
     },
     "metadata": {},
     "output_type": "display_data"
    },
    {
     "name": "stdout",
     "output_type": "stream",
     "text": [
      "2\n"
     ]
    }
   ],
   "source": [
    "maxclusters=10\n",
    "##### plot ###\n",
    "avg = find_avgWithinSS(trans2)\n",
    "print avg\n",
    "found = findK(avg)\n",
    "print 'memes', found\n",
    "kIdx = found - 1\n",
    "print kIdx\n",
    "K = range(1, maxclusters)\n",
    "KM = [kmeans(trans2,k) for k in K]\n",
    "centroids = [cent for (cent,var) in KM]   \n",
    "D_k = [cdist(trans2, cent, 'euclidean') for cent in centroids]\n",
    "cIdx = [np.argmin(D,axis=1) for D in D_k]\n",
    "\n",
    "# elbow curve\n",
    "fig = plt.figure()\n",
    "ax = fig.add_subplot(111)\n",
    "ax.plot(K, find_avgWithinSS(trans2), 'b*-')\n",
    "ax.plot(K[kIdx], find_avgWithinSS(trans2)[kIdx], marker='o', markersize=12, \n",
    "    markeredgewidth=2, markeredgecolor='r', markerfacecolor='None')\n",
    "plt.grid(True)\n",
    "plt.xlabel('Number of clusters')\n",
    "plt.ylabel('Average within-cluster sum of squares')\n",
    "plt.title('Elbow for KMeans clustering')\n",
    "\n",
    "# scatter plot\n",
    "fig = plt.figure()\n",
    "ax = fig.add_subplot(111)\n",
    "#ax.scatter(X[:,2],X[:,1], s=30, c=cIdx[k])\n",
    "clr = ['b','g','r','c','m','y','k']\n",
    "for i in range(K[kIdx]):\n",
    "    ind = (cIdx[kIdx]==i)\n",
    "    ax.scatter(trans2[ind,0],trans2[ind,1], s=30, c=clr[i], label='Cluster %d'%i)\n",
    "plt.xlabel('Y')\n",
    "plt.ylabel('X')\n",
    "plt.title('Cells, KMeans clustering with K=%d' % K[kIdx])\n",
    "#plt.legend()\n",
    "\n",
    "plt.show()\n",
    "print kIdx"
   ]
  },
  {
   "cell_type": "code",
   "execution_count": 379,
   "metadata": {
    "collapsed": false,
    "scrolled": false
   },
   "outputs": [
    {
     "data": {
      "text/plain": [
       "[array([[ 1.74055871,  0.07564944, -0.30168239,  0.12972931,  0.21020299]]),\n",
       " array([[ -1.13469463e+01,  -1.06842724e+00,  -2.11996600e-02,\n",
       "          -3.94385476e-03,   9.79513119e-02],\n",
       "        [  8.28431122e+00,   6.47687775e-01,  -4.41923762e-01,\n",
       "           1.96565893e-01,   2.66328834e-01]]),\n",
       " array([[  1.17749473e+01,  -1.13486714e+00,  -7.44361941e-01,\n",
       "           1.07849616e-01,   5.59410922e-01],\n",
       "        [ -1.13469463e+01,  -1.06842724e+00,  -2.11996600e-02,\n",
       "          -3.94385476e-03,   9.79513119e-02],\n",
       "        [  4.79367514e+00,   2.43024269e+00,  -1.39485583e-01,\n",
       "           2.85282169e-01,  -2.67532540e-02]]),\n",
       " array([[  5.52035154e+00,   2.03988985e+00,  -1.35852439e+00,\n",
       "           1.39455834e+00,  -7.78720485e-01],\n",
       "        [ -1.13469463e+01,  -1.06842724e+00,  -2.11996600e-02,\n",
       "          -3.94385476e-03,   9.79513119e-02],\n",
       "        [  3.96318784e+00,   2.87636023e+00,   1.25370162e+00,\n",
       "          -9.82462022e-01,   8.32637867e-01],\n",
       "        [  1.17749473e+01,  -1.13486714e+00,  -7.44361941e-01,\n",
       "           1.07849616e-01,   5.59410922e-01]]),\n",
       " array([[ 11.7749473 ,  -1.13486714,  -0.74436194,   0.10784962,\n",
       "           0.55941092],\n",
       "        [  3.85951289,   2.75930508,   1.05006823,  -0.95946258,\n",
       "           0.02366217],\n",
       "        [-11.45209824,  -0.47954438,   0.25542693,  -0.05410711,\n",
       "          -0.09099272],\n",
       "        [-10.92633854,  -3.4239587 ,  -1.12770602,   0.19670917,\n",
       "           0.85372745],\n",
       "        [  5.86128916,   2.0541714 ,  -1.49897566,   1.7078476 ,\n",
       "          -0.08437088]]),\n",
       " array([[  1.07536010e+01,  -2.22222018e+00,  -1.44779258e-01,\n",
       "           7.22443240e-01,  -4.70995431e-01],\n",
       "        [  3.56232268e+00,   2.36290365e+00,   3.82528218e-01,\n",
       "           1.25318811e+00,   1.28514258e+00],\n",
       "        [ -1.13469463e+01,  -1.06842724e+00,  -2.11996600e-02,\n",
       "          -3.94385476e-03,   9.79513119e-02],\n",
       "        [  5.88735652e+00,   2.16321485e+00,  -1.73062521e+00,\n",
       "           1.08283540e+00,  -1.37834135e+00],\n",
       "        [  4.85377523e+00,   2.99382319e+00,   1.76787495e+00,\n",
       "          -2.60294699e+00,   2.28704314e-01],\n",
       "        [  1.22126671e+01,  -6.68858696e-01,  -1.00132595e+00,\n",
       "          -1.55547651e-01,   1.00101365e+00]]),\n",
       " array([[ -8.9144372 ,  -5.51736268,   0.22367331,   0.81592877,   0.6820385 ],\n",
       "        [  4.44307598,   1.27868128,   0.27568402,   1.89824805,\n",
       "          -1.22633878],\n",
       "        [ 10.90216105,  -2.16236037,  -0.07319488,   0.76394946,\n",
       "          -0.95919917],\n",
       "        [-11.52069695,  -0.75064614,  -0.03869059,  -0.06250619,   0.0562308 ],\n",
       "        [  4.2366179 ,   3.25850913,   2.04260332,  -2.57958266,\n",
       "           0.37948184],\n",
       "        [  5.44000777,   3.00268523,  -1.79294292,   0.47790126,\n",
       "           0.83589634],\n",
       "        [ 12.09232412,  -0.76123324,  -0.98842269,  -0.13073215,\n",
       "           1.11163277]]),\n",
       " array([[ 10.77328125,  -1.19658087,  -0.6272374 ,  -0.15558243,\n",
       "           2.65533794],\n",
       "        [  5.86128916,   2.0541714 ,  -1.49897566,   1.7078476 ,\n",
       "          -0.08437088],\n",
       "        [ 10.90216105,  -2.16236037,  -0.07319488,   0.76394946,\n",
       "          -0.95919917],\n",
       "        [  3.85951289,   2.75930508,   1.05006823,  -0.95946258,\n",
       "           0.02366217],\n",
       "        [-11.53886195,  -0.63401711,   0.88603065,   0.12918267,\n",
       "           0.52921767],\n",
       "        [ -8.9144372 ,  -5.51736268,   0.22367331,   0.81592877,   0.6820385 ],\n",
       "        [-11.49973734,  -0.8852181 ,  -1.10567663,  -0.28368563,\n",
       "          -0.48952329],\n",
       "        [ 12.48027791,  -0.63318982,  -1.09465366,  -0.12342324,\n",
       "           0.65760184]]),\n",
       " array([[-10.92633854,  -3.4239587 ,  -1.12770602,   0.19670917,\n",
       "           0.85372745],\n",
       "        [  6.58358257,   1.52397782,  -1.81388211,   1.64732249,\n",
       "          -0.80720353],\n",
       "        [  4.25894669,   3.45095207,   0.31295723,  -0.70944864,\n",
       "           1.83010424],\n",
       "        [  3.75908035,   1.28403282,   1.87720078,   0.48119648,\n",
       "          -0.62766401],\n",
       "        [ 11.01778681,  -1.76940941,  -1.78654878,   0.16216373,   2.7248337 ],\n",
       "        [-11.45209824,  -0.47954438,   0.25542693,  -0.05410711,\n",
       "          -0.09099272],\n",
       "        [  4.49490441,   3.4416889 ,  -1.5641114 ,  -0.04613879,\n",
       "          -2.52061699],\n",
       "        [ 12.33111019,  -0.53719409,  -0.81106134,  -0.19582012,\n",
       "           0.75314368],\n",
       "        [ 10.90216105,  -2.16236037,  -0.07319488,   0.76394946,\n",
       "          -0.95919917]])]"
      ]
     },
     "execution_count": 379,
     "metadata": {},
     "output_type": "execute_result"
    }
   ],
   "source": []
  },
  {
   "cell_type": "code",
   "execution_count": null,
   "metadata": {
    "collapsed": false
   },
   "outputs": [],
   "source": []
  },
  {
   "cell_type": "code",
   "execution_count": null,
   "metadata": {
    "collapsed": true
   },
   "outputs": [],
   "source": []
  }
 ],
 "metadata": {
  "kernelspec": {
   "display_name": "Python 2",
   "language": "python",
   "name": "python2"
  },
  "language_info": {
   "codemirror_mode": {
    "name": "ipython",
    "version": 2
   },
   "file_extension": ".py",
   "mimetype": "text/x-python",
   "name": "python",
   "nbconvert_exporter": "python",
   "pygments_lexer": "ipython2",
   "version": "2.7.11"
  }
 },
 "nbformat": 4,
 "nbformat_minor": 0
}

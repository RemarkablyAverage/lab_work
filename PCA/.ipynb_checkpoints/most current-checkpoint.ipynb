{
 "cells": [
  {
   "cell_type": "markdown",
   "metadata": {},
   "source": [
    "# Formalized Problem\n",
    "    1. Given a gene matrix, correct for gene expression drop out"
   ]
  },
  {
   "cell_type": "markdown",
   "metadata": {},
   "source": [
    "# Create Data for PCA"
   ]
  },
  {
   "cell_type": "code",
   "execution_count": 259,
   "metadata": {
    "collapsed": false
   },
   "outputs": [
    {
     "name": "stdout",
     "output_type": "stream",
     "text": [
      "Populating the interactive namespace from numpy and matplotlib\n"
     ]
    },
    {
     "name": "stderr",
     "output_type": "stream",
     "text": [
      "WARNING: pylab import has clobbered these variables: ['cov']\n",
      "`%matplotlib` prevents importing * from pylab and numpy\n"
     ]
    }
   ],
   "source": [
    "import numpy as np\n",
    "import math\n",
    "%pylab inline\n",
    "from matplotlib import pyplot as plt\n",
    "from mpl_toolkits.mplot3d import Axes3D\n",
    "from mpl_toolkits.mplot3d import proj3d\n",
    "from matplotlib import pyplot as plt\n",
    "from scipy.cluster.hierarchy import dendrogram, linkage\n",
    "import numpy as np\n",
    "from scipy.cluster.vq import kmeans,vq\n",
    "from scipy.spatial.distance import cdist\n",
    "from sklearn.decomposition import PCA as sklearnPCA\n",
    "\n",
    "#DBSCAN\n",
    "from sklearn.cluster import DBSCAN\n",
    "from sklearn import metrics\n",
    "from sklearn.datasets.samples_generator import make_blobs\n",
    "from sklearn.preprocessing import StandardScaler"
   ]
  },
  {
   "cell_type": "markdown",
   "metadata": {},
   "source": [
    "# Create Cell Data"
   ]
  },
  {
   "cell_type": "code",
   "execution_count": 2,
   "metadata": {
    "collapsed": true
   },
   "outputs": [],
   "source": [
    "np.random.seed(4294967295) # random seed for consistency"
   ]
  },
  {
   "cell_type": "markdown",
   "metadata": {},
   "source": [
    "# Cell 1 Data"
   ]
  },
  {
   "cell_type": "code",
   "execution_count": 395,
   "metadata": {
    "collapsed": false
   },
   "outputs": [
    {
     "data": {
      "text/plain": [
       "(30, 10)"
      ]
     },
     "execution_count": 395,
     "metadata": {},
     "output_type": "execute_result"
    }
   ],
   "source": [
    "#Set parameters\n",
    "mean_cell1 = [8,8,8,8,7,7,9,7,8,8]\n",
    "cov = np.identity(10) \n",
    "cell1 = np.random.multivariate_normal(mean_cell1, cov, 30)\n",
    "shape(cell1)"
   ]
  },
  {
   "cell_type": "markdown",
   "metadata": {},
   "source": [
    "# Cell 2 Data"
   ]
  },
  {
   "cell_type": "code",
   "execution_count": 396,
   "metadata": {
    "collapsed": false
   },
   "outputs": [
    {
     "data": {
      "text/plain": [
       "(30, 10)"
      ]
     },
     "execution_count": 396,
     "metadata": {},
     "output_type": "execute_result"
    }
   ],
   "source": [
    "mean_cell2 = [4,4,2,3,4,3,4,5,4,4]\n",
    "cov = np.identity(10) \n",
    "cell2 = np.random.multivariate_normal(mean_cell2, cov, 30)\n",
    "shape(cell2)\n"
   ]
  },
  {
   "cell_type": "markdown",
   "metadata": {},
   "source": [
    "# Cell 3 Data"
   ]
  },
  {
   "cell_type": "code",
   "execution_count": 477,
   "metadata": {
    "collapsed": false
   },
   "outputs": [
    {
     "data": {
      "text/plain": [
       "(30, 10)"
      ]
     },
     "execution_count": 477,
     "metadata": {},
     "output_type": "execute_result"
    }
   ],
   "source": [
    "mean_cell3 = [2,1,1,2,2,1,1,1,2,2]\n",
    "cov = np.identity(10) \n",
    "cell3 = np.random.multivariate_normal(mean_cell3, cov, 30)\n",
    "cell3 = np.abs(cell3)\n",
    "shape(cell3)"
   ]
  },
  {
   "cell_type": "markdown",
   "metadata": {},
   "source": [
    "# Dimension Viz + Plot without Drop Out "
   ]
  },
  {
   "cell_type": "code",
   "execution_count": 478,
   "metadata": {
    "collapsed": false
   },
   "outputs": [
    {
     "name": "stdout",
     "output_type": "stream",
     "text": [
      "(90, 10)\n"
     ]
    },
    {
     "data": {
      "text/plain": [
       "(90, 5)"
      ]
     },
     "execution_count": 478,
     "metadata": {},
     "output_type": "execute_result"
    }
   ],
   "source": [
    "#Cell PCA\n",
    "#feature space/genes = 10, samples = 90\n",
    "#each element is the level of expression (log read count) of the jth gene, ith sample\n",
    "\n",
    "t = np.concatenate((cell1, cell2, cell3),)\n",
    "print shape(t)\n",
    "pca1 = sklearnPCA(n_components=5)\n",
    "fitted1 = pca1.fit(t)\n",
    "trans1 = pca1.transform(t)\n",
    "shape(trans1)"
   ]
  },
  {
   "cell_type": "code",
   "execution_count": 479,
   "metadata": {
    "collapsed": true
   },
   "outputs": [],
   "source": [
    "# #Cell 2 PCA\n",
    "# pca2 = sklearnPCA(n_components=10)\n",
    "# fitted2 = pca2.fit(cell2)\n",
    "# trans2 = pca2.transform(cell2) "
   ]
  },
  {
   "cell_type": "code",
   "execution_count": 480,
   "metadata": {
    "collapsed": false
   },
   "outputs": [
    {
     "data": {
      "image/png": "[encoded data removed]",
      "text/plain": [
       "<matplotlib.figure.Figure at 0x111f51050>"
      ]
     },
     "metadata": {},
     "output_type": "display_data"
    }
   ],
   "source": [
    "plt.plot(trans1[:,0], trans1[:,1], 'o', markersize=7, color='blue', alpha=0.5, label='celldata')\n",
    "\n",
    "#plt.plot(trans2[:,0], trans2[:,1], '^', markersize=7, color='red', alpha=0.5, label='cell2')\n",
    "\n",
    "plt.xlabel('PC 1')\n",
    "plt.ylabel('PC 2')\n",
    "plt.xlim([-15,15])\n",
    "plt.ylim([-15,15])\n",
    "plt.legend()\n",
    "plt.title('Transformed samples without dropout rate')\n",
    "\n",
    "plt.show()"
   ]
  },
  {
   "cell_type": "code",
   "execution_count": 481,
   "metadata": {
    "collapsed": false
   },
   "outputs": [],
   "source": [
    "# trans1[:,1]"
   ]
  },
  {
   "cell_type": "code",
   "execution_count": null,
   "metadata": {
    "collapsed": false
   },
   "outputs": [],
   "source": []
  },
  {
   "cell_type": "markdown",
   "metadata": {},
   "source": [
    "# Drop out rate parameters"
   ]
  },
  {
   "cell_type": "code",
   "execution_count": 482,
   "metadata": {
    "collapsed": true
   },
   "outputs": [],
   "source": [
    "#mu is the mean vector aka centroid\n",
    "def drop_out(exp):\n",
    "    p = math.e**(-.1 * exp**2)\n",
    "    return np.random.binomial(1, p, 1)[0]"
   ]
  },
  {
   "cell_type": "code",
   "execution_count": 483,
   "metadata": {
    "collapsed": true
   },
   "outputs": [],
   "source": [
    "noise_1 = .1 * np.random.randn(shape(t)[0], shape(t)[1]) \n",
    "# noise_2 = .1 * np.random.randn(shape(cell2)[0], shape(cell2)[1]) "
   ]
  },
  {
   "cell_type": "code",
   "execution_count": 484,
   "metadata": {
    "collapsed": true
   },
   "outputs": [],
   "source": [
    "nsd1 = np.copy(t) + np.copy(noise_1)\n",
    "#nsd2 = np.copy(cell2) + np.copy(noise_2)"
   ]
  },
  {
   "cell_type": "code",
   "execution_count": 485,
   "metadata": {
    "collapsed": false
   },
   "outputs": [
    {
     "name": "stdout",
     "output_type": "stream",
     "text": [
      "304\n"
     ]
    }
   ],
   "source": [
    "count = 0\n",
    "for (i,j), value in numpy.ndenumerate(nsd1):\n",
    "    if (drop_out(value) == 1):\n",
    "        count += 1\n",
    "        nsd1[i,j] = 0\n",
    "print count"
   ]
  },
  {
   "cell_type": "code",
   "execution_count": 486,
   "metadata": {
    "collapsed": false
   },
   "outputs": [
    {
     "data": {
      "text/plain": [
       "(90, 10)"
      ]
     },
     "execution_count": 486,
     "metadata": {},
     "output_type": "execute_result"
    }
   ],
   "source": [
    "shape(nsd1)"
   ]
  },
  {
   "cell_type": "code",
   "execution_count": 487,
   "metadata": {
    "collapsed": false,
    "scrolled": true
   },
   "outputs": [
    {
     "data": {
      "text/plain": [
       "array([[  8.38871598,   7.12173947,   7.4701625 ,   6.97848565,\n",
       "          6.44337538,   8.21030113,   8.61651721,   6.88649471,\n",
       "          8.39789553,   7.47752582],\n",
       "       [  8.22064748,   6.18901253,   6.80296188,   7.44673231,\n",
       "          7.07420914,   4.80056369,   9.41077176,   7.05196943,\n",
       "          8.31771466,   8.58263027],\n",
       "       [  9.10679668,   7.01108129,   6.34855431,   6.52168758,\n",
       "          6.23538329,   6.70832088,   7.36702412,   8.25550906,\n",
       "          8.36720151,   9.14174509],\n",
       "       [  8.46666395,   8.85950286,   6.99434903,   9.24397854,\n",
       "          6.29612681,   6.8997123 ,   9.63095926,   7.47472254,\n",
       "          7.94118993,   9.07959917],\n",
       "       [  8.57152716,   8.8424006 ,   9.14511645,   7.79968476,\n",
       "          5.2749162 ,   7.39745085,   9.9989414 ,   5.89000317,\n",
       "          8.06145104,   7.67916602],\n",
       "       [  9.30762006,   9.0295999 ,   8.67545445,   8.47930416,\n",
       "          5.17312663,   6.21551918,   9.95874843,   9.01640405,\n",
       "          7.20285701,   8.33324517],\n",
       "       [  7.70204028,   8.56806107,   9.1619486 ,   9.12765463,\n",
       "          5.76927649,   6.20662128,   9.13526813,   6.44948733,\n",
       "          8.12579498,   7.30705326],\n",
       "       [  7.72191021,   7.32996302,   7.06519586,   8.74440931,\n",
       "          6.73946497,   7.36800376,   8.34855569,   7.25397143,\n",
       "          7.13209181,   9.6482588 ],\n",
       "       [  8.63101188,   7.88505421,   9.24787848,   6.29531553,\n",
       "          7.6710884 ,   5.7004096 ,   9.94815664,   8.18036891,\n",
       "          8.57755075,   6.07018777],\n",
       "       [  8.49359034,   8.27524283,   7.77317533,   7.95685943,\n",
       "          7.94046113,   8.07350018,   9.69248629,   6.68313314,\n",
       "          8.68689207,   8.11010212],\n",
       "       [  8.54049605,   6.94060098,   8.85176034,   9.40114503,\n",
       "          8.10142166,   7.3046412 ,   9.12352511,   8.10009753,\n",
       "          8.74869935,   8.07099222],\n",
       "       [  8.24728665,   8.11650302,   7.7510811 ,   8.17272683,\n",
       "          7.87215218,   8.00575754,   9.07773229,   6.77081718,\n",
       "          8.10720899,   8.54930861],\n",
       "       [  7.64284942,   8.26571809,   8.16805658,   8.41012707,\n",
       "          6.84805003,   5.72140194,   6.29800224,   5.2071269 ,\n",
       "          8.62843912,   8.00559159],\n",
       "       [  7.51566564,   6.95613059,   6.86545454,   7.95304225,\n",
       "          3.9680867 ,   8.20546757,   9.23631977,   9.03216439,\n",
       "          7.81849314,   8.18182821],\n",
       "       [  7.61338103,  10.62229528,   6.75463954,   7.28970386,\n",
       "          8.92517102,   7.49425721,  10.66146035,   8.44604843,\n",
       "          8.66957721,   7.86538645],\n",
       "       [  8.78184454,   8.29654438,   8.76500822,   8.81980763,\n",
       "          0.        ,   6.75178616,   8.86523698,   6.96233777,\n",
       "          7.42531546,   6.53522387],\n",
       "       [  9.13120278,   7.89060313,   9.11860772,   6.49526582,\n",
       "          5.89763247,   7.71076333,   9.86399382,   7.16659735,\n",
       "          8.62603006,   7.82991691],\n",
       "       [  6.88402864,   8.06659251,   8.32516286,   9.58008094,\n",
       "          6.84395836,   5.98341612,   8.13878685,   7.26153697,\n",
       "          8.40756035,   6.75089402],\n",
       "       [  8.70815351,   9.3266147 ,   6.72029755,   6.57711061,\n",
       "          7.09323272,   7.90631053,   8.51981693,   7.20170859,\n",
       "          7.59979627,   8.44248477],\n",
       "       [  9.32069327,   7.59051771,   8.83966984,   8.14257386,\n",
       "          6.85947882,   8.23957029,   8.15117094,   7.31598343,\n",
       "          5.95227562,   6.93064135],\n",
       "       [  8.55952195,   7.94016704,   8.72988983,   7.84080672,\n",
       "          9.61582473,   7.92014488,   8.41697996,   5.08737994,\n",
       "          7.92830468,   9.54694903],\n",
       "       [  7.94036357,   8.12842779,   6.98034687,   6.69599112,\n",
       "          7.57857518,   0.        ,  10.72408618,   5.73972358,\n",
       "          7.63901047,   7.34335709],\n",
       "       [  9.30210954,   8.99010585,   8.21776046,   5.97390983,\n",
       "          6.19744864,   7.21170513,   8.44013355,   6.86202583,\n",
       "          6.94878652,   7.42644709],\n",
       "       [  6.94893494,   9.39737325,   7.47665769,   9.37430743,\n",
       "          6.07041377,   7.47264508,   8.48646272,   6.86126488,\n",
       "          8.22109449,   8.92250848],\n",
       "       [  9.5232561 ,   7.13524181,   8.93418365,   9.22141012,\n",
       "          7.46347422,   6.32193251,   8.35383545,   7.62315207,\n",
       "          8.60419203,   7.47130757],\n",
       "       [  0.        ,   8.90709536,  10.10749373,   6.92901264,\n",
       "          6.26783075,   7.65867567,   8.72257942,   6.35518548,\n",
       "          8.64664997,   7.8138159 ],\n",
       "       [  8.30498394,   7.13036952,   8.55842942,   8.39309954,\n",
       "          7.0071526 ,   7.08675441,   8.68441194,   6.8920206 ,\n",
       "          8.67291175,   8.00314963],\n",
       "       [  8.11619862,   7.59753753,   8.02633081,   7.13296259,\n",
       "          6.92161888,   7.10941541,   8.76734312,   6.09274758,\n",
       "          7.34279685,   8.54235388],\n",
       "       [  7.80758099,   6.96185892,   6.64343729,  10.89089466,\n",
       "          8.84029574,   4.69578571,   9.42899303,   6.87051721,\n",
       "          8.69721404,   6.03278304],\n",
       "       [  7.25321518,   7.14362723,   8.56200429,   9.62054463,\n",
       "          8.30559188,   6.88438201,   8.41743278,   7.37609318,\n",
       "          7.77105764,   7.16209562],\n",
       "       [  4.93885373,   3.21897515,   0.        ,   0.        ,\n",
       "          3.42122196,   3.68656866,   4.90560445,   5.32728815,\n",
       "          2.1677517 ,   5.60914961],\n",
       "       [  3.24463219,   6.9028659 ,   0.97491319,   0.        ,\n",
       "          5.01933631,   3.22821439,   4.86982058,   4.93335998,\n",
       "          2.56842061,   3.61937342],\n",
       "       [  5.28663847,   4.86674754,   0.        ,   4.28402569,\n",
       "          0.        ,   0.        ,   4.42068011,   0.        ,\n",
       "          0.        ,   0.        ],\n",
       "       [  4.69580849,   5.00695737,   3.06114387,   3.17948873,\n",
       "          3.99116776,   0.        ,   5.08181627,   5.93127641,\n",
       "          0.        ,   4.26550909],\n",
       "       [  3.07128633,   4.69359524,   0.        ,   0.        ,\n",
       "          0.        ,   0.        ,   5.17221295,   5.0377185 ,\n",
       "          3.26834823,   5.43383989],\n",
       "       [  3.41358461,   4.83075706,   2.49890869,   4.40976743,\n",
       "          3.50613522,   2.6227893 ,   4.29576969,   4.48088419,\n",
       "          5.24367599,   4.07967822],\n",
       "       [  5.0558155 ,   5.71445618,   3.28190545,   3.61525315,\n",
       "          0.        ,   0.        ,   3.35697444,   4.84384936,\n",
       "          5.03205229,   4.4991832 ],\n",
       "       [  3.81646056,   4.27003399,   2.7078818 ,   0.        ,\n",
       "          0.        ,   3.88581816,   4.04318463,   4.75796623,\n",
       "          4.16896901,   3.66869653],\n",
       "       [  2.70412932,   5.59775269,   0.        ,   0.        ,\n",
       "          0.        ,   4.6846097 ,   0.        ,   6.24597338,\n",
       "          4.63408462,   0.        ],\n",
       "       [  0.        ,   4.83732154,   0.        ,   0.        ,\n",
       "          3.65394936,   3.69199044,   0.        ,   0.        ,\n",
       "          3.7626359 ,   2.89400855],\n",
       "       [  5.1688853 ,   5.73808831,   0.        ,   4.14660616,\n",
       "          0.        ,   2.42421045,   2.46285087,   5.14276718,\n",
       "          3.67653586,   4.03503273],\n",
       "       [  3.38086869,   6.69068551,   0.        ,   3.59714911,\n",
       "          4.55029145,   4.08143181,   4.61645253,   4.67496908,\n",
       "          5.21400799,   3.26905859],\n",
       "       [  3.44300586,   4.14735945,   2.09850958,   3.58317791,\n",
       "          0.        ,   3.781602  ,   4.77958714,   6.70248348,\n",
       "          0.        ,   3.12308726],\n",
       "       [  4.86523459,   4.83531587,   0.        ,   2.58064725,\n",
       "          4.10606856,   2.61781232,   0.        ,   4.10923111,\n",
       "          0.        ,   4.06294531],\n",
       "       [  0.        ,   0.        ,   0.        ,   2.98480281,\n",
       "          0.        ,   4.16971671,   4.87563414,   6.39245511,\n",
       "          3.66090272,   4.35013089],\n",
       "       [  5.2703801 ,   4.71031382,   0.        ,   4.12517615,\n",
       "          4.00094122,   2.72759814,   5.82383437,   5.13787395,\n",
       "          3.83538313,   4.38729488],\n",
       "       [  3.74473928,   0.        ,   3.32719544,   2.56963705,\n",
       "          5.50618393,   0.        ,   2.6043341 ,   5.27165293,\n",
       "          4.13875193,   0.        ],\n",
       "       [  3.38511456,   4.46260902,   0.        ,   2.46707063,\n",
       "          2.87575631,   0.        ,   4.1840158 ,   6.72863638,\n",
       "          4.81968915,   3.45650621],\n",
       "       [  0.        ,   0.        ,   2.63355013,   3.05640045,\n",
       "          4.83217388,   0.        ,   2.29111854,   4.99124248,\n",
       "          4.64458898,   3.34845187],\n",
       "       [  4.93983012,   0.        ,   0.        ,   0.        ,\n",
       "          5.0944225 ,   0.        ,   4.29163052,   3.05859574,\n",
       "          0.        ,   4.34525709],\n",
       "       [  3.07816903,   5.94792022,   0.        ,   2.27036646,\n",
       "          2.30607312,   2.48226906,   0.        ,   5.3701288 ,\n",
       "          0.        ,   5.53479851],\n",
       "       [  0.        ,   3.40674362,   0.        ,   3.04686398,\n",
       "          4.08429968,   4.1124382 ,   5.79188034,   4.9062111 ,\n",
       "          5.93910746,   0.        ],\n",
       "       [  5.00050539,   5.7185286 ,   0.        ,   0.        ,\n",
       "          4.21218538,   0.        ,   3.00302759,   5.40942909,\n",
       "          4.18797536,   5.26982359],\n",
       "       [  3.36409103,   0.        ,   2.28568733,   4.69623767,\n",
       "          4.64324791,   4.81404729,   0.        ,   0.        ,\n",
       "          4.23364514,   0.        ],\n",
       "       [  4.29293239,   5.52497349,   3.30571335,   4.81994085,\n",
       "          0.        ,   4.44313591,   4.21511386,   4.36073994,\n",
       "          4.50809255,   5.09838644],\n",
       "       [  4.97293905,   0.        ,   0.        ,   2.40141127,\n",
       "          4.28104913,   0.        ,   3.14929017,   4.70102233,\n",
       "          0.        ,   4.77004323],\n",
       "       [  5.36749999,   4.22837442,   0.        ,   0.        ,\n",
       "          4.0439699 ,   0.        ,   3.84352237,   5.21366391,\n",
       "          3.93888086,   3.92095522],\n",
       "       [  4.40641286,   3.95860663,   0.        ,   2.3675487 ,\n",
       "          3.89707596,   2.65206635,   4.51215229,   5.41846584,\n",
       "          4.5747827 ,   5.31669008],\n",
       "       [  4.55718242,   4.61731106,   2.63424376,   3.96143916,\n",
       "          6.42357807,   4.5792825 ,   0.        ,   5.02284499,\n",
       "          5.777593  ,   3.25219686],\n",
       "       [  4.20141068,   2.59117436,   0.        ,   3.30796732,\n",
       "          4.08535996,   2.54008165,   0.        ,   3.73828889,\n",
       "          3.29275707,   5.54471951],\n",
       "       [  3.96384783,   0.        ,   2.82880462,   2.99750675,\n",
       "          1.96882199,   0.        ,   0.        ,   0.        ,\n",
       "          0.        ,   0.        ],\n",
       "       [  3.17859021,   1.74325346,   0.        ,   0.        ,\n",
       "          0.        ,   0.        ,   0.        ,   0.        ,\n",
       "          0.        ,   3.72687802],\n",
       "       [  0.        ,   0.        ,   0.        ,   2.09999131,\n",
       "          0.        ,   0.        ,   1.96219269,   0.        ,\n",
       "          0.        ,   0.        ],\n",
       "       [  0.        ,   1.73614319,   0.        ,   0.        ,\n",
       "          0.        ,   0.        ,   0.        ,   0.        ,\n",
       "          2.32546172,   0.        ],\n",
       "       [  3.46764551,   0.        ,   0.        ,   0.        ,\n",
       "          0.        ,   0.        ,   2.38076071,   2.0747395 ,\n",
       "          0.        ,   0.        ],\n",
       "       [  0.        ,   0.        ,   2.26377595,   3.71269646,\n",
       "          0.        ,   0.        ,   0.        ,   2.76128689,\n",
       "          1.6371984 ,   0.        ],\n",
       "       [  0.        ,   0.        ,   0.        ,   3.29608119,\n",
       "          0.        ,   0.        ,   2.66761959,   2.79452598,\n",
       "          2.3910443 ,   3.37982655],\n",
       "       [  3.05874366,   0.        ,   0.        ,   0.        ,\n",
       "          0.        ,   0.        ,   0.        ,   0.        ,\n",
       "          2.08140844,   1.98828638],\n",
       "       [  0.        ,   0.        ,   0.        ,   2.34664434,\n",
       "          2.51321421,   0.        ,   1.39691093,   0.        ,\n",
       "          0.        ,   0.        ],\n",
       "       [  0.        ,   0.        ,   0.        ,   0.        ,\n",
       "          0.        ,   0.        ,   0.        ,   0.        ,\n",
       "          2.80404592,   0.        ],\n",
       "       [  3.38630729,   0.        ,   0.        ,   0.        ,\n",
       "          1.92225367,   2.65578972,   0.        ,   0.        ,\n",
       "          0.        ,   0.        ],\n",
       "       [  3.18664642,   1.87868783,   0.        ,   2.93161441,\n",
       "          0.        ,   0.        ,   0.        ,   0.        ,\n",
       "          0.        ,   0.        ],\n",
       "       [  0.        ,   0.        ,   0.        ,   0.        ,\n",
       "          0.        ,   0.        ,   0.        ,   0.        ,\n",
       "          0.        ,   0.        ],\n",
       "       [  0.        ,   0.        ,   0.        ,   0.        ,\n",
       "          0.        ,   0.        ,   0.        ,   0.        ,\n",
       "          1.97671067,   2.8118924 ],\n",
       "       [  0.        ,   0.        ,   0.        ,   0.        ,\n",
       "          2.57624011,   0.        ,   2.40960607,   0.        ,\n",
       "          3.00580958,   0.        ],\n",
       "       [  0.        ,   0.        ,   0.        ,   0.        ,\n",
       "          0.        ,   0.        ,   0.        ,   0.        ,\n",
       "          0.        ,   2.07116445],\n",
       "       [  0.        ,   0.        ,   1.96128377,   3.60572687,\n",
       "          0.        ,   0.        ,   0.        ,   0.        ,\n",
       "          0.        ,   1.41882355],\n",
       "       [  3.15638651,   0.        ,   0.        ,   0.        ,\n",
       "          2.14229011,   0.        ,   0.        ,   0.        ,\n",
       "          0.        ,   0.        ],\n",
       "       [  0.        ,   0.        ,   0.        ,   2.46745673,\n",
       "          0.        ,   1.55406311,   0.        ,   0.        ,\n",
       "          1.52341063,   3.3512734 ],\n",
       "       [  0.        ,   2.71555823,   0.        ,   0.        ,\n",
       "          0.        ,   0.        ,   0.        ,   0.        ,\n",
       "          4.73871073,   0.        ],\n",
       "       [  0.        ,   0.        ,   0.        ,   0.        ,\n",
       "          3.28715436,   2.9427151 ,   0.        ,   0.        ,\n",
       "          2.9778313 ,   0.        ],\n",
       "       [  0.        ,   0.        ,   0.        ,   3.66980237,\n",
       "          1.83447709,   0.        ,   0.        ,   0.        ,\n",
       "          0.        ,   0.        ],\n",
       "       [  0.        ,   0.        ,   0.        ,   0.        ,\n",
       "          0.        ,   0.        ,   0.        ,   0.        ,\n",
       "          3.57955206,   3.54059266],\n",
       "       [  0.        ,   0.        ,   0.        ,   3.04965083,\n",
       "          3.92572671,   2.44710403,   0.        ,   0.        ,\n",
       "          2.71037573,   0.        ],\n",
       "       [  0.        ,   3.3935033 ,   0.        ,   2.69392358,\n",
       "          0.        ,   0.        ,   0.        ,   0.        ,\n",
       "          0.        ,   2.89532009],\n",
       "       [  3.13580484,   0.        ,   0.        ,   0.        ,\n",
       "          0.        ,   0.        ,   0.        ,   0.        ,\n",
       "          0.        ,   0.        ],\n",
       "       [  0.        ,   0.        ,   0.        ,   0.        ,\n",
       "          0.        ,   0.        ,   0.        ,   0.        ,\n",
       "          0.        ,   0.        ],\n",
       "       [  0.        ,   0.        ,   0.96055449,   0.        ,\n",
       "          0.        ,   3.05852383,   1.43868449,   0.        ,\n",
       "          0.        ,   1.75114118],\n",
       "       [  2.06426009,   0.        ,   0.        ,   2.25980987,\n",
       "          0.        ,   0.        ,   0.        ,   0.        ,\n",
       "          0.        ,   3.11564335],\n",
       "       [  0.        ,   2.89835783,   0.        ,   0.        ,\n",
       "          3.17489997,   2.13425577,   0.        ,   0.        ,\n",
       "          0.        ,   3.6290283 ]])"
      ]
     },
     "execution_count": 487,
     "metadata": {},
     "output_type": "execute_result"
    }
   ],
   "source": [
    "nsd1"
   ]
  },
  {
   "cell_type": "code",
   "execution_count": 488,
   "metadata": {
    "collapsed": false
   },
   "outputs": [
    {
     "data": {
      "image/png": "[encoded data removed]",
      "text/plain": [
       "<matplotlib.figure.Figure at 0x1107823d0>"
      ]
     },
     "metadata": {},
     "output_type": "display_data"
    }
   ],
   "source": [
    "plt.plot(nsd1[:,0], nsd1[:,1], 'o', markersize=7, color='blue', alpha=0.5, label='dropped')\n",
    "plt.plot(t[:,0], t[:,1], 'o', markersize=7, color='red', alpha=0.5, label='non dropped')\n",
    "plt.xlabel(\"X\")\n",
    "plt.ylabel(\"Y\")\n",
    "plt.xlim([-2.5,15])\n",
    "plt.ylim([-2.5,15])\n",
    "plt.legend()\n",
    "plt.title('Samples with dropout rate')\n",
    "\n",
    "plt.show()"
   ]
  },
  {
   "cell_type": "markdown",
   "metadata": {
    "collapsed": true
   },
   "source": [
    "# With Dropout Visualization"
   ]
  },
  {
   "cell_type": "code",
   "execution_count": 489,
   "metadata": {
    "collapsed": false
   },
   "outputs": [
    {
     "data": {
      "text/plain": [
       "array([ 0.81242968,  0.04163474,  0.02895869,  0.02856545,  0.02203571])"
      ]
     },
     "execution_count": 489,
     "metadata": {},
     "output_type": "execute_result"
    }
   ],
   "source": [
    "#Cell PCA\n",
    "#feature space = 90, samples = 10\n",
    "pca2 = sklearnPCA(n_components=5)\n",
    "fitted1 = pca2.fit(nsd1)\n",
    "trans2 = pca2.transform(nsd1)\n",
    "shape(trans2)\n",
    "pca2.explained_variance_ratio_ "
   ]
  },
  {
   "cell_type": "code",
   "execution_count": 490,
   "metadata": {
    "collapsed": false
   },
   "outputs": [
    {
     "data": {
      "image/png": "[encoded data removed]",
      "text/plain": [
       "<matplotlib.figure.Figure at 0x110baf050>"
      ]
     },
     "metadata": {},
     "output_type": "display_data"
    }
   ],
   "source": [
    "plt.plot(trans2[:,0], trans2[:,1], 'o', markersize=7, color='blue', alpha=0.5, label='cells')\n",
    "\n",
    "plt.xlabel('PC 1')\n",
    "plt.ylabel('PC 2')\n",
    "plt.xlim([-20,15])\n",
    "plt.ylim([-20,15])\n",
    "plt.legend()\n",
    "plt.title('Transformed samples with dropout rate')\n",
    "\n",
    "plt.show()"
   ]
  },
  {
   "cell_type": "code",
   "execution_count": 491,
   "metadata": {
    "collapsed": false
   },
   "outputs": [],
   "source": [
    "ls =np.concatenate((trans2[:,0], trans2[:,1]))"
   ]
  },
  {
   "cell_type": "markdown",
   "metadata": {
    "collapsed": true
   },
   "source": [
    "# Methods"
   ]
  },
  {
   "cell_type": "code",
   "execution_count": 550,
   "metadata": {
    "collapsed": false
   },
   "outputs": [],
   "source": [
    "def find_avgWithinSS(matrix, maxclusters=10):\n",
    "    K = range(1, maxclusters)\n",
    "    KM = [kmeans(matrix,k) for k in K]\n",
    "    centroids = [cent for (cent,var) in KM]   \n",
    "    D_k = [cdist(matrix, cent, 'euclidean') for cent in centroids]\n",
    "    cIdx = [np.argmin(D,axis=1) for D in D_k]\n",
    "    dist = [np.min(D,axis=1) for D in D_k]\n",
    "    avgWithinSS = [sum(d)/matrix.shape[0] for d in dist]\n",
    "    return avgWithinSS\n",
    "\n",
    "def find_centroid(matrix):\n",
    "    K = findK(find_avgWithinSS(matrix))\n",
    "    KM = [kmeans(matrix, K)]\n",
    "    centroids = [cent for (cent,var) in KM]\n",
    "    return centroids\n",
    "\n",
    "# def findK(points, num_derivatives=1):\n",
    "#     for x in range(0,num_derivatives):\n",
    "#         points = np.diff(points)\n",
    "#     ret = (list(points))\n",
    "#     ret = [abs(p) for p in points]\n",
    "#     print ret\n",
    "#     return ret.index(max(ret))\n",
    "\n",
    "def findK(points, tol = .90):\n",
    "    cache = []\n",
    "    for p in range(len(points) - 1):\n",
    "        diff = points[p] - points[p + 1]\n",
    "        cache.append(diff)\n",
    "    count = 0\n",
    "    buff = 0\n",
    "    while(buff/sum(cache) < tol):\n",
    "        buff += cache[count]\n",
    "        count += 1\n",
    "    print buff\n",
    "    return count + 1"
   ]
  },
  {
   "cell_type": "code",
   "execution_count": null,
   "metadata": {
    "collapsed": false
   },
   "outputs": [],
   "source": []
  },
  {
   "cell_type": "code",
   "execution_count": 573,
   "metadata": {
    "collapsed": false
   },
   "outputs": [
    {
     "name": "stdout",
     "output_type": "stream",
     "text": [
      "6.29332854408\n"
     ]
    },
    {
     "data": {
      "text/plain": [
       "3"
      ]
     },
     "execution_count": 573,
     "metadata": {},
     "output_type": "execute_result"
    }
   ],
   "source": [
    "findK(find_avgWithinSS(trans2))"
   ]
  },
  {
   "cell_type": "code",
   "execution_count": 556,
   "metadata": {
    "collapsed": false
   },
   "outputs": [
    {
     "data": {
      "text/plain": [
       "4"
      ]
     },
     "execution_count": 556,
     "metadata": {},
     "output_type": "execute_result"
    }
   ],
   "source": [
    "found"
   ]
  },
  {
   "cell_type": "code",
   "execution_count": 575,
   "metadata": {
    "collapsed": false
   },
   "outputs": [
    {
     "name": "stdout",
     "output_type": "stream",
     "text": [
      "6.29332854408\n",
      "K 3\n"
     ]
    },
    {
     "data": {
      "image/png": "[encoded data removed]",
      "text/plain": [
       "<matplotlib.figure.Figure at 0x11065ff90>"
      ]
     },
     "metadata": {},
     "output_type": "display_data"
    },
    {
     "data": {
      "image/png": "[encoded data removed]",
      "text/plain": [
       "<matplotlib.figure.Figure at 0x110020dd0>"
      ]
     },
     "metadata": {},
     "output_type": "display_data"
    },
    {
     "name": "stdout",
     "output_type": "stream",
     "text": [
      "9\n"
     ]
    }
   ],
   "source": [
    "maxclusters=10\n",
    "##### plot ###\n",
    "avg = find_avgWithinSS(trans2)\n",
    "found = findK(avg)\n",
    "print \"K\", found\n",
    "kIdx = found - 1\n",
    "K = range(1, maxclusters)\n",
    "KM = [kmeans(trans2,k) for k in K]\n",
    "centroids = [cent for (cent,var) in KM]   \n",
    "D_k = [cdist(trans2, cent, 'euclidean') for cent in centroids]\n",
    "cIdx = [np.argmin(D,axis=1) for D in D_k]\n",
    "\n",
    "# elbow curve\n",
    "fig = plt.figure()\n",
    "ax = fig.add_subplot(111)\n",
    "ax.plot(K, find_avgWithinSS(trans2), 'b*-')\n",
    "ax.plot(K[kIdx], find_avgWithinSS(trans2)[kIdx], marker='o', markersize=12, \n",
    "    markeredgewidth=2, markeredgecolor='r', markerfacecolor='None')\n",
    "plt.grid(True)\n",
    "plt.xlabel('Number of clusters')\n",
    "plt.ylabel('Average within-cluster sum of squares')\n",
    "plt.title('Elbow for KMeans clustering')\n",
    "\n",
    "# scatter plot\n",
    "fig = plt.figure()\n",
    "ax = fig.add_subplot(111)\n",
    "#ax.scatter(X[:,2],X[:,1], s=30, c=cIdx[k])\n",
    "clr = ['b','g','r','c','m','y','k']\n",
    "for i in range(K[kIdx]):\n",
    "    ind = (cIdx[kIdx]==i)\n",
    "    ax.scatter(trans2[ind,0],trans2[ind,1], s=30, c=clr[i], label='Cluster %d'%i)\n",
    "plt.xlabel('Y')\n",
    "plt.ylabel('X')\n",
    "plt.xlim([-20,15])\n",
    "plt.ylim([-20,15])\n",
    "plt.title('Cells, KMeans clustering with K=%d' % K[kIdx])\n",
    "#plt.legend()\n",
    "\n",
    "plt.show()\n",
    "print len(centroids)"
   ]
  },
  {
   "cell_type": "code",
   "execution_count": 595,
   "metadata": {
    "collapsed": false,
    "scrolled": false
   },
   "outputs": [
    {
     "name": "stdout",
     "output_type": "stream",
     "text": [
      "5.84540720793\n",
      "5.84540720793\n",
      "5.84540720793\n"
     ]
    }
   ],
   "source": [
    "rm1 = find_centroid(nsd1)[0][0]\n",
    "rm2 = find_centroid(nsd1)[0][1]\n",
    "rm3 = find_centroid(nsd1)[0][1]\n",
    "centroids = [rm1, rm2, rm3]"
   ]
  },
  {
   "cell_type": "code",
   "execution_count": 604,
   "metadata": {
    "collapsed": false
   },
   "outputs": [
    {
     "name": "stdout",
     "output_type": "stream",
     "text": [
      "5.84540720793\n",
      "K 3\n"
     ]
    },
    {
     "data": {
      "image/png": "[encoded data removed]",
      "text/plain": [
       "<matplotlib.figure.Figure at 0x10ffe2950>"
      ]
     },
     "metadata": {},
     "output_type": "display_data"
    },
    {
     "data": {
      "image/png": "[encoded data removed]",
      "text/plain": [
       "<matplotlib.figure.Figure at 0x10ffbd5d0>"
      ]
     },
     "metadata": {},
     "output_type": "display_data"
    },
    {
     "data": {
      "image/png": "[encoded data removed]",
      "text/plain": [
       "<matplotlib.figure.Figure at 0x111e7b590>"
      ]
     },
     "metadata": {},
     "output_type": "display_data"
    },
    {
     "data": {
      "image/png": "[encoded data removed]",
      "text/plain": [
       "<matplotlib.figure.Figure at 0x110028510>"
      ]
     },
     "metadata": {},
     "output_type": "display_data"
    },
    {
     "data": {
      "image/png": "[encoded data removed]",
      "text/plain": [
       "<matplotlib.figure.Figure at 0x110f38c90>"
      ]
     },
     "metadata": {},
     "output_type": "display_data"
    },
    {
     "data": {
      "image/png": "[encoded data removed]",
      "text/plain": [
       "<matplotlib.figure.Figure at 0x111fa3d90>"
      ]
     },
     "metadata": {},
     "output_type": "display_data"
    }
   ],
   "source": [
    "maxclusters=10\n",
    "##### plot ###\n",
    "avg = find_avgWithinSS(nsd1)\n",
    "found = findK(avg)\n",
    "print \"K\", found\n",
    "kIdx = found - 1\n",
    "K = range(1, maxclusters)\n",
    "KM = [kmeans(nsd1,k) for k in K]\n",
    "centroids = [cent for (cent,var) in KM]   \n",
    "D_k = [cdist(nsd1, cent, 'euclidean') for cent in centroids]\n",
    "cIdx = [np.argmin(D,axis=1) for D in D_k]\n",
    "\n",
    "# elbow curve\n",
    "fig = plt.figure()\n",
    "ax = fig.add_subplot(111)\n",
    "ax.plot(K, find_avgWithinSS(nsd1), 'b*-')\n",
    "ax.plot(K[kIdx], find_avgWithinSS(nsd1)[kIdx], marker='o', markersize=12, \n",
    "    markeredgewidth=2, markeredgecolor='r', markerfacecolor='None')\n",
    "plt.grid(True)\n",
    "plt.xlabel('Number of clusters')\n",
    "plt.ylabel('Average within-cluster sum of squares')\n",
    "plt.title('Elbow for KMeans clustering')\n",
    "\n",
    "# scatter plot\n",
    "fig = plt.figure()\n",
    "ax = fig.add_subplot(111)\n",
    "#ax.scatter(X[:,2],X[:,1], s=30, c=cIdx[k])\n",
    "clr = ['b','g','r','c','m','y','k']\n",
    "for i in range(K[kIdx]):\n",
    "    ind = (cIdx[kIdx]==i)\n",
    "    ax.scatter(nsd1[ind,0],nsd1[ind,1], s=30, c=clr[i], label='Cluster %d'%i)\n",
    "plt.xlabel('Y')\n",
    "plt.ylabel('X')\n",
    "plt.xlim([-1.5,15])\n",
    "plt.ylim([-1.5,15])\n",
    "plt.title('1v2, KMeans clustering with K=%d' % K[kIdx])\n",
    "#plt.legend()\n",
    "\n",
    "plt.show()\n",
    "\n",
    "fig = plt.figure()\n",
    "ax = fig.add_subplot(111)\n",
    "#ax.scatter(X[:,2],X[:,1], s=30, c=cIdx[k])\n",
    "clr = ['b','g','r','c','m','y','k']\n",
    "for i in range(K[kIdx]):\n",
    "    ind = (cIdx[kIdx]==i)\n",
    "    ax.scatter(nsd1[ind,1],nsd1[ind,2], s=30, c=clr[i], label='Cluster %d'%i)\n",
    "plt.xlabel('Y')\n",
    "plt.ylabel('X')\n",
    "plt.xlim([-1.5,15])\n",
    "plt.ylim([-1.5,15])\n",
    "plt.title('2v3, KMeans clustering with K=%d' % K[kIdx])\n",
    "#plt.legend()\n",
    "\n",
    "plt.show()\n",
    "\n",
    "fig = plt.figure()\n",
    "ax = fig.add_subplot(111)\n",
    "#ax.scatter(X[:,2],X[:,1], s=30, c=cIdx[k])\n",
    "clr = ['b','g','r','c','m','y','k']\n",
    "for i in range(K[kIdx]):\n",
    "    ind = (cIdx[kIdx]==i)\n",
    "    ax.scatter(nsd1[ind,2],nsd1[ind,3], s=30, c=clr[i], label='Cluster %d'%i)\n",
    "plt.xlabel('Y')\n",
    "plt.ylabel('X')\n",
    "plt.xlim([-1.5,15])\n",
    "plt.ylim([-1.5,15])\n",
    "plt.title('3v4, KMeans clustering with K=%d' % K[kIdx])\n",
    "#plt.legend()\n",
    "\n",
    "plt.show()\n",
    "\n",
    "\n",
    "fig = plt.figure()\n",
    "ax = fig.add_subplot(111)\n",
    "#ax.scatter(X[:,2],X[:,1], s=30, c=cIdx[k])\n",
    "clr = ['b','g','r','c','m','y','k']\n",
    "for i in range(K[kIdx]):\n",
    "    ind = (cIdx[kIdx]==i)\n",
    "    ax.scatter(nsd1[ind,3],nsd1[ind,4], s=30, c=clr[i], label='Cluster %d'%i)\n",
    "plt.xlabel('Y')\n",
    "plt.ylabel('X')\n",
    "plt.xlim([-1.5,15])\n",
    "plt.ylim([-1.5,15])\n",
    "plt.title('4v5, KMeans clustering with K=%d' % K[kIdx])\n",
    "#plt.legend()\n",
    "\n",
    "plt.show()\n",
    "\n",
    "fig = plt.figure()\n",
    "ax = fig.add_subplot(111)\n",
    "#ax.scatter(X[:,2],X[:,1], s=30, c=cIdx[k])\n",
    "clr = ['b','g','r','c','m','y','k']\n",
    "for i in range(K[kIdx]):\n",
    "    ind = (cIdx[kIdx]==i)\n",
    "    ax.scatter(nsd1[ind,4],nsd1[ind,5], s=30, c=clr[i], label='Cluster %d'%i)\n",
    "plt.xlabel('Y')\n",
    "plt.ylabel('X')\n",
    "plt.xlim([-1.5,15])\n",
    "plt.ylim([-1.5,15])\n",
    "plt.title('5v6, KMeans clustering with K=%d' % K[kIdx])\n",
    "#plt.legend()\n",
    "\n",
    "plt.show()\n"
   ]
  },
  {
   "cell_type": "code",
   "execution_count": null,
   "metadata": {
    "collapsed": false
   },
   "outputs": [],
   "source": []
  },
  {
   "cell_type": "code",
   "execution_count": null,
   "metadata": {
    "collapsed": true
   },
   "outputs": [],
   "source": []
  },
  {
   "cell_type": "code",
   "execution_count": null,
   "metadata": {
    "collapsed": true
   },
   "outputs": [],
   "source": []
  },
  {
   "cell_type": "code",
   "execution_count": null,
   "metadata": {
    "collapsed": true
   },
   "outputs": [],
   "source": []
  },
  {
   "cell_type": "code",
   "execution_count": null,
   "metadata": {
    "collapsed": true
   },
   "outputs": [],
   "source": []
  },
  {
   "cell_type": "code",
   "execution_count": null,
   "metadata": {
    "collapsed": true
   },
   "outputs": [],
   "source": []
  },
  {
   "cell_type": "code",
   "execution_count": null,
   "metadata": {
    "collapsed": true
   },
   "outputs": [],
   "source": []
  }
 ],
 "metadata": {
  "kernelspec": {
   "display_name": "Python 2",
   "language": "python",
   "name": "python2"
  },
  "language_info": {
   "codemirror_mode": {
    "name": "ipython",
    "version": 2
   },
   "file_extension": ".py",
   "mimetype": "text/x-python",
   "name": "python",
   "nbconvert_exporter": "python",
   "pygments_lexer": "ipython2",
   "version": "2.7.11"
  }
 },
 "nbformat": 4,
 "nbformat_minor": 0
}

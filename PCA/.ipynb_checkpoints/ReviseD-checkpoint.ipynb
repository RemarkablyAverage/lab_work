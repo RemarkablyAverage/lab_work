{
 "cells": [
  {
   "cell_type": "markdown",
   "metadata": {},
   "source": [
    "# Create Data for PCA"
   ]
  },
  {
   "cell_type": "code",
   "execution_count": 20,
   "metadata": {
    "collapsed": false
   },
   "outputs": [
    {
     "name": "stdout",
     "output_type": "stream",
     "text": [
      "Populating the interactive namespace from numpy and matplotlib\n"
     ]
    },
    {
     "name": "stderr",
     "output_type": "stream",
     "text": [
      "WARNING: pylab import has clobbered these variables: ['cov']\n",
      "`%matplotlib` prevents importing * from pylab and numpy\n"
     ]
    }
   ],
   "source": [
    "import numpy as np\n",
    "import math\n",
    "%pylab inline\n",
    "from matplotlib import pyplot as plt\n",
    "from mpl_toolkits.mplot3d import Axes3D\n",
    "from mpl_toolkits.mplot3d import proj3d\n",
    "from matplotlib import pyplot as plt\n",
    "from scipy.cluster.hierarchy import dendrogram, linkage\n",
    "import numpy as np\n",
    "from scipy.cluster.vq import kmeans,vq\n",
    "from scipy.spatial.distance import cdist\n",
    "from sklearn.decomposition import PCA as sklearnPCA\n"
   ]
  },
  {
   "cell_type": "markdown",
   "metadata": {},
   "source": [
    "# Create Cell Data"
   ]
  },
  {
   "cell_type": "code",
   "execution_count": 6,
   "metadata": {
    "collapsed": true
   },
   "outputs": [],
   "source": [
    "np.random.seed(4294967295) # random seed for consistency"
   ]
  },
  {
   "cell_type": "markdown",
   "metadata": {},
   "source": [
    "# Cell 1 Data"
   ]
  },
  {
   "cell_type": "code",
   "execution_count": 130,
   "metadata": {
    "collapsed": false
   },
   "outputs": [
    {
     "data": {
      "text/plain": [
       "(30, 10)"
      ]
     },
     "execution_count": 130,
     "metadata": {},
     "output_type": "execute_result"
    }
   ],
   "source": [
    "#Set parameters\n",
    "mean_cell1 = [8] * 10\n",
    "cov = np.identity(10) \n",
    "cell1 = np.random.multivariate_normal(mean_cell1, cov, 30)\n",
    "shape(cell1)"
   ]
  },
  {
   "cell_type": "markdown",
   "metadata": {},
   "source": [
    "# Cell 2 Data"
   ]
  },
  {
   "cell_type": "code",
   "execution_count": 131,
   "metadata": {
    "collapsed": false
   },
   "outputs": [
    {
     "data": {
      "text/plain": [
       "(30, 10)"
      ]
     },
     "execution_count": 131,
     "metadata": {},
     "output_type": "execute_result"
    }
   ],
   "source": [
    "mean_cell2 = [4] * 10\n",
    "cov = np.identity(10) \n",
    "cell2 = np.random.multivariate_normal(mean_cell2, cov, 30)\n",
    "shape(cell2)"
   ]
  },
  {
   "cell_type": "markdown",
   "metadata": {},
   "source": [
    "# (erroneous) Dimension Viz + Plot without Drop Out "
   ]
  },
  {
   "cell_type": "code",
   "execution_count": 203,
   "metadata": {
    "collapsed": false
   },
   "outputs": [
    {
     "data": {
      "text/plain": [
       "(60, 10)"
      ]
     },
     "execution_count": 203,
     "metadata": {},
     "output_type": "execute_result"
    }
   ],
   "source": [
    "#Cell 1 PCA\n",
    "pca1 = sklearnPCA(n_components=10)\n",
    "fitted1 = pca1.fit(t)\n",
    "trans1 = pca1.transform(t)\n",
    "shape(t)"
   ]
  },
  {
   "cell_type": "code",
   "execution_count": 198,
   "metadata": {
    "collapsed": true
   },
   "outputs": [],
   "source": [
    "#Cell 2 PCA\n",
    "pca2 = sklearnPCA(n_components=10)\n",
    "fitted2 = pca2.fit(cell2)\n",
    "trans2 = pca2.transform(cell2) "
   ]
  },
  {
   "cell_type": "code",
   "execution_count": 222,
   "metadata": {
    "collapsed": false
   },
   "outputs": [
    {
     "data": {
      "image/png": "[encoded data removed]",
      "text/plain": [
       "<matplotlib.figure.Figure at 0x10abf65d0>"
      ]
     },
     "metadata": {},
     "output_type": "display_data"
    }
   ],
   "source": [
    "plt.plot(trans1[:,0], trans1[:,1], 'o', markersize=7, color='blue', alpha=0.5, label='celldata')\n",
    "#plt.plot(trans2[:,0], trans2[:,1], '^', markersize=7, color='red', alpha=0.5, label='cell2')\n",
    "\n",
    "plt.xlabel('PC 1')\n",
    "plt.ylabel('PC 2')\n",
    "plt.xlim([-10,10])\n",
    "plt.ylim([-10,10])\n",
    "plt.legend()\n",
    "plt.title('Transformed samples without dropout rate')\n",
    "\n",
    "plt.show()"
   ]
  },
  {
   "cell_type": "code",
   "execution_count": 202,
   "metadata": {
    "collapsed": false
   },
   "outputs": [
    {
     "data": {
      "text/plain": [
       "array([[  7.37784118,   8.21185529,   8.47378174,   7.3997479 ,\n",
       "          8.20001601,   8.13555432,   8.00040499,   7.43485472,\n",
       "          9.73559121,   9.97500731],\n",
       "       [  9.90258417,   8.47512762,   8.49853541,   7.91911927,\n",
       "          6.40164327,   8.70030641,   9.11352142,   5.75465278,\n",
       "          5.97000255,   7.33511954],\n",
       "       [  8.42150314,   8.49901972,   8.20472502,   8.57367496,\n",
       "          6.60697164,   8.645657  ,   7.15497538,   7.32470963,\n",
       "          7.54431849,   7.85651906],\n",
       "       [  7.02331696,   7.82561745,   7.48179152,   8.43409969,\n",
       "          9.30470311,   8.58640712,   8.47568231,   7.0847088 ,\n",
       "          5.98513328,   7.11236132],\n",
       "       [  7.54389869,   7.4810718 ,   9.14285604,   8.07880806,\n",
       "          6.74766652,   7.56655793,   8.36897882,   8.70322181,\n",
       "          8.14485872,   9.23557585],\n",
       "       [  7.90656406,   7.82522386,   9.61173934,   7.04935569,\n",
       "          8.24224513,   8.79165229,   8.56834874,   7.69250516,\n",
       "          8.00091255,  10.19629433],\n",
       "       [  8.48572619,   8.62531635,   7.9741674 ,   6.11133273,\n",
       "          9.08018488,   8.49910107,   8.32751062,   8.93220505,\n",
       "          7.94244584,   7.79463713],\n",
       "       [  9.41881224,   7.26338132,   8.1208477 ,   8.91773945,\n",
       "          8.22897762,   8.05807339,   9.9996272 ,   8.01413351,\n",
       "          7.52251387,   9.29724825],\n",
       "       [  7.8616722 ,   6.47563689,   7.46486846,   7.27767812,\n",
       "          9.52719163,   9.41780489,   6.87471752,   7.54379925,\n",
       "          7.8513735 ,   7.00234301],\n",
       "       [  7.9858665 ,   6.44285182,   7.58276337,   9.11076566,\n",
       "          8.14290821,   8.98097281,   7.76980346,   7.38220521,\n",
       "          6.6589943 ,   9.07105953],\n",
       "       [  9.27797392,   8.68231974,   6.58801417,   7.26494485,\n",
       "          8.21645675,   8.6552965 ,   9.30480408,   9.74905839,\n",
       "          9.15866413,   5.67766796],\n",
       "       [  8.47386644,   9.00041707,   7.76800924,   7.23058015,\n",
       "          7.395658  ,   8.11408537,   8.44269206,   5.81615216,\n",
       "          8.91760662,   7.08171476],\n",
       "       [  6.73975129,   9.3412764 ,   7.6336892 ,   6.57164311,\n",
       "          8.04060858,   7.34322402,   8.33825392,   9.26770224,\n",
       "          8.40038597,   9.13984487],\n",
       "       [  7.57980975,   7.04658443,   8.1737412 ,   8.27344361,\n",
       "          8.57586245,   7.16975778,   6.08379867,   7.28430973,\n",
       "          7.62822485,   8.81080769],\n",
       "       [  6.79375944,   7.33303952,   9.3076347 ,   8.67916394,\n",
       "          6.53582678,   6.85837718,   8.4299416 ,   9.88283967,\n",
       "          5.6367777 ,   7.50521792],\n",
       "       [  8.45697378,   8.9762574 ,   7.29457312,   8.56800629,\n",
       "          7.83946732,   8.39506793,   7.57600449,   7.2231247 ,\n",
       "          8.11425036,   6.61679318],\n",
       "       [  8.45548181,   8.78798376,   7.34879488,   8.11065892,\n",
       "          7.67832829,   8.88238585,   9.45199562,   8.86464938,\n",
       "          7.44482346,   7.56561986],\n",
       "       [  7.74600924,   6.62530758,   7.85958555,   8.15981793,\n",
       "          8.42203241,   5.63286703,   8.28216562,   8.34245119,\n",
       "          8.23697686,   6.83507962],\n",
       "       [  8.31626829,   8.3647239 ,   7.86375625,   8.79467723,\n",
       "          7.05835276,   8.7730241 ,   8.83107319,   5.32124156,\n",
       "          7.93445896,   8.57736849],\n",
       "       [  8.8890136 ,   6.37915742,   8.87290352,   8.18029028,\n",
       "          8.75905788,   8.70566745,   9.34094127,   6.68498364,\n",
       "          9.13500193,   6.47431014],\n",
       "       [  7.11378683,   8.14591948,   6.30254044,   9.42683394,\n",
       "          7.75607315,   7.94045014,   7.55979579,   9.41995589,\n",
       "          8.63099612,   4.97314493],\n",
       "       [  7.82534076,   8.12827269,   9.12928447,  10.52112266,\n",
       "          9.76395226,   7.38189606,   8.17410188,   7.70179392,\n",
       "          7.26480672,   8.49204524],\n",
       "       [  7.32338995,   6.73738155,   8.26898497,  10.4751083 ,\n",
       "          6.94046901,   9.19872242,   7.45586556,   8.14697299,\n",
       "          7.30150498,   7.40379574],\n",
       "       [  8.24751493,   7.77989536,   8.28123324,   8.31984802,\n",
       "          7.79300006,   8.72683734,   8.31249946,   7.44531128,\n",
       "         10.05785656,   8.75349441],\n",
       "       [  7.68845642,   8.37329713,   7.03147947,   7.4775603 ,\n",
       "          9.33873855,   6.35412364,   7.75888385,   9.1846017 ,\n",
       "          8.85911891,   8.36183374],\n",
       "       [  8.04316675,   7.53160697,   8.97107759,   6.33313263,\n",
       "          7.31848955,   8.30825965,  11.01574442,   5.99120687,\n",
       "          9.05484628,   8.15860129],\n",
       "       [  7.70655451,   8.96062325,   8.62882328,   9.32410862,\n",
       "          7.50788507,   7.56547484,   7.53199909,   7.66036991,\n",
       "          8.73956643,   8.31941686],\n",
       "       [  5.58771391,   7.75035345,   7.42242069,   9.81460252,\n",
       "          6.92956878,   9.02282545,   9.32994368,   8.86711626,\n",
       "          8.55893497,   8.17893978],\n",
       "       [  9.04584006,   7.71291628,   7.41606755,   8.13845875,\n",
       "          9.30177511,   9.1178547 ,   8.83673016,   6.27832499,\n",
       "          7.35671034,   6.57707424],\n",
       "       [  9.55139297,   8.69952346,   7.45795388,   7.74959136,\n",
       "          7.60870751,   8.13920577,   7.43447849,   6.30488197,\n",
       "          7.15376383,   8.08229021],\n",
       "       [  2.582522  ,   4.62869044,   3.5699379 ,   5.77193139,\n",
       "          4.55802678,   4.07964764,   5.31306352,   3.38746291,\n",
       "          3.52101708,   2.38883956],\n",
       "       [  3.21074037,   6.05543209,   4.43452648,   5.11584232,\n",
       "          4.03043415,   3.24209607,   3.04549675,   5.34361139,\n",
       "          4.14865644,   3.68228314],\n",
       "       [  4.75056931,   4.19784545,   3.74333029,   3.92777192,\n",
       "          3.072439  ,   3.99629166,   5.24825588,   4.24839663,\n",
       "          4.81377536,   3.30541985],\n",
       "       [  4.26239836,   4.82981121,   3.83526033,   3.67686955,\n",
       "          2.54424692,   2.79372552,   3.89843156,   4.08227094,\n",
       "          5.42551373,   3.03482946],\n",
       "       [  2.70220359,   3.77973354,   2.00023306,   2.62216901,\n",
       "          5.09737333,   2.84507731,   3.81617722,   3.42475185,\n",
       "          5.23120351,   4.20659427],\n",
       "       [  2.83791045,   4.296466  ,   6.06454869,   2.57077471,\n",
       "          4.97681696,   4.06707953,   5.55988112,   4.52867587,\n",
       "          4.39863362,   5.68034862],\n",
       "       [  2.66702256,   4.74311774,   2.80455603,   4.10112168,\n",
       "          3.72882372,   3.33407295,   5.7639878 ,   3.85963245,\n",
       "          3.7144606 ,   2.06661096],\n",
       "       [  5.37961515,   2.97553303,   3.66983422,   4.02453332,\n",
       "          3.60831286,   4.42513217,   3.54307867,   4.62817196,\n",
       "          3.20466868,   4.4717853 ],\n",
       "       [  3.72336403,   5.30472698,   4.73871284,   3.79335855,\n",
       "          4.40952674,   4.1096088 ,   3.90976304,   3.45630356,\n",
       "          2.43443513,   4.02888229],\n",
       "       [  3.51511353,   4.54355603,   3.81068502,   4.41431222,\n",
       "          5.01126747,   2.76104695,   4.96597082,   3.83790035,\n",
       "          3.87126458,   3.35537707],\n",
       "       [  3.37072271,   4.10834102,   4.58179503,   3.06210003,\n",
       "          3.96523057,   4.06301329,   4.82220604,   4.53062082,\n",
       "          4.9850672 ,   5.13332647],\n",
       "       [  2.88990592,   2.29457786,   3.71735848,   3.55160513,\n",
       "          5.83823051,   5.06392354,   4.27549872,   4.92609372,\n",
       "          4.32573635,   4.71231822],\n",
       "       [  4.25025766,   5.37895049,   2.52283796,   4.70307699,\n",
       "          2.23984331,   4.20234708,   4.63967691,   2.19651989,\n",
       "          3.12302335,   3.46001752],\n",
       "       [  4.02520581,   2.79491472,   4.29363776,   3.71141583,\n",
       "          4.8653351 ,   3.45567422,   3.35814604,   4.17336055,\n",
       "          4.06821541,   2.13985856],\n",
       "       [  1.16774949,   4.64342242,   3.9786016 ,   3.5448748 ,\n",
       "          1.79557011,   5.94765092,   3.14603802,   2.5216492 ,\n",
       "          4.86369102,   5.09456008],\n",
       "       [  5.0634527 ,   3.3122621 ,   6.54404928,   0.71403394,\n",
       "          4.61017164,   5.82511684,   4.72290507,   1.8393492 ,\n",
       "          5.41022381,   5.0367831 ],\n",
       "       [  4.21236644,   2.72008088,   4.96011161,   3.28227537,\n",
       "          2.43437887,   4.04849224,   4.38234934,   3.80029589,\n",
       "          3.09000545,   4.86094176],\n",
       "       [  4.61933212,   5.48053953,   4.53549746,   2.8058866 ,\n",
       "          2.60097119,   6.66462284,   4.19556367,   4.87650546,\n",
       "          3.94977306,   3.65787132],\n",
       "       [  3.23413729,   4.9954463 ,   3.97148544,   4.0794098 ,\n",
       "          2.78232814,   4.87812125,   4.77329954,   3.268703  ,\n",
       "          3.32780768,   5.2949165 ],\n",
       "       [  5.45425112,   4.83765954,   4.66200644,   4.79820772,\n",
       "          4.36090369,   2.79421179,   4.56045686,   3.69004093,\n",
       "          3.82525431,   5.80690323],\n",
       "       [  3.53775303,   4.30757075,   4.00863318,   4.2160115 ,\n",
       "          3.05032348,   3.82857053,   4.10719648,   5.86229947,\n",
       "          3.4590522 ,   5.7306025 ],\n",
       "       [  4.81521901,   5.05395818,   3.41595241,   2.83846585,\n",
       "          4.70119227,   3.57749848,   4.86604488,   4.46273227,\n",
       "          3.81868205,   4.59666362],\n",
       "       [  4.39260647,   3.18868272,   4.61676744,   3.90446498,\n",
       "          3.05354728,   3.18354089,   4.89104156,   3.93161849,\n",
       "          4.25428039,   3.96022878],\n",
       "       [  2.5956803 ,   4.68519384,   4.27715717,   4.12411715,\n",
       "          5.17956834,   3.55406428,   4.53910757,   4.16801678,\n",
       "          3.8869631 ,   3.12303326],\n",
       "       [  4.30178334,   3.63504697,   4.65318959,   4.506179  ,\n",
       "          5.53160845,   5.91318394,   3.63473429,   4.3244326 ,\n",
       "          3.87443137,   5.28110692],\n",
       "       [  3.10040674,   3.78636695,   5.36194518,   5.1649257 ,\n",
       "          3.44803551,   3.38755415,   4.01999235,   4.5329356 ,\n",
       "          4.31881348,   4.85987018],\n",
       "       [  4.34686047,   3.71911066,   3.09037628,   4.07618522,\n",
       "          4.92295863,   3.55625033,   4.37861046,   3.39943577,\n",
       "          5.61275824,   5.15164396],\n",
       "       [  4.33705318,   3.25393919,   4.07709116,   3.8631092 ,\n",
       "          3.98728326,   2.20807252,   3.91916967,   3.20138536,\n",
       "          4.11352295,   4.01140291],\n",
       "       [  2.59644534,   2.70642889,   5.15637435,   4.03394276,\n",
       "          4.36971288,   4.57893853,   3.61036398,   4.34537926,\n",
       "          2.91820032,   3.59606711],\n",
       "       [  3.25789488,   2.87866267,   3.19399645,   3.24440628,\n",
       "          5.74984124,   3.14575858,   2.6556806 ,   4.77243781,\n",
       "          4.14207258,   3.61210206]])"
      ]
     },
     "execution_count": 202,
     "metadata": {},
     "output_type": "execute_result"
    }
   ],
   "source": [
    "t = np.concatenate((cell1, cell2))\n",
    "t"
   ]
  },
  {
   "cell_type": "code",
   "execution_count": 226,
   "metadata": {
    "collapsed": false
   },
   "outputs": [
    {
     "data": {
      "text/plain": [
       "array([-0.16507284, -0.34217787, -1.06162848,  0.03739794, -1.60778471,\n",
       "       -0.88188727,  1.49335271, -0.32663258,  1.30254156, -1.35150513,\n",
       "        2.6900349 ,  1.33774742, -0.06124605, -0.71673533, -2.49878817,\n",
       "        0.67768756,  0.1861604 ,  0.87254741, -0.57021259,  1.74449267,\n",
       "        0.82062807, -1.03446836, -2.09259704,  0.24858559,  1.14864297,\n",
       "        1.15675534, -0.96347468, -1.76590208,  1.70934301,  0.30812289,\n",
       "        0.01617526, -0.85734449,  0.73568413,  0.65261324,  1.8031971 ,\n",
       "       -0.2433268 ,  0.8894858 , -0.31733451, -0.53084013,  0.74900503,\n",
       "       -0.00676246,  0.49068766, -0.4061492 ,  1.28146525, -2.01344443,\n",
       "        1.68912257, -1.26016438, -0.17916825, -1.51281944, -0.52018283,\n",
       "       -1.83202615,  1.10028904, -0.10078643,  0.47509235, -0.40118852,\n",
       "       -1.6978195 ,  1.06361525,  0.42062586, -0.95833374,  1.17670546])"
      ]
     },
     "execution_count": 226,
     "metadata": {},
     "output_type": "execute_result"
    }
   ],
   "source": [
    "trans1[:,3]"
   ]
  },
  {
   "cell_type": "markdown",
   "metadata": {},
   "source": [
    "# Drop out rate parameters"
   ]
  },
  {
   "cell_type": "code",
   "execution_count": 190,
   "metadata": {
    "collapsed": true
   },
   "outputs": [],
   "source": [
    "def drop_out(exp):\n",
    "    p = math.e**(-.01 * exp**2)\n",
    "    return np.random.binomial(1, p, 1)[0]"
   ]
  },
  {
   "cell_type": "code",
   "execution_count": 191,
   "metadata": {
    "collapsed": true
   },
   "outputs": [],
   "source": [
    "noise_1 = .1 * np.random.randn(shape(cell1)[0], shape(cell1)[1]) \n",
    "noise_2 = .1 * np.random.randn(shape(cell2)[0], shape(cell2)[1]) "
   ]
  },
  {
   "cell_type": "code",
   "execution_count": 192,
   "metadata": {
    "collapsed": true
   },
   "outputs": [],
   "source": [
    "nsd1 = np.copy(cell1) + np.copy(noise_1)\n",
    "nsd2 = np.copy(cell2) + np.copy(noise_2)"
   ]
  },
  {
   "cell_type": "code",
   "execution_count": 193,
   "metadata": {
    "collapsed": false
   },
   "outputs": [
    {
     "name": "stdout",
     "output_type": "stream",
     "text": [
      "171\n"
     ]
    }
   ],
   "source": [
    "count = 0\n",
    "for (i,j), value in numpy.ndenumerate(nsd1):\n",
    "    if (drop_out(value) == 1):\n",
    "        count += 1\n",
    "        nsd1[i,j] = 0\n",
    "print count"
   ]
  },
  {
   "cell_type": "code",
   "execution_count": 195,
   "metadata": {
    "collapsed": false
   },
   "outputs": [
    {
     "data": {
      "text/plain": [
       "(30, 10)"
      ]
     },
     "execution_count": 195,
     "metadata": {},
     "output_type": "execute_result"
    }
   ],
   "source": [
    "shape(nsd1)"
   ]
  },
  {
   "cell_type": "code",
   "execution_count": null,
   "metadata": {
    "collapsed": true
   },
   "outputs": [],
   "source": []
  },
  {
   "cell_type": "code",
   "execution_count": null,
   "metadata": {
    "collapsed": true
   },
   "outputs": [],
   "source": []
  },
  {
   "cell_type": "code",
   "execution_count": null,
   "metadata": {
    "collapsed": true
   },
   "outputs": [],
   "source": []
  },
  {
   "cell_type": "code",
   "execution_count": null,
   "metadata": {
    "collapsed": true
   },
   "outputs": [],
   "source": []
  },
  {
   "cell_type": "code",
   "execution_count": null,
   "metadata": {
    "collapsed": true
   },
   "outputs": [],
   "source": []
  },
  {
   "cell_type": "code",
   "execution_count": null,
   "metadata": {
    "collapsed": true
   },
   "outputs": [],
   "source": []
  },
  {
   "cell_type": "code",
   "execution_count": null,
   "metadata": {
    "collapsed": true
   },
   "outputs": [],
   "source": []
  },
  {
   "cell_type": "code",
   "execution_count": null,
   "metadata": {
    "collapsed": true
   },
   "outputs": [],
   "source": []
  },
  {
   "cell_type": "code",
   "execution_count": null,
   "metadata": {
    "collapsed": true
   },
   "outputs": [],
   "source": []
  },
  {
   "cell_type": "code",
   "execution_count": null,
   "metadata": {
    "collapsed": true
   },
   "outputs": [],
   "source": []
  },
  {
   "cell_type": "code",
   "execution_count": null,
   "metadata": {
    "collapsed": true
   },
   "outputs": [],
   "source": []
  },
  {
   "cell_type": "code",
   "execution_count": null,
   "metadata": {
    "collapsed": true
   },
   "outputs": [],
   "source": []
  }
 ],
 "metadata": {
  "kernelspec": {
   "display_name": "Python 2",
   "language": "python",
   "name": "python2"
  },
  "language_info": {
   "codemirror_mode": {
    "name": "ipython",
    "version": 2
   },
   "file_extension": ".py",
   "mimetype": "text/x-python",
   "name": "python",
   "nbconvert_exporter": "python",
   "pygments_lexer": "ipython2",
   "version": "2.7.11"
  }
 },
 "nbformat": 4,
 "nbformat_minor": 0
}

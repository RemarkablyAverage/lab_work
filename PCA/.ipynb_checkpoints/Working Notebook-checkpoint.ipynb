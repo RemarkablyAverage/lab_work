{
 "cells": [
  {
   "cell_type": "markdown",
   "metadata": {},
   "source": [
    "# Import Statements"
   ]
  },
  {
   "cell_type": "code",
   "execution_count": 165,
   "metadata": {
    "collapsed": false
   },
   "outputs": [
    {
     "name": "stdout",
     "output_type": "stream",
     "text": [
      "Populating the interactive namespace from numpy and matplotlib\n"
     ]
    }
   ],
   "source": [
    "import numpy as np\n",
    "import math\n",
    "%pylab inline\n",
    "from matplotlib import pyplot as plt\n",
    "from mpl_toolkits.mplot3d import Axes3D\n",
    "from mpl_toolkits.mplot3d import proj3d\n",
    "from matplotlib import pyplot as plt\n",
    "from scipy.cluster.hierarchy import dendrogram, linkage\n",
    "import numpy as np"
   ]
  },
  {
   "cell_type": "markdown",
   "metadata": {},
   "source": [
    "# Create Data"
   ]
  },
  {
   "cell_type": "code",
   "execution_count": 140,
   "metadata": {
    "collapsed": true
   },
   "outputs": [],
   "source": [
    "np.random.seed(4294967295) # random seed for consistency"
   ]
  },
  {
   "cell_type": "markdown",
   "metadata": {},
   "source": [
    "# Cell 1 Data"
   ]
  },
  {
   "cell_type": "code",
   "execution_count": 141,
   "metadata": {
    "collapsed": false
   },
   "outputs": [
    {
     "data": {
      "image/png": "[encoded data removed]",
      "text/plain": [
       "<matplotlib.figure.Figure at 0x10652ab10>"
      ]
     },
     "metadata": {},
     "output_type": "display_data"
    }
   ],
   "source": [
    "#Set parameters\n",
    "mean_cell1 = [2, 2]\n",
    "cov = [[1, 0], [0, 1]]\n",
    "x1, y1 = np.random.multivariate_normal(mean_cell1, cov, 20).T\n",
    "plt.plot(x1, y1, 'o')\n",
    "plt.plot(2,2, '^')\n",
    "plt.axis('equal')\n",
    "plt.show()"
   ]
  },
  {
   "cell_type": "markdown",
   "metadata": {},
   "source": [
    "# Cell 2 Data"
   ]
  },
  {
   "cell_type": "code",
   "execution_count": 142,
   "metadata": {
    "collapsed": false
   },
   "outputs": [
    {
     "data": {
      "image/png": "[encoded data removed]",
      "text/plain": [
       "<matplotlib.figure.Figure at 0x1065e4c10>"
      ]
     },
     "metadata": {},
     "output_type": "display_data"
    }
   ],
   "source": [
    "mean_cell2 = [-2, -2]\n",
    "cov = [[1, 0], [0, 1]]\n",
    "x2, y2 = np.random.multivariate_normal(mean_cell2, cov, 20).T\n",
    "plt.plot(x2, y2, 'o', color='red')\n",
    "plt.plot(-2,-2, '^', color='green')\n",
    "plt.axis('equal')\n",
    "plt.show()"
   ]
  },
  {
   "cell_type": "markdown",
   "metadata": {
    "collapsed": true
   },
   "source": [
    "# Both Cells Plots"
   ]
  },
  {
   "cell_type": "code",
   "execution_count": 143,
   "metadata": {
    "collapsed": false
   },
   "outputs": [
    {
     "data": {
      "image/png": "[encoded data removed]",
      "text/plain": [
       "<matplotlib.figure.Figure at 0x105e31690>"
      ]
     },
     "metadata": {},
     "output_type": "display_data"
    }
   ],
   "source": [
    "plt.plot(x2, y2, 'o', color='red')\n",
    "plt.plot(-2,-2, '^', color='green')\n",
    "plt.axis('equal')\n",
    "plt.plot(x1, y1, 'o')\n",
    "plt.plot(2,2, '^')\n",
    "plt.show()"
   ]
  },
  {
   "cell_type": "markdown",
   "metadata": {
    "collapsed": true
   },
   "source": [
    "# Apply Drop Out"
   ]
  },
  {
   "cell_type": "code",
   "execution_count": 144,
   "metadata": {
    "collapsed": false
   },
   "outputs": [
    {
     "data": {
      "text/plain": [
       "[array([ 2.64840867,  0.91945628,  2.11388774,  1.95597398,  1.01176985,\n",
       "         1.97384186,  2.64437451,  2.42005442,  2.08608548,  3.05232244,\n",
       "         1.85361708,  1.90635979,  2.43132745,  3.40956779,  0.92007469,\n",
       "         1.97254783,  2.10243261,  1.42084063,  2.79774455,  2.92820363]),\n",
       " array([ 2.66932353,  2.28450104,  2.86762189,  2.24877162,  1.45407729,\n",
       "         3.00437642,  0.61462135,  3.43319167,  1.59869409,  2.03232405,\n",
       "         1.05383746,  3.33704142,  3.35522792,  0.66136697,  1.47913189,\n",
       "         1.07779786,  2.24923551,  0.72137668,  2.66657167,  0.87095746])]"
      ]
     },
     "execution_count": 144,
     "metadata": {},
     "output_type": "execute_result"
    }
   ],
   "source": [
    "x1_y1 = [x1, y1]\n",
    "x1_y1"
   ]
  },
  {
   "cell_type": "code",
   "execution_count": 145,
   "metadata": {
    "collapsed": false
   },
   "outputs": [
    {
     "data": {
      "text/plain": [
       "[array([-1.49223031, -2.47391497, -0.77270646, -3.35110557, -3.15968948,\n",
       "        -2.74155116,  0.03634112, -1.80130793, -4.12636604, -0.07097931,\n",
       "        -1.10393812, -2.73448472, -1.18149594, -1.52494621, -1.34211304,\n",
       "        -1.17810581, -1.98815547, -1.07283121, -1.45510498, -0.26842712]),\n",
       " array([-1.94476761, -1.58700752, -1.51522194, -4.01389028, -1.96964144,\n",
       "        -2.11300313, -2.81310207, -3.61758761, -2.69495935, -2.21350509,\n",
       "        -1.83712741, -2.07048343, -2.28408614, -2.78400306, -0.4260044 ,\n",
       "        -1.70621239, -1.42921295, -4.56589176, -3.05009087, -4.00096159])]"
      ]
     },
     "execution_count": 145,
     "metadata": {},
     "output_type": "execute_result"
    }
   ],
   "source": [
    "x2_y2 = [x2, y2]\n",
    "x2_y2"
   ]
  },
  {
   "cell_type": "code",
   "execution_count": 146,
   "metadata": {
    "collapsed": true
   },
   "outputs": [],
   "source": [
    "#parameters\n",
    "lmbda = -.5\n",
    "mu = 2\n",
    "p_0 = math.e**(lmbda * mu**2)\n",
    "\n",
    "def drop_out(p):\n",
    "    return np.random.binomial(1, p, 1)[0]\n",
    "\n",
    "def noise(p):\n",
    "    return np.random.normal(0, 0.2, 1)[0]"
   ]
  },
  {
   "cell_type": "code",
   "execution_count": 147,
   "metadata": {
    "collapsed": false
   },
   "outputs": [],
   "source": [
    "def apply_fuzz(points):\n",
    "    for index in range(len(points[0])):\n",
    "        points[0][index] += noise(0)\n",
    "        points[1][index] += noise(0)\n",
    "        if drop_out(p_0) == 1:\n",
    "            points[0][index] = 0\n",
    "            points[1][index] = 0\n",
    "    return points"
   ]
  },
  {
   "cell_type": "code",
   "execution_count": 148,
   "metadata": {
    "collapsed": false
   },
   "outputs": [
    {
     "data": {
      "text/plain": [
       "array([[ 2.47749398,  0.91924829,  2.01957969,  0.        ,  0.75672982,\n",
       "         2.16141217,  2.40020016,  2.38026849,  2.01645882,  3.04242442,\n",
       "         2.00662963,  1.47187547,  2.28858403,  3.55348612,  0.72195547,\n",
       "         1.72347264,  2.06293434,  1.31437635,  3.09112538,  0.        ],\n",
       "       [ 2.79343214,  2.24867069,  2.54033409,  0.        ,  1.58112968,\n",
       "         2.82345806,  0.3510922 ,  3.11348126,  1.37373469,  2.03841597,\n",
       "         0.89645635,  3.70313077,  3.29401601,  0.93068738,  1.426983  ,\n",
       "         1.28575828,  2.14951975,  0.60677867,  2.56719024,  0.        ]])"
      ]
     },
     "execution_count": 148,
     "metadata": {},
     "output_type": "execute_result"
    }
   ],
   "source": [
    "droppedx1_y1 = apply_fuzz(np.copy(x1_y1))\n",
    "droppedx1_y1"
   ]
  },
  {
   "cell_type": "code",
   "execution_count": 149,
   "metadata": {
    "collapsed": false
   },
   "outputs": [
    {
     "data": {
      "text/plain": [
       "array([[-1.55596689, -2.31088586, -0.87058743, -3.25333454, -3.38100561,\n",
       "         0.        ,  0.        , -1.77349483, -4.11905827, -0.09898561,\n",
       "        -1.06122896, -2.86535666, -1.37852253, -1.21944997,  0.        ,\n",
       "        -1.08617461, -1.91172503, -1.35918572, -1.22433056, -0.50956223],\n",
       "       [-1.98878067, -1.37260265, -1.41794158, -3.9924952 , -1.69664569,\n",
       "         0.        ,  0.        , -3.60196392, -2.64584623, -1.95065463,\n",
       "        -2.12908163, -2.30627651, -2.31625529, -2.70595582,  0.        ,\n",
       "        -1.81764781, -1.42640528, -4.53545952, -3.34452605, -4.28291157]])"
      ]
     },
     "execution_count": 149,
     "metadata": {},
     "output_type": "execute_result"
    }
   ],
   "source": [
    "droppedx2_y2 = apply_fuzz(np.copy(x2_y2))\n",
    "droppedx2_y2"
   ]
  },
  {
   "cell_type": "markdown",
   "metadata": {},
   "source": [
    "# Graphed Fuzzy Data"
   ]
  },
  {
   "cell_type": "code",
   "execution_count": 152,
   "metadata": {
    "collapsed": false
   },
   "outputs": [
    {
     "data": {
      "image/png": "[encoded data removed]",
      "text/plain": [
       "<matplotlib.figure.Figure at 0x105d2e110>"
      ]
     },
     "metadata": {},
     "output_type": "display_data"
    }
   ],
   "source": [
    "plt.plot(droppedx2_y2[0], droppedx2_y2[1], 'o', color='y')\n",
    "plt.plot(-2,-2, '^', color='green')\n",
    "plt.axis('equal')\n",
    "plt.plot(droppedx1_y1[0], droppedx1_y1[1], 'o', color = 'c')\n",
    "plt.plot(2,2, '^', color='g')\n",
    "plt.show()"
   ]
  },
  {
   "cell_type": "markdown",
   "metadata": {},
   "source": [
    "# Graph of Original vs. Dropped"
   ]
  },
  {
   "cell_type": "code",
   "execution_count": 151,
   "metadata": {
    "collapsed": false
   },
   "outputs": [
    {
     "data": {
      "image/png": "[encoded data removed]",
      "text/plain": [
       "<matplotlib.figure.Figure at 0x105f416d0>"
      ]
     },
     "metadata": {},
     "output_type": "display_data"
    }
   ],
   "source": [
    "plt.plot(droppedx2_y2[0], droppedx2_y2[1], 'o', color='y')\n",
    "plt.plot(-2,-2, '^', color='green')\n",
    "plt.axis('equal')\n",
    "plt.plot(droppedx1_y1[0], droppedx1_y1[1], 'o', color='cyan')\n",
    "plt.plot(2,2, '^')\n",
    "plt.plot(x2, y2, 'o', color='red')\n",
    "plt.plot(-2,-2, '^', color='green')\n",
    "plt.axis('equal')\n",
    "plt.plot(x1, y1, 'o', color ='blue')\n",
    "plt.plot(2,2, '^')\n",
    "\n",
    "plt.show()"
   ]
  },
  {
   "cell_type": "markdown",
   "metadata": {},
   "source": [
    "# Combine Coordinates"
   ]
  },
  {
   "cell_type": "code",
   "execution_count": 184,
   "metadata": {
    "collapsed": false
   },
   "outputs": [],
   "source": [
    "matrix = np.concatenate((droppedx1_y1.T, droppedx2_y2.T),)\n",
    "matrix"
   ]
  },
  {
   "cell_type": "code",
   "execution_count": 193,
   "metadata": {
    "collapsed": false
   },
   "outputs": [
    {
     "data": {
      "text/plain": [
       "(40, 2)"
      ]
     },
     "execution_count": 193,
     "metadata": {},
     "output_type": "execute_result"
    }
   ],
   "source": [
    "matrix.shape"
   ]
  },
  {
   "cell_type": "markdown",
   "metadata": {},
   "source": [
    "# Recovery Time Boys"
   ]
  },
  {
   "cell_type": "code",
   "execution_count": 163,
   "metadata": {
    "collapsed": false
   },
   "outputs": [],
   "source": [
    "#Heirarchical Clustering"
   ]
  },
  {
   "cell_type": "code",
   "execution_count": 204,
   "metadata": {
    "collapsed": false
   },
   "outputs": [
    {
     "data": {
      "text/plain": [
       "array([[ 19.        ,  34.        ,   0.        ,   2.        ],\n",
       "       [  3.        ,  40.        ,   0.        ,   3.        ],\n",
       "       [ 26.        ,  41.        ,   0.        ,   4.        ],\n",
       "       [ 25.        ,  42.        ,   0.        ,   5.        ],\n",
       "       [  4.        ,  14.        ,   0.15802042,   2.        ],\n",
       "       [  7.        ,  12.        ,   0.20248169,   2.        ],\n",
       "       [  8.        ,  15.        ,   0.30590971,   2.        ],\n",
       "       [ 30.        ,  35.        ,   0.31243129,   2.        ],\n",
       "       [  2.        ,   5.        ,   0.31666328,   2.        ],\n",
       "       [  0.        ,  48.        ,   0.31750474,   3.        ],\n",
       "       [ 45.        ,  49.        ,   0.33449101,   5.        ],\n",
       "       [ 32.        ,  47.        ,   0.36838727,   3.        ],\n",
       "       [ 20.        ,  51.        ,   0.37245957,   4.        ],\n",
       "       [ 16.        ,  50.        ,   0.39321174,   6.        ],\n",
       "       [ 21.        ,  36.        ,   0.40277051,   2.        ],\n",
       "       [ 33.        ,  52.        ,   0.42091636,   5.        ],\n",
       "       [ 22.        ,  55.        ,   0.45413973,   6.        ],\n",
       "       [ 10.        ,  46.        ,   0.47737954,   3.        ],\n",
       "       [  9.        ,  18.        ,   0.53101225,   2.        ],\n",
       "       [ 27.        ,  38.        ,   0.60651105,   2.        ],\n",
       "       [ 56.        ,  59.        ,   0.63858888,   8.        ],\n",
       "       [ 53.        ,  58.        ,   0.65400986,   8.        ],\n",
       "       [ 54.        ,  60.        ,   0.66545468,  10.        ],\n",
       "       [  6.        ,  57.        ,   0.67254726,   4.        ],\n",
       "       [  1.        ,  44.        ,   0.68703949,   3.        ],\n",
       "       [ 17.        ,  63.        ,   0.7504184 ,   5.        ],\n",
       "       [ 61.        ,  65.        ,   0.77717593,  13.        ],\n",
       "       [ 24.        ,  31.        ,   0.79846326,   2.        ],\n",
       "       [ 37.        ,  39.        ,   0.88636366,   2.        ],\n",
       "       [ 11.        ,  66.        ,   0.91344828,  14.        ],\n",
       "       [ 29.        ,  62.        ,   0.93763136,  11.        ],\n",
       "       [ 64.        ,  69.        ,   1.01085901,  17.        ],\n",
       "       [ 68.        ,  70.        ,   1.02130606,  13.        ],\n",
       "       [ 67.        ,  72.        ,   1.08590273,  15.        ],\n",
       "       [ 28.        ,  73.        ,   1.20237406,  16.        ],\n",
       "       [ 13.        ,  71.        ,   1.21993716,  18.        ],\n",
       "       [ 43.        ,  75.        ,   1.44767591,  23.        ],\n",
       "       [ 23.        ,  74.        ,   1.53050326,  17.        ],\n",
       "       [ 76.        ,  77.        ,   1.66387524,  40.        ]])"
      ]
     },
     "execution_count": 204,
     "metadata": {},
     "output_type": "execute_result"
    }
   ],
   "source": [
    "Z = linkage(matrix)\n",
    "Z"
   ]
  },
  {
   "cell_type": "code",
   "execution_count": null,
   "metadata": {
    "collapsed": false
   },
   "outputs": [],
   "source": []
  },
  {
   "cell_type": "code",
   "execution_count": null,
   "metadata": {
    "collapsed": true
   },
   "outputs": [],
   "source": []
  },
  {
   "cell_type": "code",
   "execution_count": null,
   "metadata": {
    "collapsed": true
   },
   "outputs": [],
   "source": []
  },
  {
   "cell_type": "code",
   "execution_count": null,
   "metadata": {
    "collapsed": true
   },
   "outputs": [],
   "source": []
  },
  {
   "cell_type": "code",
   "execution_count": null,
   "metadata": {
    "collapsed": true
   },
   "outputs": [],
   "source": []
  },
  {
   "cell_type": "code",
   "execution_count": null,
   "metadata": {
    "collapsed": true
   },
   "outputs": [],
   "source": []
  },
  {
   "cell_type": "code",
   "execution_count": null,
   "metadata": {
    "collapsed": true
   },
   "outputs": [],
   "source": []
  }
 ],
 "metadata": {
  "kernelspec": {
   "display_name": "Python 2",
   "language": "python",
   "name": "python2"
  },
  "language_info": {
   "codemirror_mode": {
    "name": "ipython",
    "version": 2
   },
   "file_extension": ".py",
   "mimetype": "text/x-python",
   "name": "python",
   "nbconvert_exporter": "python",
   "pygments_lexer": "ipython2",
   "version": "2.7.11"
  }
 },
 "nbformat": 4,
 "nbformat_minor": 0
}

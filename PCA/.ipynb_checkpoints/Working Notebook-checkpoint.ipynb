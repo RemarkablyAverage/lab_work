{
 "cells": [
  {
   "cell_type": "markdown",
   "metadata": {},
   "source": [
    "# Import Statements"
   ]
  },
  {
   "cell_type": "code",
   "execution_count": 52,
   "metadata": {
    "collapsed": false
   },
   "outputs": [
    {
     "name": "stdout",
     "output_type": "stream",
     "text": [
      "Populating the interactive namespace from numpy and matplotlib\n"
     ]
    },
    {
     "name": "stderr",
     "output_type": "stream",
     "text": [
      "WARNING: pylab import has clobbered these variables: ['mean', 'cov']\n",
      "`%matplotlib` prevents importing * from pylab and numpy\n"
     ]
    }
   ],
   "source": [
    "import numpy as np\n",
    "import math\n",
    "%pylab inline\n",
    "from matplotlib import pyplot as plt\n",
    "from mpl_toolkits.mplot3d import Axes3D\n",
    "from mpl_toolkits.mplot3d import proj3d\n"
   ]
  },
  {
   "cell_type": "markdown",
   "metadata": {},
   "source": [
    "# Create Data"
   ]
  },
  {
   "cell_type": "code",
   "execution_count": 53,
   "metadata": {
    "collapsed": true
   },
   "outputs": [],
   "source": [
    "np.random.seed(4294967295) # random seed for consistency"
   ]
  },
  {
   "cell_type": "markdown",
   "metadata": {},
   "source": [
    "# Cell 1 Data"
   ]
  },
  {
   "cell_type": "code",
   "execution_count": 54,
   "metadata": {
    "collapsed": false
   },
   "outputs": [
    {
     "data": {
      "image/png": "[encoded data removed]",
      "text/plain": [
       "<matplotlib.figure.Figure at 0x10457f790>"
      ]
     },
     "metadata": {},
     "output_type": "display_data"
    }
   ],
   "source": [
    "#Set parameters\n",
    "mean_cell1 = [2, 2]\n",
    "cov = [[1, 0], [0, 1]]\n",
    "x1, y1 = np.random.multivariate_normal(mean_cell1, cov, 20).T\n",
    "plt.plot(x1, y1, 'o')\n",
    "plt.plot(2,2, '^')\n",
    "plt.axis('equal')\n",
    "plt.show()"
   ]
  },
  {
   "cell_type": "markdown",
   "metadata": {},
   "source": [
    "# Cell 2 Data"
   ]
  },
  {
   "cell_type": "code",
   "execution_count": 45,
   "metadata": {
    "collapsed": false
   },
   "outputs": [
    {
     "data": {
      "image/png": "[encoded data removed]",
      "text/plain": [
       "<matplotlib.figure.Figure at 0x106aacdd0>"
      ]
     },
     "metadata": {},
     "output_type": "display_data"
    }
   ],
   "source": [
    "mean_cell2 = [-2, -2]\n",
    "cov = [[1, 0], [0, 1]]\n",
    "x2, y2 = np.random.multivariate_normal(mean_cell2, cov, 20).T\n",
    "plt.plot(x2, y2, 'o', color='red')\n",
    "plt.plot(-2,-2, '^', color='green')\n",
    "plt.axis('equal')\n",
    "plt.show()"
   ]
  },
  {
   "cell_type": "markdown",
   "metadata": {
    "collapsed": true
   },
   "source": [
    "# Both Cells Plots"
   ]
  },
  {
   "cell_type": "code",
   "execution_count": 46,
   "metadata": {
    "collapsed": false
   },
   "outputs": [
    {
     "data": {
      "image/png": "[encoded data removed]",
      "text/plain": [
       "<matplotlib.figure.Figure at 0x10456bb50>"
      ]
     },
     "metadata": {},
     "output_type": "display_data"
    }
   ],
   "source": [
    "plt.plot(x2, y2, 'o', color='red')\n",
    "plt.plot(-2,-2, '^', color='green')\n",
    "plt.axis('equal')\n",
    "plt.plot(x1, y1, 'o')\n",
    "plt.plot(2,2, '^')\n",
    "plt.show()"
   ]
  },
  {
   "cell_type": "markdown",
   "metadata": {
    "collapsed": true
   },
   "source": [
    "# Apply Drop Out"
   ]
  },
  {
   "cell_type": "code",
   "execution_count": 64,
   "metadata": {
    "collapsed": false
   },
   "outputs": [
    {
     "data": {
      "text/plain": [
       "[array([ 2.64840867,  0.91945628,  2.11388774,  1.95597398,  1.01176985,\n",
       "         1.97384186,  2.64437451,  2.42005442,  2.08608548,  3.05232244,\n",
       "         1.85361708,  1.90635979,  2.43132745,  3.40956779,  0.92007469,\n",
       "         1.97254783,  2.10243261,  1.42084063,  2.79774455,  2.92820363]),\n",
       " array([ 2.66932353,  2.28450104,  2.86762189,  2.24877162,  1.45407729,\n",
       "         3.00437642,  0.61462135,  3.43319167,  1.59869409,  2.03232405,\n",
       "         1.05383746,  3.33704142,  3.35522792,  0.66136697,  1.47913189,\n",
       "         1.07779786,  2.24923551,  0.72137668,  2.66657167,  0.87095746])]"
      ]
     },
     "execution_count": 64,
     "metadata": {},
     "output_type": "execute_result"
    }
   ],
   "source": [
    "x1_y1 = [x1, y1]\n",
    "x1_y1"
   ]
  },
  {
   "cell_type": "code",
   "execution_count": 51,
   "metadata": {
    "collapsed": false
   },
   "outputs": [
    {
     "data": {
      "text/plain": [
       "[array([-0.62448944, -3.34533381, -1.23414498, -2.5924027 , -2.61297543,\n",
       "        -1.66886694, -3.67658222, -2.28759086, -1.42904594, -1.42303599,\n",
       "        -2.23439952, -2.4610737 , -2.75308869, -2.21940215, -2.81636601,\n",
       "        -1.45102096, -2.60996974, -1.66693028, -2.66522477, -1.444529  ]),\n",
       " array([-3.17914233, -2.61028488, -2.04728683, -2.74824196, -1.64716812,\n",
       "        -1.45011809, -3.28875902, -3.16927203, -2.86698541, -2.1218528 ,\n",
       "        -2.14312986, -1.87602429, -1.60827672, -0.38603974, -2.76698488,\n",
       "        -1.34430273, -3.64170028, -1.20124678, -2.4142403 , -1.18430761])]"
      ]
     },
     "execution_count": 51,
     "metadata": {},
     "output_type": "execute_result"
    }
   ],
   "source": [
    "x2_y2 = [x2, y2]\n",
    "x2_y2"
   ]
  },
  {
   "cell_type": "code",
   "execution_count": 98,
   "metadata": {
    "collapsed": true
   },
   "outputs": [],
   "source": [
    "#parameters\n",
    "lmbda = -.5\n",
    "mu = 2\n",
    "p_0 = math.e**(lmbda * mu**2)\n",
    "\n",
    "def drop_out(p):\n",
    "    return np.random.binomial(1, p, 1)[0]\n",
    "\n",
    "def noise(p):\n",
    "    return np.random.normal(p, 0.05, 1)[0]"
   ]
  },
  {
   "cell_type": "code",
   "execution_count": 99,
   "metadata": {
    "collapsed": false
   },
   "outputs": [],
   "source": [
    "def apply_fuzz(center, points):\n",
    "    x = center[0]\n",
    "    y = center[1]\n",
    "    for index in range(len(points[0])):\n",
    "        points[0][index] += noise(x)\n",
    "        points[1][index] += noise(y)\n",
    "        if drop_out(p_0) == 1:\n",
    "            points[0][index] = 0\n",
    "            points[1][index] = 0\n",
    "    return points"
   ]
  },
  {
   "cell_type": "code",
   "execution_count": 100,
   "metadata": {
    "collapsed": false
   },
   "outputs": [
    {
     "data": {
      "text/plain": [
       "array([[ 4.73356433,  2.88365886,  4.18899007,  3.868543  ,  3.00903063,\n",
       "         4.00710416,  4.59269629,  4.37522677,  4.10387269,  4.9915512 ,\n",
       "         3.8286252 ,  3.89267586,  4.41552176,  5.43950597,  2.96445988,\n",
       "         3.97647275,  4.17419893,  3.41357352,  0.        ,  5.00783489],\n",
       "       [ 4.66041195,  4.31622392,  4.79974086,  4.17963359,  3.47405507,\n",
       "         5.12842958,  2.69225342,  5.50366599,  3.55323926,  4.1047133 ,\n",
       "         3.0099458 ,  5.39733464,  5.36385319,  2.70440335,  3.3695167 ,\n",
       "         3.06771834,  4.29206202,  2.73570296,  0.        ,  2.84040601]])"
      ]
     },
     "execution_count": 100,
     "metadata": {},
     "output_type": "execute_result"
    }
   ],
   "source": [
    "droppedx1_y1 = apply_fuzz(mean_cell1, np.copy(x1_y1))\n",
    "droppedx1_y1"
   ]
  },
  {
   "cell_type": "code",
   "execution_count": 101,
   "metadata": {
    "collapsed": false
   },
   "outputs": [
    {
     "data": {
      "text/plain": [
       "array([[-2.60352767, -5.39539908, -3.16298147, -4.51893579,  0.        ,\n",
       "         0.        , -5.68024788, -4.25106884,  0.        , -3.380763  ,\n",
       "        -4.28696898, -4.40756906, -4.80656274, -4.2225419 , -4.87543919,\n",
       "        -3.47585833,  0.        , -3.65521251, -4.7529123 , -3.46876132],\n",
       "       [-5.14843231, -4.67327897, -4.03642136, -4.71763569,  0.        ,\n",
       "         0.        , -5.41578741, -5.18508178,  0.        , -4.13469881,\n",
       "        -4.13528308, -3.87211486, -3.6155    , -2.42933157, -4.76684235,\n",
       "        -3.31638258,  0.        , -3.19932474, -4.38963826, -3.21731084]])"
      ]
     },
     "execution_count": 101,
     "metadata": {},
     "output_type": "execute_result"
    }
   ],
   "source": [
    "droppedx2_y2 = apply_fuzz(mean_cell2, np.copy(x2_y2))\n",
    "droppedx2_y2"
   ]
  },
  {
   "cell_type": "raw",
   "metadata": {},
   "source": []
  },
  {
   "cell_type": "code",
   "execution_count": null,
   "metadata": {
    "collapsed": true
   },
   "outputs": [],
   "source": []
  },
  {
   "cell_type": "code",
   "execution_count": null,
   "metadata": {
    "collapsed": true
   },
   "outputs": [],
   "source": []
  },
  {
   "cell_type": "code",
   "execution_count": null,
   "metadata": {
    "collapsed": true
   },
   "outputs": [],
   "source": []
  },
  {
   "cell_type": "code",
   "execution_count": null,
   "metadata": {
    "collapsed": true
   },
   "outputs": [],
   "source": []
  },
  {
   "cell_type": "code",
   "execution_count": null,
   "metadata": {
    "collapsed": true
   },
   "outputs": [],
   "source": []
  },
  {
   "cell_type": "code",
   "execution_count": null,
   "metadata": {
    "collapsed": true
   },
   "outputs": [],
   "source": []
  },
  {
   "cell_type": "code",
   "execution_count": null,
   "metadata": {
    "collapsed": true
   },
   "outputs": [],
   "source": []
  }
 ],
 "metadata": {
  "kernelspec": {
   "display_name": "Python 2",
   "language": "python",
   "name": "python2"
  },
  "language_info": {
   "codemirror_mode": {
    "name": "ipython",
    "version": 2
   },
   "file_extension": ".py",
   "mimetype": "text/x-python",
   "name": "python",
   "nbconvert_exporter": "python",
   "pygments_lexer": "ipython2",
   "version": "2.7.11"
  }
 },
 "nbformat": 4,
 "nbformat_minor": 0
}

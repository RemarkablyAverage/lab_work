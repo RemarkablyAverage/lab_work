{
 "cells": [
  {
   "cell_type": "markdown",
   "metadata": {},
   "source": [
    "# Formalized Problem\n",
    "    1. Given a gene matrix, correct for gene expression drop otu"
   ]
  },
  {
   "cell_type": "markdown",
   "metadata": {},
   "source": [
    "# Create Data for PCA"
   ]
  },
  {
   "cell_type": "code",
   "execution_count": 1,
   "metadata": {
    "collapsed": false
   },
   "outputs": [
    {
     "name": "stdout",
     "output_type": "stream",
     "text": [
      "Populating the interactive namespace from numpy and matplotlib\n"
     ]
    }
   ],
   "source": [
    "import numpy as np\n",
    "import math\n",
    "%pylab inline\n",
    "from matplotlib import pyplot as plt\n",
    "from mpl_toolkits.mplot3d import Axes3D\n",
    "from mpl_toolkits.mplot3d import proj3d\n",
    "from matplotlib import pyplot as plt\n",
    "from scipy.cluster.hierarchy import dendrogram, linkage\n",
    "import numpy as np\n",
    "from scipy.cluster.vq import kmeans,vq\n",
    "from scipy.spatial.distance import cdist\n",
    "from sklearn.decomposition import PCA as sklearnPCA\n"
   ]
  },
  {
   "cell_type": "markdown",
   "metadata": {},
   "source": [
    "# Create Cell Data"
   ]
  },
  {
   "cell_type": "code",
   "execution_count": 2,
   "metadata": {
    "collapsed": true
   },
   "outputs": [],
   "source": [
    "np.random.seed(4294967295) # random seed for consistency"
   ]
  },
  {
   "cell_type": "markdown",
   "metadata": {},
   "source": [
    "# Cell 1 Data"
   ]
  },
  {
   "cell_type": "code",
   "execution_count": 106,
   "metadata": {
    "collapsed": false
   },
   "outputs": [
    {
     "data": {
      "text/plain": [
       "(30, 10)"
      ]
     },
     "execution_count": 106,
     "metadata": {},
     "output_type": "execute_result"
    }
   ],
   "source": [
    "#Set parameters\n",
    "mean_cell1 = [8,8,8,8,7,7,9,7,8,8]\n",
    "cov = np.identity(10) \n",
    "cell1 = np.random.multivariate_normal(mean_cell1, cov, 30)\n",
    "shape(cell1)"
   ]
  },
  {
   "cell_type": "markdown",
   "metadata": {},
   "source": [
    "# Cell 2 Data"
   ]
  },
  {
   "cell_type": "code",
   "execution_count": 107,
   "metadata": {
    "collapsed": false
   },
   "outputs": [
    {
     "data": {
      "text/plain": [
       "(30, 10)"
      ]
     },
     "execution_count": 107,
     "metadata": {},
     "output_type": "execute_result"
    }
   ],
   "source": [
    "mean_cell2 = [4,4,2,3,4,3,4,5,4,4]\n",
    "cov = np.identity(10) \n",
    "cell2 = np.random.multivariate_normal(mean_cell2, cov, 30)\n",
    "shape(cell2)\n"
   ]
  },
  {
   "cell_type": "markdown",
   "metadata": {},
   "source": [
    "# Cell 3 Data"
   ]
  },
  {
   "cell_type": "code",
   "execution_count": 108,
   "metadata": {
    "collapsed": false
   },
   "outputs": [
    {
     "data": {
      "text/plain": [
       "(30, 10)"
      ]
     },
     "execution_count": 108,
     "metadata": {},
     "output_type": "execute_result"
    }
   ],
   "source": [
    "mean_cell3 = [0,1,1,2,1,0,1,1,2,2]\n",
    "cov = np.identity(10) \n",
    "cell3 = np.random.multivariate_normal(mean_cell3, cov, 30)\n",
    "shape(cell3)"
   ]
  },
  {
   "cell_type": "markdown",
   "metadata": {},
   "source": [
    "# Dimension Viz + Plot without Drop Out "
   ]
  },
  {
   "cell_type": "code",
   "execution_count": 119,
   "metadata": {
    "collapsed": false
   },
   "outputs": [
    {
     "name": "stdout",
     "output_type": "stream",
     "text": [
      "(90, 10)\n"
     ]
    },
    {
     "data": {
      "text/plain": [
       "(90, 5)"
      ]
     },
     "execution_count": 119,
     "metadata": {},
     "output_type": "execute_result"
    }
   ],
   "source": [
    "#Cell PCA\n",
    "#feature space/genes = 10, samples = 90\n",
    "#each element is the level of expression (log read count) of the jth gene, ith sample\n",
    "\n",
    "t = np.concatenate((cell1, cell2, cell3),)\n",
    "print shape(t)\n",
    "pca1 = sklearnPCA(n_components=5)\n",
    "fitted1 = pca1.fit(t)\n",
    "trans1 = pca1.transform(t)\n",
    "shape(trans1)"
   ]
  },
  {
   "cell_type": "code",
   "execution_count": 110,
   "metadata": {
    "collapsed": true
   },
   "outputs": [],
   "source": [
    "# #Cell 2 PCA\n",
    "# pca2 = sklearnPCA(n_components=10)\n",
    "# fitted2 = pca2.fit(cell2)\n",
    "# trans2 = pca2.transform(cell2) "
   ]
  },
  {
   "cell_type": "code",
   "execution_count": 111,
   "metadata": {
    "collapsed": false
   },
   "outputs": [
    {
     "data": {
      "image/png": "[encoded data removed]",
      "text/plain": [
       "<matplotlib.figure.Figure at 0x1103074d0>"
      ]
     },
     "metadata": {},
     "output_type": "display_data"
    }
   ],
   "source": [
    "plt.plot(trans1[:,0], trans1[:,1], 'o', markersize=7, color='blue', alpha=0.5, label='celldata')\n",
    "#plt.plot(trans2[:,0], trans2[:,1], '^', markersize=7, color='red', alpha=0.5, label='cell2')\n",
    "\n",
    "plt.xlabel('PC 1')\n",
    "plt.ylabel('PC 2')\n",
    "plt.xlim([-15,15])\n",
    "plt.ylim([-15,15])\n",
    "plt.legend()\n",
    "plt.title('Transformed samples without dropout rate')\n",
    "\n",
    "plt.show()"
   ]
  },
  {
   "cell_type": "code",
   "execution_count": 112,
   "metadata": {
    "collapsed": false
   },
   "outputs": [
    {
     "data": {
      "text/plain": [
       "array([-0.23316383, -0.30869411, -0.11665085,  0.69953386,  0.42248976,\n",
       "       -0.96678886, -1.22469783, -0.77301821, -1.477204  , -1.06425889,\n",
       "       -0.69659406, -0.61638165,  0.24439628, -1.1798189 , -2.30507036,\n",
       "        0.24519629, -0.95701653, -0.46949311, -1.36761843, -1.83792262,\n",
       "       -1.94359267, -1.03749372, -0.27709268, -0.31337866, -2.14540754,\n",
       "       -3.3391291 ,  0.32023871,  0.28559193,  0.17694161, -1.21890807,\n",
       "        3.18185469,  3.31570023,  2.20089583,  0.29155573,  1.89713408,\n",
       "        1.95620799,  0.88013391,  2.33709128,  1.9655611 ,  4.7099501 ,\n",
       "        2.26541764,  1.67374326,  1.24250756,  1.67780465,  2.26065963,\n",
       "        0.41343231,  3.73829609,  2.69733939,  1.98876608,  2.43472412,\n",
       "        4.2516874 ,  2.06360773,  2.07235404,  2.28904265, -0.10020287,\n",
       "        1.99600032,  1.52254634,  0.29721636,  2.34944784,  3.59717233,\n",
       "       -1.37953472, -1.44536952, -1.51365343, -0.25801362, -1.01000946,\n",
       "       -1.50145515, -1.5962486 ,  0.14278429, -0.97345245, -2.13175753,\n",
       "       -1.35242194, -2.13972735, -0.96721881, -1.78483576, -1.58778585,\n",
       "        1.93416073, -2.36822385, -0.89561629, -0.81500134, -2.90864436,\n",
       "       -1.09751876, -1.03844269, -1.44606556, -2.16438335, -1.35368039,\n",
       "       -2.83379792, -1.88343824, -0.45633626, -2.60995043, -0.55700294])"
      ]
     },
     "execution_count": 112,
     "metadata": {},
     "output_type": "execute_result"
    }
   ],
   "source": [
    "trans1[:,1]"
   ]
  },
  {
   "cell_type": "code",
   "execution_count": null,
   "metadata": {
    "collapsed": false
   },
   "outputs": [],
   "source": []
  },
  {
   "cell_type": "markdown",
   "metadata": {},
   "source": [
    "# Drop out rate parameters"
   ]
  },
  {
   "cell_type": "code",
   "execution_count": 129,
   "metadata": {
    "collapsed": true
   },
   "outputs": [],
   "source": [
    "#mu is the mean vector aka centroid\n",
    "def drop_out(exp):\n",
    "    p = math.e**(-.1 * exp**2)\n",
    "    return np.random.binomial(1, p, 1)[0]"
   ]
  },
  {
   "cell_type": "code",
   "execution_count": 130,
   "metadata": {
    "collapsed": true
   },
   "outputs": [],
   "source": [
    "noise_1 = .1 * np.random.randn(shape(t)[0], shape(t)[1]) \n",
    "# noise_2 = .1 * np.random.randn(shape(cell2)[0], shape(cell2)[1]) "
   ]
  },
  {
   "cell_type": "code",
   "execution_count": 131,
   "metadata": {
    "collapsed": true
   },
   "outputs": [],
   "source": [
    "nsd1 = np.copy(t) + np.copy(noise_1)\n",
    "#nsd2 = np.copy(cell2) + np.copy(noise_2)"
   ]
  },
  {
   "cell_type": "code",
   "execution_count": 132,
   "metadata": {
    "collapsed": false
   },
   "outputs": [
    {
     "name": "stdout",
     "output_type": "stream",
     "text": [
      "342\n"
     ]
    }
   ],
   "source": [
    "count = 0\n",
    "for (i,j), value in numpy.ndenumerate(nsd1):\n",
    "    if (drop_out(value) == 1):\n",
    "        count += 1\n",
    "        nsd1[i,j] = 0\n",
    "print count"
   ]
  },
  {
   "cell_type": "code",
   "execution_count": 133,
   "metadata": {
    "collapsed": false
   },
   "outputs": [
    {
     "data": {
      "text/plain": [
       "(90, 10)"
      ]
     },
     "execution_count": 133,
     "metadata": {},
     "output_type": "execute_result"
    }
   ],
   "source": [
    "shape(nsd1)"
   ]
  },
  {
   "cell_type": "code",
   "execution_count": 134,
   "metadata": {
    "collapsed": false,
    "scrolled": false
   },
   "outputs": [
    {
     "data": {
      "text/plain": [
       "array([[  8.71756476,   7.41966421,   7.84841081,   8.06106977,\n",
       "          8.09707229,   7.06698628,   9.25250314,   6.849659  ,\n",
       "          7.82316931,   7.89703802],\n",
       "       [  7.76947104,   6.39677202,   6.84111947,   7.79015147,\n",
       "          7.20048624,   7.81003976,   9.08530092,   6.30589603,\n",
       "          7.38320015,   7.86295603],\n",
       "       [  7.05477619,   8.57923986,   7.19999229,   8.41160252,\n",
       "          6.64268328,   5.79005019,   9.08864476,   7.93435268,\n",
       "          8.07084993,   6.94865458],\n",
       "       [  6.64345628,   7.50319829,   6.76425339,   6.46936686,\n",
       "          7.18774503,   4.96181977,   9.54063412,   7.36948207,\n",
       "          7.04497078,   7.34318929],\n",
       "       [  9.03469186,   6.50311542,   7.9174532 ,   6.95550253,\n",
       "          5.92613966,   6.54478648,   9.4118222 ,   7.81474099,\n",
       "          8.33345176,   7.34150107],\n",
       "       [  8.27518128,   8.24693373,   7.22783167,   8.0677407 ,\n",
       "          7.08509357,   6.33958122,   8.17441388,   5.87957239,\n",
       "          8.67303541,   8.22384527],\n",
       "       [  7.5522759 ,   9.33229482,   7.77017569,   8.02040593,\n",
       "          6.87712271,   7.30656204,   8.60838969,   5.48330632,\n",
       "          6.72256322,   8.22158862],\n",
       "       [  8.05668229,   8.83089586,   7.29823446,   8.13268232,\n",
       "          7.78042452,   5.79800865,   9.80351776,   6.29678067,\n",
       "          8.85841142,   7.35219122],\n",
       "       [  8.58846606,   6.97545274,   8.57147892,   8.10121539,\n",
       "          6.90483496,   7.85576697,   7.68572866,   6.26462709,\n",
       "          9.43251724,   9.0663771 ],\n",
       "       [  8.12100389,   6.80167455,   8.2612029 ,   8.73352784,\n",
       "          6.00150761,   8.6806346 ,  12.28322022,   7.00964082,\n",
       "          7.38038238,   9.74123735],\n",
       "       [  6.68958881,   7.4825843 ,   7.2019832 ,   8.68769767,\n",
       "          8.0264768 ,   6.60685344,  10.95190839,   6.87193862,\n",
       "          7.14320884,   7.44879635],\n",
       "       [  7.30863532,   8.57293172,   7.21995483,   7.9234967 ,\n",
       "          6.35023679,   7.9051519 ,   8.44452515,   6.26777806,\n",
       "          7.09850751,   9.48063094],\n",
       "       [  7.53590653,   7.59882448,   7.25160104,   7.77637912,\n",
       "          7.58752131,   7.73731138,   9.37709581,   7.42964298,\n",
       "          8.80615489,   8.31502603],\n",
       "       [  7.68360802,   7.82678746,   7.03588284,   9.11216931,\n",
       "          5.64063367,   6.33122893,   8.15950657,   7.14301664,\n",
       "          9.04727099,   9.34463084],\n",
       "       [  8.01460999,   8.3144767 ,  10.00663408,   7.28366177,\n",
       "          7.76135889,   7.90901921,   8.37379256,   4.66771435,\n",
       "          6.84163784,   7.42101342],\n",
       "       [  8.49991143,   7.52696683,   7.51303147,   7.10109684,\n",
       "          6.88409515,   6.36265289,   8.90168723,   7.61885349,\n",
       "          8.37962777,   8.56826634],\n",
       "       [  7.84830631,   9.01978856,   5.90272164,   9.10066539,\n",
       "          8.80304086,   7.33733033,   9.69820027,   4.9873756 ,\n",
       "          7.86369414,   7.60900878],\n",
       "       [  6.99797389,   8.3809932 ,   6.00630218,   8.58175359,\n",
       "          6.7347322 ,   7.02958692,  10.52118099,   6.52337218,\n",
       "          8.2950207 ,   7.64748486],\n",
       "       [  5.80751621,   8.64435334,   7.84871544,   8.31122421,\n",
       "          7.37267075,   6.52402067,   7.45071713,   6.25130064,\n",
       "          8.15832882,   7.25492174],\n",
       "       [  7.45322958,   9.99580435,  10.16349946,   8.44100205,\n",
       "          7.17090961,   7.85941157,   9.9257031 ,   6.37249525,\n",
       "          8.18844993,   6.67070922],\n",
       "       [  7.44835769,   8.36955029,  10.18767404,   6.42285518,\n",
       "          6.80813841,   4.95042067,   8.45417345,   5.76992184,\n",
       "          7.2983232 ,   8.42910367],\n",
       "       [  8.50128726,   6.97444405,   8.65927862,   8.4098994 ,\n",
       "          6.37787576,   6.38154392,   7.83255476,   7.48438709,\n",
       "          7.21912198,   7.3110895 ],\n",
       "       [  7.76430951,   8.6698415 ,   7.19337469,   8.80597334,\n",
       "          6.31356149,   6.29509366,  10.5665855 ,   7.61337057,\n",
       "          7.43295277,   6.95134184],\n",
       "       [  9.27354928,   6.43924386,   8.71079334,   9.04491109,\n",
       "          7.68393108,   7.52465447,   8.08428969,   7.81171928,\n",
       "          8.08933085,   7.41086758],\n",
       "       [  5.52067976,   7.90360949,   7.98814519,   9.42932018,\n",
       "          7.05860261,   6.88528511,   9.8865209 ,   6.40857835,\n",
       "          7.66220127,   7.65197264],\n",
       "       [  8.55753241,   8.29518582,  10.65898235,   9.16772285,\n",
       "          5.58028152,   5.68993526,   8.93179412,   6.19822871,\n",
       "          9.09836099,   9.24733325],\n",
       "       [  8.01278453,   7.59790168,   8.99519699,   7.6544103 ,\n",
       "          6.98595912,   7.81004487,   9.46606686,   8.50682656,\n",
       "          7.21712438,   9.00195911],\n",
       "       [  9.08549588,   7.90383693,   8.73269846,   6.93767495,\n",
       "          9.4919638 ,   6.05664213,   9.69217594,   7.24564127,\n",
       "          6.76916765,   8.01158414],\n",
       "       [  9.43021436,   8.80966588,   7.44693826,   7.67034435,\n",
       "          8.36692302,   5.94488504,  11.34588865,   7.25930149,\n",
       "          8.5886577 ,   9.0528385 ],\n",
       "       [  7.55751479,   8.40087982,   8.32035173,   7.61724536,\n",
       "          5.62818333,   5.96312404,   7.27855034,   6.59546933,\n",
       "          6.91054574,   8.8186268 ],\n",
       "       [  3.05422378,   0.        ,   2.62421119,   0.        ,\n",
       "          3.64879049,   0.        ,   5.06174901,   4.98751308,\n",
       "          5.03503857,   4.82620142],\n",
       "       [  4.08939114,   6.01985606,   0.        ,   0.        ,\n",
       "          3.95599915,   0.        ,   0.        ,   5.44134368,\n",
       "          2.94016733,   3.49438239],\n",
       "       [  4.72090539,   5.04210349,   0.        ,   2.53683061,\n",
       "          0.        ,   0.        ,   5.11342978,   0.        ,\n",
       "          3.2329984 ,   4.87672715],\n",
       "       [  3.5201556 ,   3.37503719,   2.88739768,   0.        ,\n",
       "          4.66136584,   0.        ,   4.9807171 ,   4.46452799,\n",
       "          0.        ,   3.73164304],\n",
       "       [  4.65476401,   5.34854142,   0.        ,   2.63219256,\n",
       "          3.16199052,   0.        ,   0.        ,   4.92414574,\n",
       "          4.11658065,   0.        ],\n",
       "       [  0.        ,   3.9278493 ,   0.        ,   0.        ,\n",
       "          2.45631452,   0.        ,   4.84697   ,   5.87421886,\n",
       "          4.04593524,   4.46675914],\n",
       "       [  0.        ,   0.        ,   0.        ,   4.02250756,\n",
       "          3.57831808,   0.        ,   4.81317289,   5.26528655,\n",
       "          4.0441555 ,   0.        ],\n",
       "       [  0.        ,   4.21649446,   0.        ,   4.58882494,\n",
       "          3.83370479,   0.        ,   3.45462759,   5.89337531,\n",
       "          4.06891639,   0.        ],\n",
       "       [  3.79170946,   4.31224549,   3.49312899,   2.29340282,\n",
       "          3.93127784,   1.70113399,   5.14677883,   6.19144786,\n",
       "          3.57160056,   4.79475923],\n",
       "       [  4.14375386,   3.50094728,   1.47995796,   0.        ,\n",
       "          4.57787213,   4.12071712,   0.        ,   0.        ,\n",
       "          4.99473967,   3.40947048],\n",
       "       [  0.        ,   0.        ,   0.        ,   2.86718325,\n",
       "          0.        ,   3.51789923,   3.89022127,   5.95008827,\n",
       "          4.63194289,   5.15074001],\n",
       "       [  5.47057416,   0.        ,   0.        ,   0.        ,\n",
       "          3.55058208,   2.94159067,   0.        ,   4.65723601,\n",
       "          6.14558374,   4.02582025],\n",
       "       [  3.95225983,   5.09954807,   0.        ,   2.56388572,\n",
       "          3.84736056,   2.3063567 ,   0.        ,   4.32463554,\n",
       "          4.42692792,   2.14354716],\n",
       "       [  4.68578527,   4.56586466,   0.        ,   2.76487303,\n",
       "          0.        ,   0.        ,   5.13909656,   0.        ,\n",
       "          3.7349101 ,   5.68839644],\n",
       "       [  3.30349345,   6.00576491,   1.57858458,   3.86006733,\n",
       "          4.25990733,   4.04568917,   5.58888166,   5.84410967,\n",
       "          4.83303817,   0.        ],\n",
       "       [  4.52431528,   0.        ,   0.        ,   3.64316453,\n",
       "          3.69843301,   0.        ,   4.84181349,   0.        ,\n",
       "          0.        ,   2.97632405],\n",
       "       [  0.        ,   4.57960431,   0.        ,   0.        ,\n",
       "          3.27453906,   4.42477423,   5.53715769,   0.        ,\n",
       "          0.        ,   4.26672323],\n",
       "       [  0.        ,   3.45760252,   1.74126127,   0.        ,\n",
       "          4.28624845,   3.95073456,   3.70283703,   4.96956911,\n",
       "          3.52921581,   0.        ],\n",
       "       [  2.63795404,   0.        ,   0.        ,   3.6096106 ,\n",
       "          5.693056  ,   3.49872755,   3.62916428,   6.17579385,\n",
       "          4.27303359,   0.        ],\n",
       "       [  4.26607233,   4.20470276,   0.        ,   0.        ,\n",
       "          3.4693778 ,   0.        ,   4.43319659,   5.46197852,\n",
       "          0.        ,   5.97369856],\n",
       "       [  3.01153109,   4.8123336 ,   0.        ,   1.18590679,\n",
       "          0.        ,   3.61375303,   5.87988719,   7.25483324,\n",
       "          0.        ,   3.43382184],\n",
       "       [  5.17739282,   3.92025593,   0.        ,   0.        ,\n",
       "          5.67513297,   0.        ,   0.        ,   3.7215214 ,\n",
       "          3.25071053,   4.60178068],\n",
       "       [  3.57652305,   4.90713246,   0.        ,   3.41491574,\n",
       "          4.52469059,   3.42949525,   4.56565434,   4.88918754,\n",
       "          4.33809871,   5.14843307],\n",
       "       [  3.37942366,   4.05240779,   0.        ,   2.95083392,\n",
       "          4.43409872,   2.77928613,   0.        ,   5.68966822,\n",
       "          3.56256807,   3.2663627 ],\n",
       "       [  0.        ,   1.72451515,   0.95451633,   4.69344088,\n",
       "          4.04535827,   4.16436578,   4.00150258,   0.        ,\n",
       "          3.80974967,   0.        ],\n",
       "       [  4.40417034,   4.53069021,   0.        ,   3.03038328,\n",
       "          2.81490057,   3.33008729,   4.79205205,   4.86253343,\n",
       "          0.        ,   0.        ],\n",
       "       [  3.42387534,   0.        ,   0.        ,   4.41769698,\n",
       "          4.93280038,   0.        ,   0.        ,   5.6835317 ,\n",
       "          3.06625649,   4.42550545],\n",
       "       [  3.60064125,   0.        ,   3.36483575,   0.        ,\n",
       "          2.84938204,   3.24625921,   0.        ,   4.33545704,\n",
       "          3.47542912,   4.32646886],\n",
       "       [  0.        ,   0.        ,   4.0257217 ,   1.3774139 ,\n",
       "          5.49807312,   0.        ,   4.3138046 ,   5.1876652 ,\n",
       "          2.99531208,   2.00897628],\n",
       "       [  0.        ,   3.87696669,   0.        ,   0.        ,\n",
       "          4.91152431,   4.0425284 ,   3.6559948 ,   5.19418028,\n",
       "          4.02090208,   4.08983903],\n",
       "       [  0.        ,   0.        ,   0.        ,   2.66364526,\n",
       "          0.        ,   0.        ,   0.        ,   0.        ,\n",
       "          2.84637666,   0.        ],\n",
       "       [  0.        ,   0.        ,   2.83876187,   0.        ,\n",
       "          0.        ,   0.        ,   0.        ,   0.        ,\n",
       "          0.        ,   1.65454908],\n",
       "       [  0.        ,   0.        ,   0.        ,   0.        ,\n",
       "          0.        ,   0.        ,   0.        ,   0.        ,\n",
       "          2.542002  ,   0.        ],\n",
       "       [  0.        ,   0.        ,   0.        ,   0.        ,\n",
       "          0.        ,   0.        ,   0.        ,   0.        ,\n",
       "          2.82124641,   0.        ],\n",
       "       [  0.        ,   0.        ,   0.        ,   0.        ,\n",
       "          0.        ,   0.        ,   0.        ,   0.        ,\n",
       "          0.        ,   1.34953099],\n",
       "       [  0.        ,   1.31210113,   0.        ,   0.        ,\n",
       "          2.37807808,   0.        ,   0.        ,   1.08151364,\n",
       "          0.        ,   0.        ],\n",
       "       [  0.        ,   0.        ,   0.        ,   2.87061035,\n",
       "          0.        ,   0.        ,   1.94221713,   0.        ,\n",
       "          0.        ,   0.        ],\n",
       "       [  0.        ,   0.        ,   0.        ,   0.        ,\n",
       "          0.        ,   0.        ,   0.        ,   0.        ,\n",
       "          0.        ,   0.        ],\n",
       "       [  1.18782928,   2.72660122,   2.88399561,   0.        ,\n",
       "          0.        ,   0.        ,   2.87313562,   0.        ,\n",
       "          0.        ,   3.27288886],\n",
       "       [  0.        ,   0.        ,   0.        ,   4.64521101,\n",
       "          0.        ,   0.        ,   0.        ,   0.        ,\n",
       "          0.        ,   0.        ],\n",
       "       [  0.        ,  -0.16312262,   0.        ,   2.99269198,\n",
       "          2.69589144,   0.        ,   0.        ,   0.        ,\n",
       "          0.        ,   1.38612579],\n",
       "       [  0.        ,   0.        ,   0.        ,   0.        ,\n",
       "          0.        ,   0.        ,   2.70234407,   0.        ,\n",
       "          0.        ,   0.        ],\n",
       "       [  0.        ,   0.        ,   0.        ,   0.        ,\n",
       "          0.        ,   0.        ,   0.        ,   0.        ,\n",
       "          0.        ,   0.        ],\n",
       "       [  0.        ,   0.        ,   0.        ,   2.73554365,\n",
       "          1.5855352 ,   0.        ,   0.        ,   0.        ,\n",
       "          4.41195217,   0.        ],\n",
       "       [  0.        ,   0.        ,   0.        ,   0.        ,\n",
       "          0.        ,   0.        ,   3.29746072,   0.        ,\n",
       "          0.        ,   3.73165469],\n",
       "       [  0.        ,   0.        ,  -1.80740636,   0.        ,\n",
       "          0.        ,   0.        ,   0.        ,   0.        ,\n",
       "          0.        ,   2.54487384],\n",
       "       [  0.        ,   1.73692362,   0.        ,   3.07751183,\n",
       "          0.        ,   0.        ,   2.90288008,   0.        ,\n",
       "          0.        ,   0.        ],\n",
       "       [  0.        ,   0.        ,   0.        ,   0.        ,\n",
       "          0.        ,   0.        ,   0.        ,   0.        ,\n",
       "          0.        ,   0.        ],\n",
       "       [  0.        ,   0.        ,   0.        ,   0.        ,\n",
       "          1.79734207,   0.        ,   0.        ,   1.53468642,\n",
       "          0.        ,   0.        ],\n",
       "       [  0.        ,   0.        ,   0.        ,   2.80525664,\n",
       "          0.        ,  -1.90649875,   0.        ,   0.        ,\n",
       "          0.        ,   0.        ],\n",
       "       [  0.        ,   0.        ,   0.        ,   1.7935797 ,\n",
       "          1.57332111,   0.        ,   0.        ,   0.        ,\n",
       "          2.87040391,   0.        ],\n",
       "       [  0.        ,   0.        ,   0.        ,   0.        ,\n",
       "          0.        ,   0.        ,   0.        ,   0.        ,\n",
       "          0.        ,   1.27432312],\n",
       "       [  0.        ,   1.03602437,   0.        ,   2.80193078,\n",
       "          0.        ,   0.        ,   0.        ,   0.        ,\n",
       "          0.        ,   0.        ],\n",
       "       [  0.        ,   3.24181712,   0.        ,   2.49000229,\n",
       "          0.        ,   0.        ,   0.        ,   0.        ,\n",
       "          2.27985358,   2.72755834],\n",
       "       [  0.        ,   0.        ,   2.14753087,   0.        ,\n",
       "          0.        ,   0.        ,   0.        ,   0.        ,\n",
       "          0.        ,   0.        ],\n",
       "       [  0.        ,   0.        ,   0.        ,   0.        ,\n",
       "          0.        ,  -2.25530044,   0.        ,   0.        ,\n",
       "          0.        ,   2.06607307],\n",
       "       [  0.        ,   0.        ,   0.        ,   0.        ,\n",
       "          0.        ,   0.        ,   1.89902664,   0.        ,\n",
       "          0.        ,   0.        ],\n",
       "       [  0.        ,   0.        ,   0.        ,   0.        ,\n",
       "          0.        ,   0.        ,   0.        ,   0.6305912 ,\n",
       "          0.        ,   0.        ],\n",
       "       [  0.        ,   0.        ,   0.        ,   4.49338991,\n",
       "          0.        ,   0.        ,   0.        ,   0.40578534,\n",
       "          2.55558906,   0.        ],\n",
       "       [  0.        ,   0.        ,   0.        ,   1.85404817,\n",
       "          0.        ,   0.        ,   0.        ,   0.        ,\n",
       "          0.        ,   0.        ]])"
      ]
     },
     "execution_count": 134,
     "metadata": {},
     "output_type": "execute_result"
    }
   ],
   "source": [
    "nsd1"
   ]
  },
  {
   "cell_type": "code",
   "execution_count": null,
   "metadata": {
    "collapsed": true
   },
   "outputs": [],
   "source": []
  },
  {
   "cell_type": "markdown",
   "metadata": {
    "collapsed": true
   },
   "source": [
    "# With Dropout Visualization"
   ]
  },
  {
   "cell_type": "code",
   "execution_count": 137,
   "metadata": {
    "collapsed": false
   },
   "outputs": [
    {
     "data": {
      "text/plain": [
       "(90, 5)"
      ]
     },
     "execution_count": 137,
     "metadata": {},
     "output_type": "execute_result"
    }
   ],
   "source": [
    "#Cell PCA\n",
    "#feature space = 90, samples = 10\n",
    "pca2 = sklearnPCA(n_components=5)\n",
    "fitted1 = pca2.fit(nsd1)\n",
    "trans2 = pca1.transform(nsd1)\n",
    "shape(trans2)"
   ]
  },
  {
   "cell_type": "code",
   "execution_count": 138,
   "metadata": {
    "collapsed": false
   },
   "outputs": [
    {
     "data": {
      "image/png": "[encoded data removed]",
      "text/plain": [
       "<matplotlib.figure.Figure at 0x110a532d0>"
      ]
     },
     "metadata": {},
     "output_type": "display_data"
    }
   ],
   "source": [
    "plt.plot(trans2[:,0], trans2[:,1], 'o', markersize=7, color='blue', alpha=0.5, label='cells')\n",
    "\n",
    "plt.xlabel('PC 1')\n",
    "plt.ylabel('PC 2')\n",
    "plt.xlim([-15,15])\n",
    "plt.ylim([-15,15])\n",
    "plt.legend()\n",
    "plt.title('Transformed samples without dropout rate')\n",
    "\n",
    "plt.show()"
   ]
  },
  {
   "cell_type": "code",
   "execution_count": 126,
   "metadata": {
    "collapsed": false
   },
   "outputs": [
    {
     "data": {
      "text/plain": [
       "array([  6.34234262,   9.64011131,   0.62964911,   1.24164057,\n",
       "         4.7659998 ,   6.11929852,   2.19147685,   3.72038935,\n",
       "         1.95230652,   3.13398982,  -2.71253104,   8.44854873,\n",
       "         7.13612209,   2.27915619,  -4.78519053,   0.12456677,\n",
       "         3.07691727,   3.76882395,   8.76033712,  -6.8542574 ,\n",
       "         5.69809928,  -1.3701777 ,  -3.15459602,   2.66825074,\n",
       "         8.927798  ,  -2.3100824 ,   1.56081316,   8.58607774,\n",
       "         5.40957441,  10.1844654 ,  13.07182318,  13.07182318,\n",
       "        13.07182318,  13.07182318,  11.78859629,  10.14125432,\n",
       "        10.2798071 ,   8.76789611,   9.07692122,  11.28090186,\n",
       "        13.07182318,  13.07182318,  11.89068287,  11.30118412,\n",
       "         8.81478189,  10.38162016,  13.07182318,  13.07182318,\n",
       "        10.51757376,  11.90272638,   7.34286619,  11.21000177,\n",
       "        11.79764733,  11.78862205,  11.61483288,  13.07182318,\n",
       "        13.07182318,  12.09535808,  10.189975  ,  13.07182318,\n",
       "        12.30077905,  12.5192522 ,  13.07182318,  13.07182318,\n",
       "        12.59905545,  13.07182318,  13.07182318,  13.07182318,\n",
       "        11.57611647,  13.07182318,  13.07182318,  12.04504804,\n",
       "        13.07182318,  13.07182318,  12.41562752,  13.07182318,\n",
       "        13.07182318,  13.07182318,  13.07182318,  13.07182318,\n",
       "        13.07182318,  13.07182318,  12.42891561,  12.62620021,\n",
       "        13.07182318,  13.07182318,  13.07182318,  13.07182318,\n",
       "        13.07182318,  13.07182318])"
      ]
     },
     "execution_count": 126,
     "metadata": {},
     "output_type": "execute_result"
    }
   ],
   "source": [
    "trans2[:,0]"
   ]
  },
  {
   "cell_type": "code",
   "execution_count": null,
   "metadata": {
    "collapsed": true
   },
   "outputs": [],
   "source": []
  },
  {
   "cell_type": "code",
   "execution_count": null,
   "metadata": {
    "collapsed": true
   },
   "outputs": [],
   "source": []
  },
  {
   "cell_type": "code",
   "execution_count": null,
   "metadata": {
    "collapsed": true
   },
   "outputs": [],
   "source": []
  },
  {
   "cell_type": "code",
   "execution_count": null,
   "metadata": {
    "collapsed": true
   },
   "outputs": [],
   "source": []
  },
  {
   "cell_type": "code",
   "execution_count": null,
   "metadata": {
    "collapsed": true
   },
   "outputs": [],
   "source": []
  },
  {
   "cell_type": "code",
   "execution_count": null,
   "metadata": {
    "collapsed": true
   },
   "outputs": [],
   "source": []
  },
  {
   "cell_type": "code",
   "execution_count": null,
   "metadata": {
    "collapsed": true
   },
   "outputs": [],
   "source": []
  }
 ],
 "metadata": {
  "kernelspec": {
   "display_name": "Python 2",
   "language": "python",
   "name": "python2"
  },
  "language_info": {
   "codemirror_mode": {
    "name": "ipython",
    "version": 2
   },
   "file_extension": ".py",
   "mimetype": "text/x-python",
   "name": "python",
   "nbconvert_exporter": "python",
   "pygments_lexer": "ipython2",
   "version": "2.7.11"
  }
 },
 "nbformat": 4,
 "nbformat_minor": 0
}

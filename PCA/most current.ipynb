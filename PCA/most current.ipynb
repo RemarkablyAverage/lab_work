{
 "cells": [
  {
   "cell_type": "markdown",
   "metadata": {},
   "source": [
    "# Formalized Problem\n",
    "    1. Given a gene matrix, correct for gene expression drop out"
   ]
  },
  {
   "cell_type": "markdown",
   "metadata": {},
   "source": [
    "# Create Data for PCA"
   ]
  },
  {
   "cell_type": "code",
   "execution_count": 354,
   "metadata": {
    "collapsed": false
   },
   "outputs": [
    {
     "name": "stdout",
     "output_type": "stream",
     "text": [
      "Populating the interactive namespace from numpy and matplotlib\n"
     ]
    },
    {
     "name": "stderr",
     "output_type": "stream",
     "text": [
      "WARNING: pylab import has clobbered these variables: ['cov', 'var']\n",
      "`%matplotlib` prevents importing * from pylab and numpy\n"
     ]
    }
   ],
   "source": [
    "import numpy as np\n",
    "import math\n",
    "%pylab inline\n",
    "from matplotlib import pyplot as plt\n",
    "from mpl_toolkits.mplot3d import Axes3D\n",
    "from mpl_toolkits.mplot3d import proj3d\n",
    "from matplotlib import pyplot as plt\n",
    "from scipy.cluster.hierarchy import dendrogram, linkage\n",
    "import numpy as np\n",
    "from scipy.cluster.vq import kmeans,vq\n",
    "from scipy.spatial.distance import cdist\n",
    "from sklearn.decomposition import PCA as sklearnPCA\n",
    "\n",
    "#DBSCAN\n",
    "from sklearn.cluster import DBSCAN\n",
    "from sklearn import metrics\n",
    "from sklearn.datasets.samples_generator import make_blobs\n",
    "from sklearn.preprocessing import StandardScaler"
   ]
  },
  {
   "cell_type": "markdown",
   "metadata": {},
   "source": [
    "# Create Cell Data"
   ]
  },
  {
   "cell_type": "code",
   "execution_count": 355,
   "metadata": {
    "collapsed": true
   },
   "outputs": [],
   "source": [
    "np.random.seed(4294967295) # random seed for consistency"
   ]
  },
  {
   "cell_type": "markdown",
   "metadata": {},
   "source": [
    "# Cell 1 Data"
   ]
  },
  {
   "cell_type": "code",
   "execution_count": 356,
   "metadata": {
    "collapsed": false
   },
   "outputs": [
    {
     "data": {
      "text/plain": [
       "(30, 10)"
      ]
     },
     "execution_count": 356,
     "metadata": {},
     "output_type": "execute_result"
    }
   ],
   "source": [
    "#Set parameters\n",
    "mean_cell1 = [10]*10#[8,8,8,8,7,7,9,7,8,8]\n",
    "cov = np.identity(10) \n",
    "cell1 = np.random.multivariate_normal(mean_cell1, cov, 30)\n",
    "shape(cell1)"
   ]
  },
  {
   "cell_type": "markdown",
   "metadata": {},
   "source": [
    "# Cell 2 Data"
   ]
  },
  {
   "cell_type": "code",
   "execution_count": 357,
   "metadata": {
    "collapsed": false
   },
   "outputs": [
    {
     "data": {
      "text/plain": [
       "(30, 10)"
      ]
     },
     "execution_count": 357,
     "metadata": {},
     "output_type": "execute_result"
    }
   ],
   "source": [
    "mean_cell2 = [5]*10#[4,4,2,3,4,3,4,5,4,4]\n",
    "cov = np.identity(10) \n",
    "cell2 = np.random.multivariate_normal(mean_cell2, cov, 30)\n",
    "shape(cell2)\n"
   ]
  },
  {
   "cell_type": "markdown",
   "metadata": {},
   "source": [
    "# Cell 3 Data"
   ]
  },
  {
   "cell_type": "code",
   "execution_count": 358,
   "metadata": {
    "collapsed": false
   },
   "outputs": [
    {
     "data": {
      "text/plain": [
       "(30, 10)"
      ]
     },
     "execution_count": 358,
     "metadata": {},
     "output_type": "execute_result"
    }
   ],
   "source": [
    "mean_cell3 = [1]*10#[2,1,1,2,2,1,1,1,2,2]\n",
    "cov = np.identity(10) \n",
    "cell3 = np.random.multivariate_normal(mean_cell3, cov, 30)\n",
    "cell3 = np.abs(cell3)\n",
    "shape(cell3)"
   ]
  },
  {
   "cell_type": "markdown",
   "metadata": {},
   "source": [
    "# Dimension Viz + Plot without Drop Out "
   ]
  },
  {
   "cell_type": "code",
   "execution_count": 359,
   "metadata": {
    "collapsed": false
   },
   "outputs": [
    {
     "name": "stdout",
     "output_type": "stream",
     "text": [
      "(90, 10)\n"
     ]
    },
    {
     "data": {
      "text/plain": [
       "(90, 5)"
      ]
     },
     "execution_count": 359,
     "metadata": {},
     "output_type": "execute_result"
    }
   ],
   "source": [
    "#Cell PCA\n",
    "#feature space/genes = 10, samples = 90\n",
    "#each element is the level of expression (log read count) of the jth gene, ith sample\n",
    "\n",
    "t = np.concatenate((cell1, cell2, cell3),)\n",
    "print shape(t)\n",
    "pca1 = sklearnPCA(n_components=5)\n",
    "fitted1 = pca1.fit(t)\n",
    "trans1 = pca1.transform(t)\n",
    "shape(trans1)"
   ]
  },
  {
   "cell_type": "code",
   "execution_count": 360,
   "metadata": {
    "collapsed": true
   },
   "outputs": [],
   "source": [
    "# #Cell 2 PCA\n",
    "# pca2 = sklearnPCA(n_components=10)\n",
    "# fitted2 = pca2.fit(cell2)\n",
    "# trans2 = pca2.transform(cell2) "
   ]
  },
  {
   "cell_type": "code",
   "execution_count": 361,
   "metadata": {
    "collapsed": false
   },
   "outputs": [
    {
     "data": {
      "image/png": "[encoded data removed]",
      "text/plain": [
       "<matplotlib.figure.Figure at 0x110be1f10>"
      ]
     },
     "metadata": {},
     "output_type": "display_data"
    }
   ],
   "source": [
    "plt.plot(trans1[:,0], trans1[:,1], 'o', markersize=7, color='blue', alpha=0.5, label='celldata')\n",
    "\n",
    "#plt.plot(trans2[:,0], trans2[:,1], '^', markersize=7, color='red', alpha=0.5, label='cell2')\n",
    "\n",
    "plt.xlabel('PC 1')\n",
    "plt.ylabel('PC 2')\n",
    "plt.xlim([-20,20])\n",
    "plt.ylim([-20,20])\n",
    "plt.legend()\n",
    "plt.title('Transformed samples without dropout rate')\n",
    "\n",
    "plt.show()"
   ]
  },
  {
   "cell_type": "code",
   "execution_count": 362,
   "metadata": {
    "collapsed": false
   },
   "outputs": [
    {
     "data": {
      "image/png": "[encoded data removed]",
      "text/plain": [
       "<matplotlib.figure.Figure at 0x110a5ab90>"
      ]
     },
     "metadata": {},
     "output_type": "display_data"
    }
   ],
   "source": [
    "plt.plot(t[:,0], t[:,1], 'o', markersize=7, color='blue', alpha=0.5, label='cells')\n",
    "plt.xlabel(\"X\")\n",
    "plt.ylabel(\"Y\")\n",
    "plt.xlim([-2.5,15])\n",
    "plt.ylim([-2.5,15])\n",
    "plt.legend()\n",
    "plt.title('Samples')\n",
    "\n",
    "plt.show()"
   ]
  },
  {
   "cell_type": "code",
   "execution_count": null,
   "metadata": {
    "collapsed": false
   },
   "outputs": [],
   "source": []
  },
  {
   "cell_type": "markdown",
   "metadata": {},
   "source": [
    "# Drop out rate parameters"
   ]
  },
  {
   "cell_type": "code",
   "execution_count": 363,
   "metadata": {
    "collapsed": true
   },
   "outputs": [],
   "source": [
    "#mu is the mean vector aka centroid\n",
    "def drop_out(exp):\n",
    "    p = math.e**(-.1 * exp**2)\n",
    "    return np.random.binomial(1, p, 1)[0]"
   ]
  },
  {
   "cell_type": "code",
   "execution_count": 364,
   "metadata": {
    "collapsed": true
   },
   "outputs": [],
   "source": [
    "noise_1 = .1 * np.random.randn(shape(t)[0], shape(t)[1]) \n",
    "# noise_2 = .1 * np.random.randn(shape(cell2)[0], shape(cell2)[1]) "
   ]
  },
  {
   "cell_type": "code",
   "execution_count": 365,
   "metadata": {
    "collapsed": true
   },
   "outputs": [],
   "source": [
    "nsd1 = np.copy(t) + np.copy(noise_1)\n",
    "#nsd2 = np.copy(cell2) + np.copy(noise_2)"
   ]
  },
  {
   "cell_type": "code",
   "execution_count": 366,
   "metadata": {
    "collapsed": false
   },
   "outputs": [
    {
     "name": "stdout",
     "output_type": "stream",
     "text": [
      "285\n"
     ]
    }
   ],
   "source": [
    "count = 0\n",
    "for (i,j), value in numpy.ndenumerate(nsd1):\n",
    "    if (drop_out(value) == 1):\n",
    "        count += 1\n",
    "        nsd1[i,j] = 0\n",
    "print count"
   ]
  },
  {
   "cell_type": "code",
   "execution_count": 367,
   "metadata": {
    "collapsed": false
   },
   "outputs": [
    {
     "data": {
      "text/plain": [
       "(90, 10)"
      ]
     },
     "execution_count": 367,
     "metadata": {},
     "output_type": "execute_result"
    }
   ],
   "source": [
    "shape(nsd1)"
   ]
  },
  {
   "cell_type": "code",
   "execution_count": 368,
   "metadata": {
    "collapsed": false,
    "scrolled": true
   },
   "outputs": [
    {
     "data": {
      "text/plain": [
       "array([[ 10.60533814,  10.4520971 ,   8.92737117,  10.31038668,\n",
       "         10.09771947,  11.1090952 ,   9.91902697,  10.03371283,\n",
       "          9.00246077,   9.32423908],\n",
       "       [ 10.08694027,  10.98330692,  10.63259686,   8.72708371,\n",
       "         10.3862688 ,  11.41928817,  10.18672021,   9.78182441,\n",
       "         10.92337601,   9.9171991 ],\n",
       "       [  9.79545432,   9.00600251,   9.78715587,  11.26204498,\n",
       "         10.39277899,  11.45631084,  11.43831216,   8.73113639,\n",
       "          8.90593638,   9.26995796],\n",
       "       [  9.94754177,   9.13979691,  10.02557722,  10.26199491,\n",
       "          9.4426015 ,   8.43287502,  10.86493332,  10.54801047,\n",
       "         11.13291993,   8.6889009 ],\n",
       "       [ 10.58467441,   9.97916547,   9.4259466 ,  10.13447726,\n",
       "         11.47886313,  10.60296448,   8.59710871,   8.02134798,\n",
       "          8.86808675,  10.02974467],\n",
       "       [  9.21279696,   9.73400795,  11.992749  ,   9.18345688,\n",
       "         10.154191  ,   8.36192202,   7.9876229 ,   9.25456569,\n",
       "         11.94278931,   9.87074284],\n",
       "       [ 11.12507073,  10.1423605 ,   9.32186303,   9.91871606,\n",
       "         10.80907739,   9.70549585,  10.40592794,   9.19393133,\n",
       "         10.56550767,  11.57214764],\n",
       "       [ 10.86640281,  10.29931609,  10.13910493,  10.63175155,\n",
       "         10.79360558,   7.48414596,  10.60501746,   8.99607611,\n",
       "         11.80703065,   7.94048866],\n",
       "       [  9.17834443,  10.53290531,   8.41831956,   9.98827896,\n",
       "          9.57420393,   8.21387584,  11.73753035,  11.02857499,\n",
       "          8.84615147,  10.62061488],\n",
       "       [  8.90151377,   9.17951611,  10.33064923,  11.29584048,\n",
       "          8.84177406,   8.84410129,   9.55782924,   9.02858921,\n",
       "          8.69565759,   9.98488442],\n",
       "       [  9.58103135,   8.83732035,   9.98191718,   9.41824399,\n",
       "         10.89989649,   9.18835881,  10.3847055 ,   8.05726285,\n",
       "          9.51212043,   9.90537312],\n",
       "       [  9.27427703,   9.63252058,  11.56468156,  10.29596646,\n",
       "         11.4047635 ,  10.89162497,   8.83837593,   9.8156338 ,\n",
       "         11.77944216,   9.28559823],\n",
       "       [ 11.1817215 ,   9.21011801,   9.83123241,   9.27350651,\n",
       "          9.2851876 ,   9.33707829,   9.82969477,   8.63758307,\n",
       "         11.40139505,   9.52743456],\n",
       "       [ 10.47866322,  10.12418905,   9.73338455,   9.89544925,\n",
       "          9.66333537,  10.02441938,  10.49379944,  10.60238129,\n",
       "         11.00925161,  11.44577331],\n",
       "       [  9.63750056,  10.40366809,  10.53161019,   8.69316132,\n",
       "         10.11619383,  10.23405187,   8.94131328,  11.33186548,\n",
       "         11.53712537,   9.83962351],\n",
       "       [ 10.64272198,   9.58232744,  10.40362128,   9.21071788,\n",
       "         10.03572373,  10.21870372,  11.22927807,   9.98939452,\n",
       "         12.4509233 ,   9.02686183],\n",
       "       [ 10.21845272,   8.45435379,   8.78002977,   9.53456764,\n",
       "          9.00025186,   9.88677463,  10.17846828,  10.27788044,\n",
       "         10.24781726,   8.83846194],\n",
       "       [ 10.3011901 ,  11.63093485,  10.58760926,   9.06311489,\n",
       "          9.39386364,  10.51339835,   9.46607336,  10.39899533,\n",
       "         10.38411083,  10.2070977 ],\n",
       "       [ 10.86228879,  12.51897494,  10.57458013,   9.39448153,\n",
       "         11.18654929,   8.79240233,   8.25595232,   9.07666403,\n",
       "          8.68825167,   8.67799952],\n",
       "       [ 10.85373893,   9.507639  ,   9.23247545,   9.61003656,\n",
       "          9.91617117,  11.25354334,   9.58981053,   9.8773068 ,\n",
       "         10.23470928,  11.77223624],\n",
       "       [ 11.13077347,  10.8573616 ,   8.77421782,  10.34384446,\n",
       "         11.50597484,   9.93653155,  10.4899976 ,  10.10524057,\n",
       "         11.82595546,  11.08412823],\n",
       "       [ 10.05120044,  10.27153181,  10.37271301,   9.72287471,\n",
       "          8.95671878,  10.04959487,   9.6176909 ,   9.44875636,\n",
       "          8.39383424,  13.09390934],\n",
       "       [  9.46317616,  11.21271443,  11.17470483,  10.87909789,\n",
       "         10.71044222,   9.50862301,  10.45836313,   9.34310367,\n",
       "         10.50522807,   8.06067997],\n",
       "       [ 11.61220233,   9.8374066 ,   9.99435888,   9.74189578,\n",
       "          9.92407777,   9.09254122,  10.283491  ,  10.2464679 ,\n",
       "          8.25595068,   7.63158934],\n",
       "       [  8.33870368,  11.04471489,  10.66696932,   9.76394252,\n",
       "         10.12903949,  10.71139459,  10.09735686,   9.46170867,\n",
       "         10.43405542,  11.35949964],\n",
       "       [ 11.11331852,  11.86019958,   9.7361461 ,  10.20846312,\n",
       "         11.08857746,  11.2866652 ,   9.26805297,  10.90304549,\n",
       "          9.15941454,   9.43510687],\n",
       "       [ 10.24712873,  11.28684643,  10.29259972,   9.4849465 ,\n",
       "         11.06220836,  11.10127986,  10.76467728,  10.54743637,\n",
       "          9.66741998,   9.38994002],\n",
       "       [  7.49561563,   9.430065  ,  10.47464174,  10.05174014,\n",
       "         10.34896348,   9.79706922,   9.3664176 ,   9.41083054,\n",
       "          9.29946304,   8.72634558],\n",
       "       [  9.77957565,   9.53771706,  10.23172528,   8.59048691,\n",
       "          8.37297257,   9.79727313,  10.70784037,   7.61285223,\n",
       "          8.7612304 ,  10.44345362],\n",
       "       [ 10.92832258,  11.78853195,   7.25958174,  11.63740291,\n",
       "         11.19613848,   9.56437062,   9.78781356,  10.46136215,\n",
       "          9.30363419,  10.22232071],\n",
       "       [  6.03320761,   4.55105167,   3.77936463,   5.88010843,\n",
       "          6.64493695,   7.35065722,   3.43301755,   5.82978508,\n",
       "          5.92838284,   4.94054053],\n",
       "       [  4.97060441,   5.32042005,   4.79529429,   0.        ,\n",
       "          5.16930791,   5.2036487 ,   4.47206089,   6.42608109,\n",
       "          4.16409417,   6.13047057],\n",
       "       [  6.06673966,   5.5656446 ,   0.        ,   0.        ,\n",
       "          4.53035481,   6.49682715,   5.70005719,   3.99630918,\n",
       "          4.39727241,   4.51573797],\n",
       "       [  6.08566748,   5.57492293,   4.6906205 ,   6.26465802,\n",
       "          0.        ,   3.68452175,   5.47667793,   5.6793722 ,\n",
       "          5.16680686,   5.8130336 ],\n",
       "       [  4.8627218 ,   7.13499058,   4.4779461 ,   4.74425997,\n",
       "          5.75944442,   3.0769787 ,   5.41114389,   4.1492477 ,\n",
       "          2.86039346,   5.71906705],\n",
       "       [  5.55509208,   4.19157565,   0.        ,   4.61275498,\n",
       "          5.13128501,   4.76672087,   3.36897019,   0.        ,\n",
       "          5.44170794,   5.33833138],\n",
       "       [  5.66780216,   5.75560594,   5.32808924,   6.77780118,\n",
       "          0.        ,   2.96366435,   6.25419471,   5.62883759,\n",
       "          4.05210763,   6.27703192],\n",
       "       [  5.70098393,   4.18846381,   6.64431489,   0.        ,\n",
       "          6.29162639,   4.21207894,   4.61452875,   5.71060597,\n",
       "          6.74188529,   6.76228556],\n",
       "       [  0.        ,   3.40968588,   6.5976275 ,   4.75305811,\n",
       "          5.05821653,   4.99147789,   5.30297727,   5.76288264,\n",
       "          4.3728902 ,   4.02958728],\n",
       "       [  6.61715254,   0.        ,   6.0937707 ,   4.87475458,\n",
       "          4.88826066,   4.72946462,   3.8777045 ,   3.03769009,\n",
       "          4.89557768,   5.43199591],\n",
       "       [  6.79825398,   6.39278816,   4.80518385,   5.17116883,\n",
       "          4.20420001,   6.67233713,   6.12789384,   5.89919731,\n",
       "          6.28554922,   3.27320578],\n",
       "       [  5.54920821,   4.01422639,   6.40808573,   6.23415188,\n",
       "          0.        ,   3.88597562,   6.33901669,   2.99715707,\n",
       "          4.68752563,   5.06325075],\n",
       "       [  5.36524331,   4.71959559,   5.17611769,   6.88580042,\n",
       "          5.70770442,   0.        ,   4.80740639,   4.86088307,\n",
       "          6.12297455,   6.06679018],\n",
       "       [  6.35587317,   5.7877004 ,   4.09585987,   0.        ,\n",
       "          5.90267219,   6.29721629,   4.94933742,   5.30036553,\n",
       "          5.79709922,   5.80012824],\n",
       "       [  5.39751854,   5.58473182,   4.37792355,   6.01185637,\n",
       "          6.16602991,   4.405896  ,   6.56008179,   5.26454546,\n",
       "          5.18876586,   3.86123195],\n",
       "       [  0.        ,   6.49154535,   6.44306711,   4.93406051,\n",
       "          4.99743632,   0.        ,   4.26594201,   5.84194225,\n",
       "          0.        ,   4.84849736],\n",
       "       [  4.69514375,   5.70263734,   3.95967685,   5.24280294,\n",
       "          4.86521616,   6.43926584,   4.00569757,   4.84294628,\n",
       "          4.07239224,   4.88883214],\n",
       "       [  7.15938642,   4.49014097,   3.72041002,   5.0115042 ,\n",
       "          5.43519672,   5.11576628,   4.37949363,   4.33042901,\n",
       "          4.61277478,   0.        ],\n",
       "       [  5.20746313,   5.9342699 ,   3.13420885,   5.67221695,\n",
       "          0.        ,   4.6243975 ,   5.7094153 ,   5.1047535 ,\n",
       "          0.        ,   5.26627051],\n",
       "       [  5.11912421,   5.22316599,   6.48646051,   5.43851039,\n",
       "          3.94650222,   4.26511664,   4.84517051,   4.21307969,\n",
       "          5.42575499,   6.42773144],\n",
       "       [  4.71172665,   6.85097953,   0.        ,   5.44938977,\n",
       "          0.        ,   4.15609586,   0.        ,   6.22331699,\n",
       "          0.        ,   0.        ],\n",
       "       [  5.09503132,   4.85014427,   5.22787461,   4.69512132,\n",
       "          5.44803967,   4.1906399 ,   4.60587695,   0.        ,\n",
       "          4.76486854,   5.27155596],\n",
       "       [  0.        ,   3.6297926 ,   5.11438833,   0.        ,\n",
       "          5.49788704,   4.79118197,   0.        ,   4.83382063,\n",
       "          4.11401665,   5.71507172],\n",
       "       [  4.37847184,   4.0286197 ,   5.46605316,   4.74126722,\n",
       "          4.62461601,   7.46938252,   6.10328676,   5.67501638,\n",
       "          4.43709757,   0.        ],\n",
       "       [  6.62656746,   5.31632469,   4.29719478,   4.17891935,\n",
       "          4.21123036,   4.62297416,   6.19630406,   5.16871303,\n",
       "          5.69449356,   6.0160075 ],\n",
       "       [  4.72556069,   5.87895635,   5.37730891,   5.57081888,\n",
       "          5.66487804,   6.34620579,   4.7802703 ,   5.30184541,\n",
       "          5.73847106,   0.        ],\n",
       "       [  4.53952692,   5.07669405,   6.11069836,   6.08989335,\n",
       "          0.        ,   4.94177355,   5.26823719,   4.96839453,\n",
       "          0.        ,   4.33986175],\n",
       "       [  6.03657552,   4.70003615,   5.06315441,   5.69194037,\n",
       "          3.80218445,   5.15359452,   5.41002166,   6.00500658,\n",
       "          4.45558292,   6.10533458],\n",
       "       [  4.17265983,   3.92687332,   4.94132589,   0.        ,\n",
       "          4.72356729,   6.07291848,   5.12938741,   4.71012849,\n",
       "          7.10651422,   4.84416944],\n",
       "       [  5.80432797,   6.21901428,   6.64806744,   3.00235236,\n",
       "          0.        ,   4.48592702,   5.25544438,   4.69661925,\n",
       "          4.76863109,   4.60151111],\n",
       "       [  0.        ,   0.        ,   0.        ,   0.        ,\n",
       "          0.        ,   0.        ,   0.        ,   0.        ,\n",
       "          0.        ,   0.        ],\n",
       "       [  0.        ,   0.84841691,   2.4893786 ,   0.        ,\n",
       "          0.        ,   0.        ,   0.        ,   2.76108635,\n",
       "          0.        ,   0.        ],\n",
       "       [  0.        ,   0.        ,   0.        ,   0.        ,\n",
       "          0.        ,   0.        ,   0.        ,   0.        ,\n",
       "          0.        ,   0.        ],\n",
       "       [  0.        ,   0.        ,   0.        ,   1.91468433,\n",
       "          0.        ,   0.        ,   0.        ,   2.15573191,\n",
       "          2.45769438,   0.        ],\n",
       "       [  0.        ,   0.        ,   0.        ,   0.        ,\n",
       "          2.57635412,   0.        ,   0.        ,   0.        ,\n",
       "          0.        ,   0.        ],\n",
       "       [  0.        ,   0.        ,   0.        ,   0.        ,\n",
       "          0.        ,   1.87462569,   2.59645452,   0.        ,\n",
       "          0.        ,   0.        ],\n",
       "       [  0.        ,   0.        ,   2.63059126,   0.        ,\n",
       "          1.38553401,   0.        ,   0.        ,   2.12292106,\n",
       "          0.        ,   0.        ],\n",
       "       [  0.        ,   0.        ,   0.        ,   0.        ,\n",
       "          0.        ,   0.        ,   0.        ,   0.        ,\n",
       "          0.        ,   0.        ],\n",
       "       [  0.        ,   0.35505843,   0.        ,   0.        ,\n",
       "          0.        ,   0.        ,   0.        ,   0.        ,\n",
       "          0.        ,   0.        ],\n",
       "       [  0.        ,   0.        ,   0.        ,   0.        ,\n",
       "          0.87273525,   0.        ,   0.        ,   0.        ,\n",
       "          0.        ,   1.69263464],\n",
       "       [  0.        ,   0.        ,   0.        ,   0.        ,\n",
       "          0.        ,   0.        ,   0.        ,   0.        ,\n",
       "          0.        ,   3.16760883],\n",
       "       [  0.        ,   0.        ,   2.02181469,   0.        ,\n",
       "          2.42714375,   2.6949391 ,   0.        ,   1.780334  ,\n",
       "          0.        ,   0.        ],\n",
       "       [  0.        ,   0.        ,   0.        ,   0.        ,\n",
       "          0.        ,   0.        ,   0.        ,   0.        ,\n",
       "          2.2342376 ,   0.        ],\n",
       "       [  0.        ,   0.        ,   0.        ,   0.        ,\n",
       "          0.        ,   0.        ,   0.        ,   0.        ,\n",
       "          0.        ,   0.        ],\n",
       "       [  1.95781426,   0.        ,   0.        ,   0.        ,\n",
       "          0.        ,   0.        ,   0.        ,   0.        ,\n",
       "          2.33459022,   0.        ],\n",
       "       [  0.        ,   1.43535252,   0.        ,   0.        ,\n",
       "          0.        ,   0.        ,   0.        ,   1.17188279,\n",
       "          2.32017789,   0.        ],\n",
       "       [  0.        ,   0.        ,   0.        ,   0.        ,\n",
       "          0.        ,   0.        ,   0.        ,   0.9404063 ,\n",
       "          2.23475903,   0.        ],\n",
       "       [  0.        ,   0.        ,   0.        ,   0.        ,\n",
       "          2.77988175,   0.        ,   0.        ,   0.        ,\n",
       "          0.        ,   0.        ],\n",
       "       [  0.        ,   0.        ,   3.46325679,   0.        ,\n",
       "          0.        ,   0.        ,   0.        ,   0.        ,\n",
       "          0.        ,   0.        ],\n",
       "       [  0.        ,   0.        ,   0.        ,   0.        ,\n",
       "          0.        ,   0.        ,   0.        ,   0.        ,\n",
       "          0.        ,   0.        ],\n",
       "       [  0.        ,   0.        ,   0.        ,   2.38679786,\n",
       "          0.        ,   0.        ,   0.        ,   0.        ,\n",
       "          3.21439559,   0.        ],\n",
       "       [  0.        ,   0.        ,   0.75920644,   0.        ,\n",
       "          2.32990839,   0.        ,   0.        ,   0.        ,\n",
       "          0.        ,   0.        ],\n",
       "       [  0.        ,   0.        ,   0.        ,   1.46985048,\n",
       "          1.70920842,   0.        ,   0.        ,   0.        ,\n",
       "          0.        ,   0.        ],\n",
       "       [  0.        ,   0.        ,   0.        ,   0.        ,\n",
       "          2.40949147,   0.74129043,   0.        ,   0.        ,\n",
       "          0.        ,   0.        ],\n",
       "       [  0.        ,   0.        ,   0.        ,   0.        ,\n",
       "          0.        ,   0.        ,   2.54321695,   0.        ,\n",
       "          0.        ,   0.        ],\n",
       "       [  0.        ,   0.        ,   1.95699869,   0.        ,\n",
       "          2.63857109,   1.18102126,   2.29440564,   0.        ,\n",
       "          1.62377799,   0.        ],\n",
       "       [  0.        ,   0.        ,   1.21370272,   0.        ,\n",
       "          0.        ,   0.        ,   2.52074465,   0.        ,\n",
       "          0.        ,   0.        ],\n",
       "       [  2.96895512,   1.62429667,   0.        ,   0.        ,\n",
       "          0.        ,   0.        ,   0.        ,   0.        ,\n",
       "          0.        ,   1.5937424 ],\n",
       "       [  0.        ,   0.        ,   0.        ,   0.        ,\n",
       "          0.        ,   0.        ,   0.        ,   0.        ,\n",
       "          0.        ,   0.        ],\n",
       "       [  0.        ,   0.        ,   0.        ,   0.        ,\n",
       "          0.        ,   0.        ,   0.        ,   0.        ,\n",
       "          0.        ,   0.        ]])"
      ]
     },
     "execution_count": 368,
     "metadata": {},
     "output_type": "execute_result"
    }
   ],
   "source": [
    "nsd1"
   ]
  },
  {
   "cell_type": "code",
   "execution_count": 369,
   "metadata": {
    "collapsed": false
   },
   "outputs": [
    {
     "data": {
      "image/png": "[encoded data removed]",
      "text/plain": [
       "<matplotlib.figure.Figure at 0x11105cf90>"
      ]
     },
     "metadata": {},
     "output_type": "display_data"
    }
   ],
   "source": [
    "plt.plot(nsd1[:,0], nsd1[:,1], 'o', markersize=7, color='blue', alpha=0.5, label='dropped')\n",
    "plt.plot(t[:,0], t[:,1], 'o', markersize=7, color='red', alpha=0.5, label='non dropped')\n",
    "plt.xlabel(\"X\")\n",
    "plt.ylabel(\"Y\")\n",
    "plt.xlim([-2.5,15])\n",
    "plt.ylim([-2.5,15])\n",
    "plt.legend()\n",
    "plt.title('Samples with dropout rate')\n",
    "\n",
    "plt.show()"
   ]
  },
  {
   "cell_type": "markdown",
   "metadata": {
    "collapsed": true
   },
   "source": [
    "# With Dropout Visualization"
   ]
  },
  {
   "cell_type": "code",
   "execution_count": 370,
   "metadata": {
    "collapsed": false
   },
   "outputs": [
    {
     "data": {
      "text/plain": [
       "array([ 0.91374963,  0.01998973,  0.01360116,  0.01263052,  0.0111494 ])"
      ]
     },
     "execution_count": 370,
     "metadata": {},
     "output_type": "execute_result"
    }
   ],
   "source": [
    "#Cell PCA\n",
    "#feature space = 90, samples = 10\n",
    "pca2 = sklearnPCA(n_components=5)\n",
    "fitted1 = pca2.fit(nsd1)\n",
    "trans2 = pca2.transform(nsd1)\n",
    "shape(trans2)\n",
    "pca2.explained_variance_ratio_ "
   ]
  },
  {
   "cell_type": "code",
   "execution_count": 371,
   "metadata": {
    "collapsed": false
   },
   "outputs": [
    {
     "data": {
      "image/png": "[encoded data removed]",
      "text/plain": [
       "<matplotlib.figure.Figure at 0x1114a8b90>"
      ]
     },
     "metadata": {},
     "output_type": "display_data"
    }
   ],
   "source": [
    "plt.plot(trans2[:,0], trans2[:,1], 'o', markersize=7, color='blue', alpha=0.5, label='cells')\n",
    "\n",
    "plt.xlabel('PC 1')\n",
    "plt.ylabel('PC 2')\n",
    "plt.xlim([-20,15])\n",
    "plt.ylim([-20,15])\n",
    "plt.legend()\n",
    "plt.title('Transformed samples with dropout rate')\n",
    "\n",
    "plt.show()"
   ]
  },
  {
   "cell_type": "code",
   "execution_count": 372,
   "metadata": {
    "collapsed": false
   },
   "outputs": [],
   "source": [
    "ls =np.concatenate((trans2[:,0], trans2[:,1]))"
   ]
  },
  {
   "cell_type": "markdown",
   "metadata": {
    "collapsed": true
   },
   "source": [
    "# Methods"
   ]
  },
  {
   "cell_type": "code",
   "execution_count": 373,
   "metadata": {
    "collapsed": false
   },
   "outputs": [],
   "source": [
    "def find_avgWithinSS(matrix, maxclusters=10):\n",
    "    K = range(1, maxclusters)\n",
    "    KM = [kmeans(matrix,k) for k in K]\n",
    "    centroids = [cent for (cent,var) in KM]   \n",
    "    D_k = [cdist(matrix, cent, 'euclidean') for cent in centroids]\n",
    "    cIdx = [np.argmin(D,axis=1) for D in D_k]\n",
    "    dist = [np.min(D,axis=1) for D in D_k]\n",
    "    avgWithinSS = [sum(d)/matrix.shape[0] for d in dist]\n",
    "    return avgWithinSS\n",
    "\n",
    "def find_centroid(matrix):\n",
    "    K = findK(find_avgWithinSS(matrix))\n",
    "    KM = [kmeans(matrix, K)]\n",
    "    centroids = [cent for (cent,var) in KM]\n",
    "    return centroids\n",
    "\n",
    "def findK(points, num_derivatives=3):\n",
    "    for x in range(0,num_derivatives):\n",
    "        points = np.diff(points)\n",
    "    ret = (list(points))\n",
    "    ret = [abs(p) for p in points]\n",
    "    print ret\n",
    "    return ret.index(max(ret)) + (num_derivatives - 1) #account for diffs and zero index\n",
    "\n",
    "# def findK(points, tol = .90):\n",
    "#     cache = []\n",
    "#     for p in range(len(points) - 1):\n",
    "#         diff = points[p] - points[p + 1]\n",
    "#         cache.append(diff)\n",
    "#     count = 0\n",
    "#     buff = 0\n",
    "#     while(buff/sum(cache) < tol):\n",
    "#         buff += cache[count]\n",
    "#         count += 1\n",
    "#     print buff\n",
    "#     return count + 1"
   ]
  },
  {
   "cell_type": "code",
   "execution_count": null,
   "metadata": {
    "collapsed": false
   },
   "outputs": [],
   "source": []
  },
  {
   "cell_type": "code",
   "execution_count": 374,
   "metadata": {
    "collapsed": false
   },
   "outputs": [
    {
     "name": "stdout",
     "output_type": "stream",
     "text": [
      "[0.20699509424175266, 2.6542210044387446, 0.19439636738604671, 0.1266824830530231, 0.010711530276153791, 0.11390252077262675]\n"
     ]
    },
    {
     "data": {
      "text/plain": [
       "3"
      ]
     },
     "execution_count": 374,
     "metadata": {},
     "output_type": "execute_result"
    }
   ],
   "source": [
    "findK(find_avgWithinSS(trans2))"
   ]
  },
  {
   "cell_type": "code",
   "execution_count": 375,
   "metadata": {
    "collapsed": false
   },
   "outputs": [
    {
     "data": {
      "text/plain": [
       "1"
      ]
     },
     "execution_count": 375,
     "metadata": {},
     "output_type": "execute_result"
    }
   ],
   "source": [
    "found"
   ]
  },
  {
   "cell_type": "code",
   "execution_count": 376,
   "metadata": {
    "collapsed": false
   },
   "outputs": [
    {
     "name": "stdout",
     "output_type": "stream",
     "text": [
      "[0.19256459135621462, 2.738237539820267, 0.046491338118766823, 0.040383593508588778, 0.053936882952999365, 0.2603731429579792]\n",
      "K 3\n"
     ]
    },
    {
     "data": {
      "image/png": "[encoded data removed]",
      "text/plain": [
       "<matplotlib.figure.Figure at 0x110ea5090>"
      ]
     },
     "metadata": {},
     "output_type": "display_data"
    },
    {
     "data": {
      "image/png": "[encoded data removed]",
      "text/plain": [
       "<matplotlib.figure.Figure at 0x110e070d0>"
      ]
     },
     "metadata": {},
     "output_type": "display_data"
    },
    {
     "name": "stdout",
     "output_type": "stream",
     "text": [
      "9\n"
     ]
    }
   ],
   "source": [
    "maxclusters=10\n",
    "##### plot ###\n",
    "avg = find_avgWithinSS(trans2)\n",
    "found = findK(avg)\n",
    "print \"K\", found\n",
    "kIdx = found - 1\n",
    "K = range(1, maxclusters)\n",
    "KM = [kmeans(trans2,k) for k in K]\n",
    "centroids = [cent for (cent,var) in KM]   \n",
    "D_k = [cdist(trans2, cent, 'euclidean') for cent in centroids]\n",
    "cIdx = [np.argmin(D,axis=1) for D in D_k]\n",
    "\n",
    "# elbow curve\n",
    "fig = plt.figure()\n",
    "ax = fig.add_subplot(111)\n",
    "ax.plot(K, find_avgWithinSS(trans2), 'b*-')\n",
    "ax.plot(K[kIdx], find_avgWithinSS(trans2)[kIdx], marker='o', markersize=12, \n",
    "    markeredgewidth=2, markeredgecolor='r', markerfacecolor='None')\n",
    "plt.grid(True)\n",
    "plt.xlabel('Number of clusters')\n",
    "plt.ylabel('Average within-cluster sum of squares')\n",
    "plt.title('Elbow for KMeans clustering')\n",
    "\n",
    "# scatter plot\n",
    "fig = plt.figure()\n",
    "ax = fig.add_subplot(111)\n",
    "#ax.scatter(X[:,2],X[:,1], s=30, c=cIdx[k])\n",
    "clr = ['b','g','r','c','m','y','k']\n",
    "for i in range(K[kIdx]):\n",
    "    ind = (cIdx[kIdx]==i)\n",
    "    ax.scatter(trans2[ind,0],trans2[ind,1], s=30, c=clr[i], label='Cluster %d'%i)\n",
    "plt.xlabel('Y')\n",
    "plt.ylabel('X')\n",
    "plt.xlim([-20,15])\n",
    "plt.ylim([-20,15])\n",
    "plt.title('Cells, KMeans clustering with K=%d' % K[kIdx])\n",
    "#plt.legend()\n",
    "\n",
    "plt.show()\n",
    "print len(centroids)"
   ]
  },
  {
   "cell_type": "code",
   "execution_count": 377,
   "metadata": {
    "collapsed": false,
    "scrolled": false
   },
   "outputs": [
    {
     "name": "stdout",
     "output_type": "stream",
     "text": [
      "[0.51274645146394837, 2.5156942923909802, 0.073397476477089274, 0.073214471616926957, 0.0054097433454125543, 0.042680172486266876]\n",
      "[0.53346321799685459, 2.5156482847783534, 0.089768542727092893, 0.15153581414663142, 0.059040087544163899, 0.095258653448749175]\n",
      "[0.53346321799685459, 2.5156482847783534, 0.040583128245189393, 0.016569149481995726, 0.053276102513686308, 0.075205139060353421]\n"
     ]
    }
   ],
   "source": [
    "rm1 = find_centroid(nsd1)[0][0]\n",
    "rm2 = find_centroid(nsd1)[0][1]\n",
    "rm3 = find_centroid(nsd1)[0][1]\n",
    "centroids = [rm1, rm2, rm3]"
   ]
  },
  {
   "cell_type": "code",
   "execution_count": 384,
   "metadata": {
    "collapsed": false
   },
   "outputs": [
    {
     "name": "stdout",
     "output_type": "stream",
     "text": [
      "[0.50491978846776853, 2.5400440237196502, 0.0023503731396141703, 0.0047551005552852743, 0.08347301361824977, 0.033478636272491702]\n",
      "K 3\n"
     ]
    },
    {
     "data": {
      "image/png": "[encoded data removed]",
      "text/plain": [
       "<matplotlib.figure.Figure at 0x111399510>"
      ]
     },
     "metadata": {},
     "output_type": "display_data"
    },
    {
     "data": {
      "image/png": "[encoded data removed]",
      "text/plain": [
       "<matplotlib.figure.Figure at 0x110ca1ad0>"
      ]
     },
     "metadata": {},
     "output_type": "display_data"
    },
    {
     "data": {
      "image/png": "[encoded data removed]",
      "text/plain": [
       "<matplotlib.figure.Figure at 0x11130a390>"
      ]
     },
     "metadata": {},
     "output_type": "display_data"
    },
    {
     "data": {
      "image/png": "[encoded data removed]",
      "text/plain": [
       "<matplotlib.figure.Figure at 0x110cc0590>"
      ]
     },
     "metadata": {},
     "output_type": "display_data"
    },
    {
     "data": {
      "image/png": "[encoded data removed]",
      "text/plain": [
       "<matplotlib.figure.Figure at 0x111536c10>"
      ]
     },
     "metadata": {},
     "output_type": "display_data"
    },
    {
     "data": {
      "image/png": "[encoded data removed]",
      "text/plain": [
       "<matplotlib.figure.Figure at 0x111502b10>"
      ]
     },
     "metadata": {},
     "output_type": "display_data"
    }
   ],
   "source": [
    "maxclusters=10\n",
    "##### plot ###\n",
    "avg = find_avgWithinSS(nsd1)\n",
    "found = findK(avg)\n",
    "print \"K\", found\n",
    "kIdx = found - 1\n",
    "K = range(1, maxclusters)\n",
    "KM = [kmeans(nsd1,k) for k in K]\n",
    "centroids = [cent for (cent,var) in KM]   \n",
    "D_k = [cdist(nsd1, cent, 'euclidean') for cent in centroids]\n",
    "cIdx = [np.argmin(D,axis=1) for D in D_k]\n",
    "\n",
    "# elbow curve\n",
    "fig = plt.figure()\n",
    "ax = fig.add_subplot(111)\n",
    "ax.plot(K, find_avgWithinSS(nsd1), 'b*-')\n",
    "ax.plot(K[kIdx], find_avgWithinSS(nsd1)[kIdx], marker='o', markersize=12, \n",
    "    markeredgewidth=2, markeredgecolor='r', markerfacecolor='None')\n",
    "plt.grid(True)\n",
    "plt.xlabel('Number of clusters')\n",
    "plt.ylabel('Average within-cluster sum of squares')\n",
    "plt.title('Elbow for KMeans clustering')\n",
    "\n",
    "# scatter plot\n",
    "fig = plt.figure()\n",
    "ax = fig.add_subplot(111)\n",
    "#ax.scatter(X[:,2],X[:,1], s=30, c=cIdx[k])\n",
    "clr = ['b','g','r','c','m','y','k']\n",
    "for i in range(K[kIdx]):\n",
    "    ind = (cIdx[kIdx]==i)\n",
    "    ax.scatter(nsd1[ind,0],nsd1[ind,1], s=30, c=clr[i], label='Cluster %d'%i)\n",
    "plt.xlabel('Y')\n",
    "plt.ylabel('X')\n",
    "plt.xlim([-1.5,15])\n",
    "plt.ylim([-1.5,15])\n",
    "plt.title('1v2, KMeans clustering with K=%d' % K[kIdx])\n",
    "#plt.legend()\n",
    "\n",
    "plt.show()\n",
    "\n",
    "fig = plt.figure()\n",
    "ax = fig.add_subplot(111)\n",
    "#ax.scatter(X[:,2],X[:,1], s=30, c=cIdx[k])\n",
    "clr = ['b','g','r','c','m','y','k']\n",
    "for i in range(K[kIdx]):\n",
    "    ind = (cIdx[kIdx]==i)\n",
    "    ax.scatter(nsd1[ind,1],nsd1[ind,2], s=30, c=clr[i], label='Cluster %d'%i)\n",
    "plt.xlabel('Y')\n",
    "plt.ylabel('X')\n",
    "plt.xlim([-1.5,15])\n",
    "plt.ylim([-1.5,15])\n",
    "plt.title('2v3, KMeans clustering with K=%d' % K[kIdx])\n",
    "#plt.legend()\n",
    "\n",
    "plt.show()\n",
    "\n",
    "fig = plt.figure()\n",
    "ax = fig.add_subplot(111)\n",
    "#ax.scatter(X[:,2],X[:,1], s=30, c=cIdx[k])\n",
    "clr = ['b','g','r','c','m','y','k']\n",
    "for i in range(K[kIdx]):\n",
    "    ind = (cIdx[kIdx]==i)\n",
    "    ax.scatter(nsd1[ind,2],nsd1[ind,3], s=30, c=clr[i], label='Cluster %d'%i)\n",
    "plt.xlabel('Y')\n",
    "plt.ylabel('X')\n",
    "plt.xlim([-1.5,15])\n",
    "plt.ylim([-1.5,15])\n",
    "plt.title('3v4, KMeans clustering with K=%d' % K[kIdx])\n",
    "#plt.legend()\n",
    "\n",
    "plt.show()\n",
    "\n",
    "\n",
    "fig = plt.figure()\n",
    "ax = fig.add_subplot(111)\n",
    "#ax.scatter(X[:,2],X[:,1], s=30, c=cIdx[k])\n",
    "clr = ['b','g','r','c','m','y','k']\n",
    "for i in range(K[kIdx]):\n",
    "    ind = (cIdx[kIdx]==i)\n",
    "    ax.scatter(nsd1[ind,3],nsd1[ind,4], s=30, c=clr[i], label='Cluster %d'%i)\n",
    "plt.xlabel('Y')\n",
    "plt.ylabel('X')\n",
    "plt.xlim([-1.5,15])\n",
    "plt.ylim([-1.5,15])\n",
    "plt.title('4v5, KMeans clustering with K=%d' % K[kIdx])\n",
    "#plt.legend()\n",
    "\n",
    "plt.show()\n",
    "\n",
    "fig = plt.figure()\n",
    "ax = fig.add_subplot(111)\n",
    "#ax.scatter(X[:,2],X[:,1], s=30, c=cIdx[k])\n",
    "clr = ['b','g','r','c','m','y','k']\n",
    "for i in range(K[kIdx]):\n",
    "    ind = (cIdx[kIdx]==i)\n",
    "    ax.scatter(nsd1[ind,4],nsd1[ind,5], s=30, c=clr[i], label='Cluster %d'%i)\n",
    "plt.xlabel('Y')\n",
    "plt.ylabel('X')\n",
    "plt.xlim([-1.5,15])\n",
    "plt.ylim([-1.5,15])\n",
    "plt.title('5v6, KMeans clustering with K=%d' % K[kIdx])\n",
    "#plt.legend()\n",
    "\n",
    "plt.show()\n"
   ]
  },
  {
   "cell_type": "code",
   "execution_count": 385,
   "metadata": {
    "collapsed": false
   },
   "outputs": [
    {
     "name": "stdout",
     "output_type": "stream",
     "text": [
      "Automatically created module for IPython interactive environment\n",
      "DBSCAN(algorithm='auto', eps=1.64782461047, leaf_size=30, metric='euclidean',\n",
      "    min_samples=20.4427187816, p=None, random_state=None)\n"
     ]
    },
    {
     "data": {
      "image/png": "[encoded data removed]",
      "text/plain": [
       "<matplotlib.figure.Figure at 0x111377250>"
      ]
     },
     "metadata": {},
     "output_type": "display_data"
    }
   ],
   "source": [
    "print(__doc__)\n",
    "\n",
    "import numpy as np\n",
    "\n",
    "from sklearn.cluster import DBSCAN\n",
    "from sklearn import metrics\n",
    "from sklearn.datasets.samples_generator import make_blobs\n",
    "from sklearn.preprocessing import StandardScaler\n",
    "\n",
    "\n",
    "##############################################################################\n",
    "# Generate sample data\n",
    "X = trans2\n",
    "\n",
    "X = StandardScaler().fit_transform(X)\n",
    "\n",
    "##############################################################################\n",
    "# Compute DBSCAN\n",
    "n_clusters_ = 0\n",
    "\n",
    "while n_clusters_ != 2:\n",
    "    eps = random.random()*100\n",
    "    min_samples = random.random()*100\n",
    "    db = DBSCAN(eps=eps, min_samples=min_samples).fit(X)\n",
    "    core_samples_mask = np.zeros_like(db.labels_, dtype=bool)\n",
    "    core_samples_mask[db.core_sample_indices_] = True\n",
    "    labels = db.labels_\n",
    "\n",
    "    # Number of clusters in labels, ignoring noise if present.\n",
    "    n_clusters_ = len(set(labels)) - (1 if -1 in labels else 0)\n",
    "    \n",
    "print db\n",
    "\n",
    "# print('Estimated number of clusters: %d' % n_clusters_)\n",
    "# print(\"Homogeneity: %0.3f\" % metrics.homogeneity_score(labels_true, labels))\n",
    "# print(\"Completeness: %0.3f\" % metrics.completeness_score(labels_true, labels))\n",
    "# print(\"V-measure: %0.3f\" % metrics.v_measure_score(labels_true, labels))\n",
    "# print(\"Adjusted Rand Index: %0.3f\"\n",
    "#       % metrics.adjusted_rand_score(labels_true, labels))\n",
    "# print(\"Adjusted Mutual Information: %0.3f\"\n",
    "#       % metrics.adjusted_mutual_info_score(labels_true, labels))\n",
    "# print(\"Silhouette Coefficient: %0.3f\"\n",
    "#       % metrics.silhouette_score(X, labels))\n",
    "\n",
    "##############################################################################\n",
    "# Plot result\n",
    "import matplotlib.pyplot as plt\n",
    "\n",
    "# Black removed and is used for noise instead.\n",
    "unique_labels = set(labels)\n",
    "colors = plt.cm.Spectral(np.linspace(0, 1, len(unique_labels)))\n",
    "for k, col in zip(unique_labels, colors):\n",
    "    if k == -1:\n",
    "        # Black used for noise.\n",
    "        col = 'k'\n",
    "\n",
    "    class_member_mask = (labels == k)\n",
    "\n",
    "    xy = X[class_member_mask & core_samples_mask]\n",
    "    plt.plot(xy[:, 0], xy[:, 1], 'o', markerfacecolor=col,\n",
    "             markeredgecolor='k', markersize=14)\n",
    "\n",
    "    xy = X[class_member_mask & ~core_samples_mask]\n",
    "    plt.plot(xy[:, 0], xy[:, 1], 'o', markerfacecolor=col,\n",
    "             markeredgecolor='k', markersize=6)\n",
    "\n",
    "plt.title('Estimated number of clusters: %d' % n_clusters_)\n",
    "plt.show()"
   ]
  },
  {
   "cell_type": "code",
   "execution_count": null,
   "metadata": {
    "collapsed": true
   },
   "outputs": [],
   "source": []
  },
  {
   "cell_type": "code",
   "execution_count": null,
   "metadata": {
    "collapsed": true
   },
   "outputs": [],
   "source": []
  },
  {
   "cell_type": "code",
   "execution_count": null,
   "metadata": {
    "collapsed": true
   },
   "outputs": [],
   "source": []
  },
  {
   "cell_type": "code",
   "execution_count": null,
   "metadata": {
    "collapsed": true
   },
   "outputs": [],
   "source": []
  },
  {
   "cell_type": "code",
   "execution_count": null,
   "metadata": {
    "collapsed": true
   },
   "outputs": [],
   "source": []
  },
  {
   "cell_type": "code",
   "execution_count": null,
   "metadata": {
    "collapsed": true
   },
   "outputs": [],
   "source": []
  },
  {
   "cell_type": "code",
   "execution_count": null,
   "metadata": {
    "collapsed": true
   },
   "outputs": [],
   "source": []
  }
 ],
 "metadata": {
  "kernelspec": {
   "display_name": "Python 2",
   "language": "python",
   "name": "python2"
  },
  "language_info": {
   "codemirror_mode": {
    "name": "ipython",
    "version": 2
   },
   "file_extension": ".py",
   "mimetype": "text/x-python",
   "name": "python",
   "nbconvert_exporter": "python",
   "pygments_lexer": "ipython2",
   "version": "2.7.10"
  }
 },
 "nbformat": 4,
 "nbformat_minor": 0
}

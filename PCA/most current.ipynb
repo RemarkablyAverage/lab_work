{
 "cells": [
  {
   "cell_type": "markdown",
   "metadata": {},
   "source": [
    "# Formalized Problem\n",
    "    1. Given a gene matrix, correct for gene expression drop out"
   ]
  },
  {
   "cell_type": "markdown",
   "metadata": {},
   "source": [
    "# Create Data for PCA"
   ]
  },
  {
   "cell_type": "code",
   "execution_count": 259,
   "metadata": {
    "collapsed": false
   },
   "outputs": [
    {
     "name": "stdout",
     "output_type": "stream",
     "text": [
      "Populating the interactive namespace from numpy and matplotlib\n"
     ]
    },
    {
     "name": "stderr",
     "output_type": "stream",
     "text": [
      "WARNING: pylab import has clobbered these variables: ['cov']\n",
      "`%matplotlib` prevents importing * from pylab and numpy\n"
     ]
    }
   ],
   "source": [
    "import numpy as np\n",
    "import math\n",
    "%pylab inline\n",
    "from matplotlib import pyplot as plt\n",
    "from mpl_toolkits.mplot3d import Axes3D\n",
    "from mpl_toolkits.mplot3d import proj3d\n",
    "from matplotlib import pyplot as plt\n",
    "from scipy.cluster.hierarchy import dendrogram, linkage\n",
    "import numpy as np\n",
    "from scipy.cluster.vq import kmeans,vq\n",
    "from scipy.spatial.distance import cdist\n",
    "from sklearn.decomposition import PCA as sklearnPCA\n",
    "\n",
    "#DBSCAN\n",
    "from sklearn.cluster import DBSCAN\n",
    "from sklearn import metrics\n",
    "from sklearn.datasets.samples_generator import make_blobs\n",
    "from sklearn.preprocessing import StandardScaler"
   ]
  },
  {
   "cell_type": "markdown",
   "metadata": {},
   "source": [
    "# Create Cell Data"
   ]
  },
  {
   "cell_type": "code",
   "execution_count": 2,
   "metadata": {
    "collapsed": true
   },
   "outputs": [],
   "source": [
    "np.random.seed(4294967295) # random seed for consistency"
   ]
  },
  {
   "cell_type": "markdown",
   "metadata": {},
   "source": [
    "# Cell 1 Data"
   ]
  },
  {
   "cell_type": "code",
   "execution_count": 606,
   "metadata": {
    "collapsed": false
   },
   "outputs": [
    {
     "data": {
      "text/plain": [
       "(30, 10)"
      ]
     },
     "execution_count": 606,
     "metadata": {},
     "output_type": "execute_result"
    }
   ],
   "source": [
    "#Set parameters\n",
    "mean_cell1 = [10]*10#[8,8,8,8,7,7,9,7,8,8]\n",
    "cov = np.identity(10) \n",
    "cell1 = np.random.multivariate_normal(mean_cell1, cov, 30)\n",
    "shape(cell1)"
   ]
  },
  {
   "cell_type": "markdown",
   "metadata": {},
   "source": [
    "# Cell 2 Data"
   ]
  },
  {
   "cell_type": "code",
   "execution_count": 607,
   "metadata": {
    "collapsed": false
   },
   "outputs": [
    {
     "data": {
      "text/plain": [
       "(30, 10)"
      ]
     },
     "execution_count": 607,
     "metadata": {},
     "output_type": "execute_result"
    }
   ],
   "source": [
    "mean_cell2 = [5]*10#[4,4,2,3,4,3,4,5,4,4]\n",
    "cov = np.identity(10) \n",
    "cell2 = np.random.multivariate_normal(mean_cell2, cov, 30)\n",
    "shape(cell2)\n"
   ]
  },
  {
   "cell_type": "markdown",
   "metadata": {},
   "source": [
    "# Cell 3 Data"
   ]
  },
  {
   "cell_type": "code",
   "execution_count": 608,
   "metadata": {
    "collapsed": false
   },
   "outputs": [
    {
     "data": {
      "text/plain": [
       "(30, 10)"
      ]
     },
     "execution_count": 608,
     "metadata": {},
     "output_type": "execute_result"
    }
   ],
   "source": [
    "mean_cell3 = [1]*10#[2,1,1,2,2,1,1,1,2,2]\n",
    "cov = np.identity(10) \n",
    "cell3 = np.random.multivariate_normal(mean_cell3, cov, 30)\n",
    "cell3 = np.abs(cell3)\n",
    "shape(cell3)"
   ]
  },
  {
   "cell_type": "markdown",
   "metadata": {},
   "source": [
    "# Dimension Viz + Plot without Drop Out "
   ]
  },
  {
   "cell_type": "code",
   "execution_count": 609,
   "metadata": {
    "collapsed": false
   },
   "outputs": [
    {
     "name": "stdout",
     "output_type": "stream",
     "text": [
      "(90, 10)\n"
     ]
    },
    {
     "data": {
      "text/plain": [
       "(90, 5)"
      ]
     },
     "execution_count": 609,
     "metadata": {},
     "output_type": "execute_result"
    }
   ],
   "source": [
    "#Cell PCA\n",
    "#feature space/genes = 10, samples = 90\n",
    "#each element is the level of expression (log read count) of the jth gene, ith sample\n",
    "\n",
    "t = np.concatenate((cell1, cell2, cell3),)\n",
    "print shape(t)\n",
    "pca1 = sklearnPCA(n_components=5)\n",
    "fitted1 = pca1.fit(t)\n",
    "trans1 = pca1.transform(t)\n",
    "shape(trans1)"
   ]
  },
  {
   "cell_type": "code",
   "execution_count": 610,
   "metadata": {
    "collapsed": true
   },
   "outputs": [],
   "source": [
    "# #Cell 2 PCA\n",
    "# pca2 = sklearnPCA(n_components=10)\n",
    "# fitted2 = pca2.fit(cell2)\n",
    "# trans2 = pca2.transform(cell2) "
   ]
  },
  {
   "cell_type": "code",
   "execution_count": 628,
   "metadata": {
    "collapsed": false
   },
   "outputs": [
    {
     "data": {
      "image/png": "[encoded data removed]",
      "text/plain": [
       "<matplotlib.figure.Figure at 0x11001b410>"
      ]
     },
     "metadata": {},
     "output_type": "display_data"
    }
   ],
   "source": [
    "plt.plot(trans1[:,0], trans1[:,1], 'o', markersize=7, color='blue', alpha=0.5, label='celldata')\n",
    "\n",
    "#plt.plot(trans2[:,0], trans2[:,1], '^', markersize=7, color='red', alpha=0.5, label='cell2')\n",
    "\n",
    "plt.xlabel('PC 1')\n",
    "plt.ylabel('PC 2')\n",
    "plt.xlim([-20,20])\n",
    "plt.ylim([-20,20])\n",
    "plt.legend()\n",
    "plt.title('Transformed samples without dropout rate')\n",
    "\n",
    "plt.show()"
   ]
  },
  {
   "cell_type": "code",
   "execution_count": 629,
   "metadata": {
    "collapsed": false
   },
   "outputs": [
    {
     "data": {
      "image/png": "[encoded data removed]",
      "text/plain": [
       "<matplotlib.figure.Figure at 0x11022add0>"
      ]
     },
     "metadata": {},
     "output_type": "display_data"
    }
   ],
   "source": [
    "plt.plot(t[:,0], t[:,1], 'o', markersize=7, color='blue', alpha=0.5, label='cells')\n",
    "plt.xlabel(\"X\")\n",
    "plt.ylabel(\"Y\")\n",
    "plt.xlim([-2.5,15])\n",
    "plt.ylim([-2.5,15])\n",
    "plt.legend()\n",
    "plt.title('Samples')\n",
    "\n",
    "plt.show()"
   ]
  },
  {
   "cell_type": "code",
   "execution_count": null,
   "metadata": {
    "collapsed": false
   },
   "outputs": [],
   "source": []
  },
  {
   "cell_type": "markdown",
   "metadata": {},
   "source": [
    "# Drop out rate parameters"
   ]
  },
  {
   "cell_type": "code",
   "execution_count": 613,
   "metadata": {
    "collapsed": true
   },
   "outputs": [],
   "source": [
    "#mu is the mean vector aka centroid\n",
    "def drop_out(exp):\n",
    "    p = math.e**(-.1 * exp**2)\n",
    "    return np.random.binomial(1, p, 1)[0]"
   ]
  },
  {
   "cell_type": "code",
   "execution_count": 614,
   "metadata": {
    "collapsed": true
   },
   "outputs": [],
   "source": [
    "noise_1 = .1 * np.random.randn(shape(t)[0], shape(t)[1]) \n",
    "# noise_2 = .1 * np.random.randn(shape(cell2)[0], shape(cell2)[1]) "
   ]
  },
  {
   "cell_type": "code",
   "execution_count": 615,
   "metadata": {
    "collapsed": true
   },
   "outputs": [],
   "source": [
    "nsd1 = np.copy(t) + np.copy(noise_1)\n",
    "#nsd2 = np.copy(cell2) + np.copy(noise_2)"
   ]
  },
  {
   "cell_type": "code",
   "execution_count": 616,
   "metadata": {
    "collapsed": false
   },
   "outputs": [
    {
     "name": "stdout",
     "output_type": "stream",
     "text": [
      "289\n"
     ]
    }
   ],
   "source": [
    "count = 0\n",
    "for (i,j), value in numpy.ndenumerate(nsd1):\n",
    "    if (drop_out(value) == 1):\n",
    "        count += 1\n",
    "        nsd1[i,j] = 0\n",
    "print count"
   ]
  },
  {
   "cell_type": "code",
   "execution_count": 617,
   "metadata": {
    "collapsed": false
   },
   "outputs": [
    {
     "data": {
      "text/plain": [
       "(90, 10)"
      ]
     },
     "execution_count": 617,
     "metadata": {},
     "output_type": "execute_result"
    }
   ],
   "source": [
    "shape(nsd1)"
   ]
  },
  {
   "cell_type": "code",
   "execution_count": 618,
   "metadata": {
    "collapsed": false,
    "scrolled": true
   },
   "outputs": [
    {
     "data": {
      "text/plain": [
       "array([[ 10.27370868,  10.39502025,  11.45429621,  11.72163782,\n",
       "          9.71265209,  10.41892139,   9.32647898,  11.00035518,\n",
       "          9.03263335,  10.88026694],\n",
       "       [ 10.39586905,  10.716222  ,   8.9274426 ,   8.81093791,\n",
       "          8.2864377 ,  11.27533845,   9.50104375,  10.40888846,\n",
       "          8.57924907,  10.78198412],\n",
       "       [ 10.12002344,   9.57095289,   9.56701854,   9.62791217,\n",
       "          8.70871979,   8.2745448 ,  10.63557137,   9.39241611,\n",
       "          8.03583149,   9.89577654],\n",
       "       [ 10.96227252,  11.74926454,   8.44693385,   8.42121332,\n",
       "         11.93014306,  10.78661386,   9.09376487,   9.34044363,\n",
       "          8.17767344,  11.01336622],\n",
       "       [  7.66171078,  10.53107434,   9.45867344,  10.20221119,\n",
       "          8.32316759,  10.28015247,  10.80213725,   9.72927516,\n",
       "         10.16252091,   9.22264325],\n",
       "       [ 10.12987556,   8.76329607,   9.64147265,  10.54857003,\n",
       "         10.87801108,  10.97865686,   8.7370207 ,  11.00471863,\n",
       "          8.67418092,  11.27803768],\n",
       "       [ 11.4857246 ,   8.44422565,  10.58283518,   9.39949504,\n",
       "         11.56056775,  11.31499991,  11.01880021,   9.85580723,\n",
       "          8.93061552,  10.67978962],\n",
       "       [ 11.08166052,  10.18308704,  10.4593498 ,   8.77233146,\n",
       "          8.07261243,  11.14452959,  10.16866405,   8.35287681,\n",
       "          8.83428754,   9.86617912],\n",
       "       [  9.17503463,  10.44886593,   8.12608476,   9.92314289,\n",
       "          8.63072345,  11.10076885,  11.04943873,   9.6548842 ,\n",
       "          9.72078584,  10.0580523 ],\n",
       "       [  8.98604586,  12.08256238,  10.20773804,   9.37371231,\n",
       "          9.68349561,   8.89678069,   9.30674101,  11.04746452,\n",
       "         12.35354148,   9.54704655],\n",
       "       [ 12.28351961,   8.6848052 ,  10.74741499,   9.47067995,\n",
       "         11.49935213,   8.84997696,  11.44593562,   8.02239095,\n",
       "          9.48678721,  10.65553053],\n",
       "       [ 10.55722139,  11.65862576,  10.73437981,   9.6640147 ,\n",
       "         11.74594259,   9.80884517,   9.24433225,   9.90585723,\n",
       "         10.15557772,   9.48011586],\n",
       "       [ 11.05557109,   9.83362392,  10.45756227,   9.31509501,\n",
       "         10.80802182,  10.36763292,   9.69546715,  10.10408526,\n",
       "          9.53795002,  10.25680178],\n",
       "       [  9.16147631,   9.3406661 ,   9.81619249,   9.77111667,\n",
       "          9.86797247,  11.09177448,   9.11612837,   9.42216552,\n",
       "          7.88170771,   9.5743404 ],\n",
       "       [  9.49718136,  11.5493687 ,   6.57690236,  10.4027546 ,\n",
       "         10.89366985,  10.02158691,   9.79047414,  10.38781791,\n",
       "          9.73900515,   9.37278048],\n",
       "       [  9.72084091,  10.03957652,  10.49052457,  10.31645548,\n",
       "         11.41331784,  10.07502819,   9.36885825,   8.34230065,\n",
       "          8.25099305,  11.88897684],\n",
       "       [  9.39892334,  11.37457118,  12.35656827,  12.15603897,\n",
       "         10.89423875,   9.8458617 ,   9.4624619 ,  10.11504824,\n",
       "         10.00369916,  11.73452955],\n",
       "       [ 10.58118397,  10.24183383,   9.29705123,   9.15940258,\n",
       "          9.15046638,  10.24961773,   8.0489264 ,  10.07485015,\n",
       "          8.81154333,   7.11780268],\n",
       "       [ 11.3822786 ,   9.64029122,  10.54840758,  11.60717481,\n",
       "          8.96171865,  11.93695264,   9.74201995,  11.99916507,\n",
       "         10.87277051,   8.69516343],\n",
       "       [  9.56490083,   9.45523633,  10.27931639,   8.72820181,\n",
       "          8.64539714,  11.35649202,  10.20599328,   9.76253407,\n",
       "          8.60435761,  10.27305323],\n",
       "       [  9.66201922,   9.80352065,  12.08003914,  10.51985523,\n",
       "          9.1307595 ,   9.24506717,  10.75111833,  12.13405969,\n",
       "          9.91187618,   9.52707845],\n",
       "       [  9.34816477,   9.3063683 ,   9.99980312,  10.27564638,\n",
       "          9.01245962,  10.59122533,  10.72982001,  10.76765904,\n",
       "         10.25929055,  12.56529645],\n",
       "       [ 10.67984494,  10.62251756,  10.27646322,  10.29287706,\n",
       "          7.89042993,   8.58120609,  11.13474817,   8.95162858,\n",
       "          9.00587875,   9.76936953],\n",
       "       [  9.61634085,   8.90921577,   9.29945565,   8.22826834,\n",
       "          8.53386344,  11.00678695,   9.46558128,  10.71781748,\n",
       "         10.78453205,   8.43707177],\n",
       "       [ 10.56202026,  10.41021536,   9.41642957,   9.13464357,\n",
       "          9.60534575,   8.73836442,   9.15735525,   8.83843976,\n",
       "          9.57390102,   8.33735395],\n",
       "       [  9.94499941,  10.50364508,   7.70628947,  12.96973649,\n",
       "          9.29911192,   8.47701614,   9.55782547,   8.7342768 ,\n",
       "         10.00048954,  10.58539659],\n",
       "       [ 11.40349081,  10.24879853,   9.77519821,   9.95363251,\n",
       "         11.13531014,  10.4071234 ,  10.45889382,  10.62672738,\n",
       "         10.23851081,   9.78878672],\n",
       "       [  9.46327286,  10.95574551,   9.3884591 ,  10.8809145 ,\n",
       "         11.23154821,   9.64669795,   9.36693471,  10.99861451,\n",
       "          9.70448348,  10.6533477 ],\n",
       "       [ 10.1477269 ,   8.94607976,  11.13178651,  10.73443022,\n",
       "         10.5401857 ,  12.15985577,  10.98362493,   9.01690751,\n",
       "          9.92116225,  10.11788984],\n",
       "       [  9.57037863,   9.70403832,   8.17946464,  10.70003728,\n",
       "          8.95121996,  10.97492855,  10.41857082,  10.76060425,\n",
       "          9.32832829,   7.71172166],\n",
       "       [  4.94697207,   4.57102188,   3.9437856 ,   6.09589936,\n",
       "          4.12762104,   4.49650871,   0.        ,   5.16049157,\n",
       "          4.87423748,   4.15218186],\n",
       "       [  5.38017099,   6.68169534,   5.02844269,   5.96485219,\n",
       "          4.44320528,   6.64992788,   6.22449763,   4.0994629 ,\n",
       "          5.70405271,   6.19010536],\n",
       "       [  4.94606182,   4.54166542,   5.15163267,   4.10507867,\n",
       "          2.55540298,   3.27832672,   5.06276234,   3.2021582 ,\n",
       "          4.94752536,   5.11323829],\n",
       "       [  5.42344367,   5.49172786,   5.52556681,   4.64655977,\n",
       "          3.75357768,   6.12460196,   6.2729016 ,   3.8547318 ,\n",
       "          5.33934871,   5.67371153],\n",
       "       [  0.        ,   5.30859548,   3.50899857,   4.0482412 ,\n",
       "          5.73281164,   6.3960291 ,   4.48777854,   0.        ,\n",
       "          0.        ,   4.07305219],\n",
       "       [  5.86434707,   0.        ,   0.        ,   4.56406252,\n",
       "          6.74899142,   6.08424287,   0.        ,   4.90709644,\n",
       "          6.83457307,   5.69891798],\n",
       "       [  6.35495923,   5.6357188 ,   4.14167105,   4.22826609,\n",
       "          2.80679422,   5.86428408,   5.0454913 ,   0.        ,\n",
       "          6.28125401,   4.26623104],\n",
       "       [  0.        ,   6.0668949 ,   5.3163793 ,   5.39831924,\n",
       "          5.11265806,   4.02984483,   4.87280931,   5.34284734,\n",
       "          5.62926922,   5.14499968],\n",
       "       [  7.42138884,   5.31531999,   3.6788364 ,   0.        ,\n",
       "          5.56838429,   3.17032736,   6.74042537,   4.70151   ,\n",
       "          8.74036442,   6.50241388],\n",
       "       [  4.96667541,   4.44079369,   5.56280801,   5.58767536,\n",
       "          3.66509892,   0.        ,   3.92075708,   5.36001334,\n",
       "          5.91676799,   0.        ],\n",
       "       [  5.25495981,   5.21591827,   3.88110006,   4.91098671,\n",
       "          4.91516696,   4.89764596,   6.56896552,   5.89288416,\n",
       "          6.51384464,   0.        ],\n",
       "       [  0.        ,   5.61314725,   6.16676055,   4.58129697,\n",
       "          5.08124806,   5.5039547 ,   2.54322716,   5.78188173,\n",
       "          0.        ,   5.84155887],\n",
       "       [  5.05636189,   5.03515029,   5.26044283,   5.51236357,\n",
       "          5.95378206,   4.39442663,   5.74170405,   6.5260624 ,\n",
       "          4.93998046,   4.24218938],\n",
       "       [  5.33869113,   5.1046249 ,   3.80895907,   5.38765308,\n",
       "          4.35272196,   3.04190325,   7.33082096,   5.76376577,\n",
       "          4.08905156,   7.38249042],\n",
       "       [  5.09844662,   6.61159552,   4.86705524,   5.84637769,\n",
       "          5.03209106,   5.12080024,   5.9004852 ,   4.87738785,\n",
       "          5.24836046,   6.20873395],\n",
       "       [  5.25912647,   3.67591736,   6.0479201 ,   5.02301037,\n",
       "          6.4407837 ,   5.94350385,   3.66970687,   5.20989614,\n",
       "          5.23863396,   3.83930196],\n",
       "       [  5.22514189,   4.51964683,   3.8259019 ,   5.75777505,\n",
       "          4.996628  ,   0.        ,   6.05814095,   4.02614968,\n",
       "          4.9595221 ,   4.00575849],\n",
       "       [  3.10620906,   5.50494748,   6.53301036,   0.        ,\n",
       "          0.        ,   4.83613525,   4.63961153,   0.        ,\n",
       "          4.01214414,   4.50179323],\n",
       "       [  5.83633258,   6.3837616 ,   6.56927052,   0.        ,\n",
       "          4.88898783,   6.54884734,   6.39914444,   3.23009067,\n",
       "          4.587271  ,   4.51835836],\n",
       "       [  5.99341628,   6.81084033,   5.74560865,   4.30693084,\n",
       "          7.36497967,   0.        ,   4.49676488,   5.71986802,\n",
       "          4.91073103,   4.72034243],\n",
       "       [  3.84662799,   4.55585978,   5.01924087,   4.7934614 ,\n",
       "          5.04947072,   6.74930366,   4.91898221,   5.8415655 ,\n",
       "          0.        ,   0.        ],\n",
       "       [  3.36601567,   6.6709582 ,   4.81071297,   5.02791194,\n",
       "          5.43831824,   4.95364454,   5.25349465,   5.41830472,\n",
       "          3.90322001,   5.67627112],\n",
       "       [  4.47037599,   7.14069778,   0.        ,   4.45911739,\n",
       "          5.51555202,   5.43729997,   5.89531558,   5.10518285,\n",
       "          4.73814823,   5.50248824],\n",
       "       [  5.46880618,   4.34968959,   4.75689716,   7.00669092,\n",
       "          5.3410211 ,   4.59161582,   3.5774929 ,   3.92032749,\n",
       "          6.20820719,   4.02650828],\n",
       "       [  6.18465291,   4.20761048,   4.82572807,   0.        ,\n",
       "          0.        ,   4.34491866,   4.99824248,   5.08255416,\n",
       "          5.8159655 ,   4.65359479],\n",
       "       [  3.49428912,   5.16530622,   6.30991325,   3.54333963,\n",
       "          4.20148727,   6.26901586,   4.12683309,   5.4815316 ,\n",
       "          5.47701326,   3.01912914],\n",
       "       [  6.08201084,   5.56269143,   4.36914127,   5.76860112,\n",
       "          5.71626455,   6.11343561,   3.59052611,   4.99132598,\n",
       "          0.        ,   4.28698785],\n",
       "       [  5.56859918,   4.93684252,   4.05980362,   4.85526077,\n",
       "          3.84874376,   4.88241487,   5.87284757,   4.27644364,\n",
       "          4.28627698,   5.60567878],\n",
       "       [  4.46922467,   4.77444481,   5.35415648,   0.        ,\n",
       "          3.60442673,   5.76913773,   5.67704223,   7.15200309,\n",
       "          6.19603199,   5.63933068],\n",
       "       [  0.        ,   4.6001425 ,   5.74024513,   7.03930755,\n",
       "          5.58313921,   6.55681411,   5.46065001,   3.84010108,\n",
       "          5.66061671,   5.95620426],\n",
       "       [  0.        ,   0.        ,   0.        ,   1.83774188,\n",
       "          0.        ,   0.        ,   0.        ,   0.        ,\n",
       "          0.        ,   1.85907331],\n",
       "       [  0.        ,   0.        ,   0.        ,   0.        ,\n",
       "          0.        ,   1.81123721,   0.        ,   0.        ,\n",
       "          0.        ,   2.41353826],\n",
       "       [  0.        ,   1.70135346,   0.        ,   0.        ,\n",
       "          0.        ,   0.        ,   0.        ,   0.        ,\n",
       "          1.4392415 ,   0.        ],\n",
       "       [  0.        ,   0.        ,   0.        ,   0.        ,\n",
       "          1.31501597,   0.        ,   0.        ,   0.        ,\n",
       "          0.        ,   0.        ],\n",
       "       [  0.        ,   0.        ,   0.        ,   0.        ,\n",
       "          1.58077287,   0.        ,   0.        ,   1.45888348,\n",
       "          0.        ,   0.        ],\n",
       "       [  0.        ,   0.        ,   0.        ,   0.        ,\n",
       "          0.        ,   0.        ,   0.        ,   0.        ,\n",
       "          0.        ,   0.        ],\n",
       "       [  0.        ,   0.        ,   0.        ,   0.        ,\n",
       "          0.        ,   0.        ,   0.        ,   0.        ,\n",
       "          0.        ,   0.        ],\n",
       "       [  0.        ,   0.        ,   0.        ,   0.        ,\n",
       "          0.        ,   0.        ,   0.        ,   0.        ,\n",
       "          0.        ,   0.        ],\n",
       "       [  0.        ,   0.        ,   0.        ,   1.21382424,\n",
       "          0.        ,   0.        ,   2.80137195,   0.        ,\n",
       "          0.        ,   0.        ],\n",
       "       [  0.        ,   0.        ,   0.        ,   0.        ,\n",
       "          0.        ,   0.        ,   1.4503706 ,   0.        ,\n",
       "          0.        ,   0.        ],\n",
       "       [  0.        ,   0.        ,   0.        ,   0.        ,\n",
       "          0.        ,   0.        ,   2.55991451,   0.        ,\n",
       "          0.        ,   0.        ],\n",
       "       [  0.        ,   0.        ,   0.93440031,   0.        ,\n",
       "          0.        ,   0.        ,   0.        ,   0.        ,\n",
       "          0.        ,   0.        ],\n",
       "       [  0.        ,   1.30520011,   0.        ,   0.        ,\n",
       "          0.        ,   0.        ,   0.        ,   0.        ,\n",
       "          0.        ,   0.        ],\n",
       "       [  3.000142  ,   0.        ,   0.        ,   0.        ,\n",
       "          0.        ,   0.        ,   0.        ,   0.        ,\n",
       "          0.        ,   0.        ],\n",
       "       [  0.        ,   0.        ,   0.        ,   0.        ,\n",
       "          0.        ,   3.7652656 ,   0.        ,   0.        ,\n",
       "          0.        ,   0.        ],\n",
       "       [  0.        ,   0.        ,   0.        ,   1.45761322,\n",
       "          1.66284411,   0.        ,   2.64760409,   0.        ,\n",
       "          0.        ,   0.        ],\n",
       "       [  0.        ,   0.        ,   0.        ,   0.        ,\n",
       "          0.        ,   0.        ,   0.        ,   0.        ,\n",
       "          0.        ,   0.        ],\n",
       "       [  0.        ,   0.        ,   0.        ,   0.        ,\n",
       "          0.        ,   0.        ,   0.        ,   0.        ,\n",
       "          0.        ,   0.        ],\n",
       "       [  0.        ,   0.        ,   0.        ,   0.        ,\n",
       "          0.        ,   0.        ,   0.        ,   0.        ,\n",
       "          0.        ,   0.        ],\n",
       "       [  0.        ,   2.71953602,   0.        ,   0.        ,\n",
       "          0.        ,   0.        ,   0.        ,   2.27713724,\n",
       "          0.        ,   0.        ],\n",
       "       [  0.        ,   0.        ,   0.        ,   0.        ,\n",
       "          0.        ,   0.        ,   0.        ,   0.        ,\n",
       "          0.        ,   0.        ],\n",
       "       [  0.        ,   0.        ,   0.        ,   0.        ,\n",
       "          0.        ,   1.47722296,   0.        ,   0.        ,\n",
       "          0.        ,   0.        ],\n",
       "       [  0.        ,   2.33564472,   0.        ,   0.        ,\n",
       "          1.6592504 ,   0.        ,   0.        ,   0.        ,\n",
       "          0.        ,   0.93180533],\n",
       "       [  0.        ,   0.        ,   0.        ,   0.        ,\n",
       "          0.        ,   0.        ,   0.        ,   0.        ,\n",
       "          0.        ,   0.        ],\n",
       "       [  0.        ,   0.        ,   0.        ,   2.39244883,\n",
       "          0.        ,   0.        ,   1.30697018,   0.        ,\n",
       "          0.        ,   0.        ],\n",
       "       [  2.69262512,   0.        ,   0.        ,   0.        ,\n",
       "          0.        ,   0.        ,   0.        ,   0.        ,\n",
       "          0.        ,   0.        ],\n",
       "       [  0.        ,   1.15983732,   0.        ,   2.36075411,\n",
       "          0.        ,   0.        ,   0.        ,   0.        ,\n",
       "          0.        ,   0.        ],\n",
       "       [  0.        ,   2.35248669,   0.        ,   1.20500743,\n",
       "          0.        ,   0.        ,   0.        ,   0.        ,\n",
       "          0.        ,   0.        ],\n",
       "       [  1.64529476,   0.        ,   0.        ,   0.        ,\n",
       "          1.75492441,   2.13351863,   2.35658462,   0.        ,\n",
       "          1.67545988,   0.        ],\n",
       "       [  0.        ,   1.88564016,   0.        ,   0.        ,\n",
       "          0.        ,   0.        ,   0.        ,   0.        ,\n",
       "          0.        ,   2.17457439]])"
      ]
     },
     "execution_count": 618,
     "metadata": {},
     "output_type": "execute_result"
    }
   ],
   "source": [
    "nsd1"
   ]
  },
  {
   "cell_type": "code",
   "execution_count": 619,
   "metadata": {
    "collapsed": false
   },
   "outputs": [
    {
     "data": {
      "image/png": "[encoded data removed]",
      "text/plain": [
       "<matplotlib.figure.Figure at 0x1120394d0>"
      ]
     },
     "metadata": {},
     "output_type": "display_data"
    }
   ],
   "source": [
    "plt.plot(nsd1[:,0], nsd1[:,1], 'o', markersize=7, color='blue', alpha=0.5, label='dropped')\n",
    "plt.plot(t[:,0], t[:,1], 'o', markersize=7, color='red', alpha=0.5, label='non dropped')\n",
    "plt.xlabel(\"X\")\n",
    "plt.ylabel(\"Y\")\n",
    "plt.xlim([-2.5,15])\n",
    "plt.ylim([-2.5,15])\n",
    "plt.legend()\n",
    "plt.title('Samples with dropout rate')\n",
    "\n",
    "plt.show()"
   ]
  },
  {
   "cell_type": "markdown",
   "metadata": {
    "collapsed": true
   },
   "source": [
    "# With Dropout Visualization"
   ]
  },
  {
   "cell_type": "code",
   "execution_count": 620,
   "metadata": {
    "collapsed": false
   },
   "outputs": [
    {
     "data": {
      "text/plain": [
       "array([ 0.91845853,  0.01661833,  0.01394443,  0.01065794,  0.00936581])"
      ]
     },
     "execution_count": 620,
     "metadata": {},
     "output_type": "execute_result"
    }
   ],
   "source": [
    "#Cell PCA\n",
    "#feature space = 90, samples = 10\n",
    "pca2 = sklearnPCA(n_components=5)\n",
    "fitted1 = pca2.fit(nsd1)\n",
    "trans2 = pca2.transform(nsd1)\n",
    "shape(trans2)\n",
    "pca2.explained_variance_ratio_ "
   ]
  },
  {
   "cell_type": "code",
   "execution_count": 621,
   "metadata": {
    "collapsed": false
   },
   "outputs": [
    {
     "data": {
      "image/png": "[encoded data removed]",
      "text/plain": [
       "<matplotlib.figure.Figure at 0x110b910d0>"
      ]
     },
     "metadata": {},
     "output_type": "display_data"
    }
   ],
   "source": [
    "plt.plot(trans2[:,0], trans2[:,1], 'o', markersize=7, color='blue', alpha=0.5, label='cells')\n",
    "\n",
    "plt.xlabel('PC 1')\n",
    "plt.ylabel('PC 2')\n",
    "plt.xlim([-20,15])\n",
    "plt.ylim([-20,15])\n",
    "plt.legend()\n",
    "plt.title('Transformed samples with dropout rate')\n",
    "\n",
    "plt.show()"
   ]
  },
  {
   "cell_type": "code",
   "execution_count": 622,
   "metadata": {
    "collapsed": false
   },
   "outputs": [],
   "source": [
    "ls =np.concatenate((trans2[:,0], trans2[:,1]))"
   ]
  },
  {
   "cell_type": "markdown",
   "metadata": {
    "collapsed": true
   },
   "source": [
    "# Methods"
   ]
  },
  {
   "cell_type": "code",
   "execution_count": 638,
   "metadata": {
    "collapsed": false
   },
   "outputs": [],
   "source": [
    "def find_avgWithinSS(matrix, maxclusters=10):\n",
    "    K = range(1, maxclusters)\n",
    "    KM = [kmeans(matrix,k) for k in K]\n",
    "    centroids = [cent for (cent,var) in KM]   \n",
    "    D_k = [cdist(matrix, cent, 'euclidean') for cent in centroids]\n",
    "    cIdx = [np.argmin(D,axis=1) for D in D_k]\n",
    "    dist = [np.min(D,axis=1) for D in D_k]\n",
    "    avgWithinSS = [sum(d)/matrix.shape[0] for d in dist]\n",
    "    return avgWithinSS\n",
    "\n",
    "def find_centroid(matrix):\n",
    "    K = findK(find_avgWithinSS(matrix))\n",
    "    KM = [kmeans(matrix, K)]\n",
    "    centroids = [cent for (cent,var) in KM]\n",
    "    return centroids\n",
    "\n",
    "def findK(points, num_derivatives=3):\n",
    "    for x in range(0,num_derivatives):\n",
    "        points = np.diff(points)\n",
    "    ret = (list(points))\n",
    "    ret = [abs(p) for p in points]\n",
    "    print ret\n",
    "    return ret.index(max(ret))\n",
    "\n",
    "# def findK(points, tol = .90):\n",
    "#     cache = []\n",
    "#     for p in range(len(points) - 1):\n",
    "#         diff = points[p] - points[p + 1]\n",
    "#         cache.append(diff)\n",
    "#     count = 0\n",
    "#     buff = 0\n",
    "#     while(buff/sum(cache) < tol):\n",
    "#         buff += cache[count]\n",
    "#         count += 1\n",
    "#     print buff\n",
    "#     return count + 1"
   ]
  },
  {
   "cell_type": "code",
   "execution_count": null,
   "metadata": {
    "collapsed": false
   },
   "outputs": [],
   "source": []
  },
  {
   "cell_type": "code",
   "execution_count": 639,
   "metadata": {
    "collapsed": false
   },
   "outputs": [
    {
     "name": "stdout",
     "output_type": "stream",
     "text": [
      "[0.4391748983076833, 2.9618727544186565, 0.086399241814029804, 0.024530558250577705, 0.012687818263815487, 0.0017500552826308358]\n"
     ]
    },
    {
     "data": {
      "text/plain": [
       "1"
      ]
     },
     "execution_count": 639,
     "metadata": {},
     "output_type": "execute_result"
    }
   ],
   "source": [
    "findK(find_avgWithinSS(trans2))"
   ]
  },
  {
   "cell_type": "code",
   "execution_count": 632,
   "metadata": {
    "collapsed": false
   },
   "outputs": [
    {
     "data": {
      "text/plain": [
       "3"
      ]
     },
     "execution_count": 632,
     "metadata": {},
     "output_type": "execute_result"
    }
   ],
   "source": [
    "found"
   ]
  },
  {
   "cell_type": "code",
   "execution_count": 633,
   "metadata": {
    "collapsed": false
   },
   "outputs": [
    {
     "name": "stdout",
     "output_type": "stream",
     "text": [
      "[5.8323026607585398, 3.2290740668868638, 0.18702096171414428, 0.08467659009136419, 0.1465737906046285, 0.1143393888570805, 0.035642155695948752, 0.02441221453989284]\n",
      "K 0\n"
     ]
    },
    {
     "ename": "IndexError",
     "evalue": "list index out of range",
     "output_type": "error",
     "traceback": [
      "\u001b[0;31m---------------------------------------------------------------------------\u001b[0m",
      "\u001b[0;31mIndexError\u001b[0m                                Traceback (most recent call last)",
      "\u001b[0;32m<ipython-input-633-472433d0369a>\u001b[0m in \u001b[0;36m<module>\u001b[0;34m()\u001b[0m\n\u001b[1;32m     29\u001b[0m \u001b[0;32mfor\u001b[0m \u001b[0mi\u001b[0m \u001b[0;32min\u001b[0m \u001b[0mrange\u001b[0m\u001b[0;34m(\u001b[0m\u001b[0mK\u001b[0m\u001b[0;34m[\u001b[0m\u001b[0mkIdx\u001b[0m\u001b[0;34m]\u001b[0m\u001b[0;34m)\u001b[0m\u001b[0;34m:\u001b[0m\u001b[0;34m\u001b[0m\u001b[0m\n\u001b[1;32m     30\u001b[0m     \u001b[0mind\u001b[0m \u001b[0;34m=\u001b[0m \u001b[0;34m(\u001b[0m\u001b[0mcIdx\u001b[0m\u001b[0;34m[\u001b[0m\u001b[0mkIdx\u001b[0m\u001b[0;34m]\u001b[0m\u001b[0;34m==\u001b[0m\u001b[0mi\u001b[0m\u001b[0;34m)\u001b[0m\u001b[0;34m\u001b[0m\u001b[0m\n\u001b[0;32m---> 31\u001b[0;31m     \u001b[0max\u001b[0m\u001b[0;34m.\u001b[0m\u001b[0mscatter\u001b[0m\u001b[0;34m(\u001b[0m\u001b[0mtrans2\u001b[0m\u001b[0;34m[\u001b[0m\u001b[0mind\u001b[0m\u001b[0;34m,\u001b[0m\u001b[0;36m0\u001b[0m\u001b[0;34m]\u001b[0m\u001b[0;34m,\u001b[0m\u001b[0mtrans2\u001b[0m\u001b[0;34m[\u001b[0m\u001b[0mind\u001b[0m\u001b[0;34m,\u001b[0m\u001b[0;36m1\u001b[0m\u001b[0;34m]\u001b[0m\u001b[0;34m,\u001b[0m \u001b[0ms\u001b[0m\u001b[0;34m=\u001b[0m\u001b[0;36m30\u001b[0m\u001b[0;34m,\u001b[0m \u001b[0mc\u001b[0m\u001b[0;34m=\u001b[0m\u001b[0mclr\u001b[0m\u001b[0;34m[\u001b[0m\u001b[0mi\u001b[0m\u001b[0;34m]\u001b[0m\u001b[0;34m,\u001b[0m \u001b[0mlabel\u001b[0m\u001b[0;34m=\u001b[0m\u001b[0;34m'Cluster %d'\u001b[0m\u001b[0;34m%\u001b[0m\u001b[0mi\u001b[0m\u001b[0;34m)\u001b[0m\u001b[0;34m\u001b[0m\u001b[0m\n\u001b[0m\u001b[1;32m     32\u001b[0m \u001b[0mplt\u001b[0m\u001b[0;34m.\u001b[0m\u001b[0mxlabel\u001b[0m\u001b[0;34m(\u001b[0m\u001b[0;34m'Y'\u001b[0m\u001b[0;34m)\u001b[0m\u001b[0;34m\u001b[0m\u001b[0m\n\u001b[1;32m     33\u001b[0m \u001b[0mplt\u001b[0m\u001b[0;34m.\u001b[0m\u001b[0mylabel\u001b[0m\u001b[0;34m(\u001b[0m\u001b[0;34m'X'\u001b[0m\u001b[0;34m)\u001b[0m\u001b[0;34m\u001b[0m\u001b[0m\n",
      "\u001b[0;31mIndexError\u001b[0m: list index out of range"
     ]
    },
    {
     "data": {
      "image/png": "[encoded data removed]",
      "text/plain": [
       "<matplotlib.figure.Figure at 0x111548790>"
      ]
     },
     "metadata": {},
     "output_type": "display_data"
    },
    {
     "data": {
      "image/png": "[encoded data removed]",
      "text/plain": [
       "<matplotlib.figure.Figure at 0x11153ac90>"
      ]
     },
     "metadata": {},
     "output_type": "display_data"
    }
   ],
   "source": [
    "maxclusters=10\n",
    "##### plot ###\n",
    "avg = find_avgWithinSS(trans2)\n",
    "found = findK(avg)\n",
    "print \"K\", found\n",
    "kIdx = found - 1\n",
    "K = range(1, maxclusters)\n",
    "KM = [kmeans(trans2,k) for k in K]\n",
    "centroids = [cent for (cent,var) in KM]   \n",
    "D_k = [cdist(trans2, cent, 'euclidean') for cent in centroids]\n",
    "cIdx = [np.argmin(D,axis=1) for D in D_k]\n",
    "\n",
    "# elbow curve\n",
    "fig = plt.figure()\n",
    "ax = fig.add_subplot(111)\n",
    "ax.plot(K, find_avgWithinSS(trans2), 'b*-')\n",
    "ax.plot(K[kIdx], find_avgWithinSS(trans2)[kIdx], marker='o', markersize=12, \n",
    "    markeredgewidth=2, markeredgecolor='r', markerfacecolor='None')\n",
    "plt.grid(True)\n",
    "plt.xlabel('Number of clusters')\n",
    "plt.ylabel('Average within-cluster sum of squares')\n",
    "plt.title('Elbow for KMeans clustering')\n",
    "\n",
    "# scatter plot\n",
    "fig = plt.figure()\n",
    "ax = fig.add_subplot(111)\n",
    "#ax.scatter(X[:,2],X[:,1], s=30, c=cIdx[k])\n",
    "clr = ['b','g','r','c','m','y','k']\n",
    "for i in range(K[kIdx]):\n",
    "    ind = (cIdx[kIdx]==i)\n",
    "    ax.scatter(trans2[ind,0],trans2[ind,1], s=30, c=clr[i], label='Cluster %d'%i)\n",
    "plt.xlabel('Y')\n",
    "plt.ylabel('X')\n",
    "plt.xlim([-20,15])\n",
    "plt.ylim([-20,15])\n",
    "plt.title('Cells, KMeans clustering with K=%d' % K[kIdx])\n",
    "#plt.legend()\n",
    "\n",
    "plt.show()\n",
    "print len(centroids)"
   ]
  },
  {
   "cell_type": "code",
   "execution_count": 627,
   "metadata": {
    "collapsed": false,
    "scrolled": false
   },
   "outputs": [
    {
     "name": "stdout",
     "output_type": "stream",
     "text": [
      "8.65601070681\n",
      "8.65601070681\n",
      "8.65601070681\n"
     ]
    }
   ],
   "source": [
    "rm1 = find_centroid(nsd1)[0][0]\n",
    "rm2 = find_centroid(nsd1)[0][1]\n",
    "rm3 = find_centroid(nsd1)[0][1]\n",
    "centroids = [rm1, rm2, rm3]"
   ]
  },
  {
   "cell_type": "code",
   "execution_count": 604,
   "metadata": {
    "collapsed": false
   },
   "outputs": [
    {
     "name": "stdout",
     "output_type": "stream",
     "text": [
      "5.84540720793\n",
      "K 3\n"
     ]
    },
    {
     "data": {
      "image/png": "[encoded data removed]",
      "text/plain": [
       "<matplotlib.figure.Figure at 0x10ffe2950>"
      ]
     },
     "metadata": {},
     "output_type": "display_data"
    },
    {
     "data": {
      "image/png": "[encoded data removed]",
      "text/plain": [
       "<matplotlib.figure.Figure at 0x10ffbd5d0>"
      ]
     },
     "metadata": {},
     "output_type": "display_data"
    },
    {
     "data": {
      "image/png": "[encoded data removed]",
      "text/plain": [
       "<matplotlib.figure.Figure at 0x111e7b590>"
      ]
     },
     "metadata": {},
     "output_type": "display_data"
    },
    {
     "data": {
      "image/png": "[encoded data removed]",
      "text/plain": [
       "<matplotlib.figure.Figure at 0x110028510>"
      ]
     },
     "metadata": {},
     "output_type": "display_data"
    },
    {
     "data": {
      "image/png": "[encoded data removed]",
      "text/plain": [
       "<matplotlib.figure.Figure at 0x110f38c90>"
      ]
     },
     "metadata": {},
     "output_type": "display_data"
    },
    {
     "data": {
      "image/png": "[encoded data removed]",
      "text/plain": [
       "<matplotlib.figure.Figure at 0x111fa3d90>"
      ]
     },
     "metadata": {},
     "output_type": "display_data"
    }
   ],
   "source": [
    "maxclusters=10\n",
    "##### plot ###\n",
    "avg = find_avgWithinSS(nsd1)\n",
    "found = findK(avg)\n",
    "print \"K\", found\n",
    "kIdx = found - 1\n",
    "K = range(1, maxclusters)\n",
    "KM = [kmeans(nsd1,k) for k in K]\n",
    "centroids = [cent for (cent,var) in KM]   \n",
    "D_k = [cdist(nsd1, cent, 'euclidean') for cent in centroids]\n",
    "cIdx = [np.argmin(D,axis=1) for D in D_k]\n",
    "\n",
    "# elbow curve\n",
    "fig = plt.figure()\n",
    "ax = fig.add_subplot(111)\n",
    "ax.plot(K, find_avgWithinSS(nsd1), 'b*-')\n",
    "ax.plot(K[kIdx], find_avgWithinSS(nsd1)[kIdx], marker='o', markersize=12, \n",
    "    markeredgewidth=2, markeredgecolor='r', markerfacecolor='None')\n",
    "plt.grid(True)\n",
    "plt.xlabel('Number of clusters')\n",
    "plt.ylabel('Average within-cluster sum of squares')\n",
    "plt.title('Elbow for KMeans clustering')\n",
    "\n",
    "# scatter plot\n",
    "fig = plt.figure()\n",
    "ax = fig.add_subplot(111)\n",
    "#ax.scatter(X[:,2],X[:,1], s=30, c=cIdx[k])\n",
    "clr = ['b','g','r','c','m','y','k']\n",
    "for i in range(K[kIdx]):\n",
    "    ind = (cIdx[kIdx]==i)\n",
    "    ax.scatter(nsd1[ind,0],nsd1[ind,1], s=30, c=clr[i], label='Cluster %d'%i)\n",
    "plt.xlabel('Y')\n",
    "plt.ylabel('X')\n",
    "plt.xlim([-1.5,15])\n",
    "plt.ylim([-1.5,15])\n",
    "plt.title('1v2, KMeans clustering with K=%d' % K[kIdx])\n",
    "#plt.legend()\n",
    "\n",
    "plt.show()\n",
    "\n",
    "fig = plt.figure()\n",
    "ax = fig.add_subplot(111)\n",
    "#ax.scatter(X[:,2],X[:,1], s=30, c=cIdx[k])\n",
    "clr = ['b','g','r','c','m','y','k']\n",
    "for i in range(K[kIdx]):\n",
    "    ind = (cIdx[kIdx]==i)\n",
    "    ax.scatter(nsd1[ind,1],nsd1[ind,2], s=30, c=clr[i], label='Cluster %d'%i)\n",
    "plt.xlabel('Y')\n",
    "plt.ylabel('X')\n",
    "plt.xlim([-1.5,15])\n",
    "plt.ylim([-1.5,15])\n",
    "plt.title('2v3, KMeans clustering with K=%d' % K[kIdx])\n",
    "#plt.legend()\n",
    "\n",
    "plt.show()\n",
    "\n",
    "fig = plt.figure()\n",
    "ax = fig.add_subplot(111)\n",
    "#ax.scatter(X[:,2],X[:,1], s=30, c=cIdx[k])\n",
    "clr = ['b','g','r','c','m','y','k']\n",
    "for i in range(K[kIdx]):\n",
    "    ind = (cIdx[kIdx]==i)\n",
    "    ax.scatter(nsd1[ind,2],nsd1[ind,3], s=30, c=clr[i], label='Cluster %d'%i)\n",
    "plt.xlabel('Y')\n",
    "plt.ylabel('X')\n",
    "plt.xlim([-1.5,15])\n",
    "plt.ylim([-1.5,15])\n",
    "plt.title('3v4, KMeans clustering with K=%d' % K[kIdx])\n",
    "#plt.legend()\n",
    "\n",
    "plt.show()\n",
    "\n",
    "\n",
    "fig = plt.figure()\n",
    "ax = fig.add_subplot(111)\n",
    "#ax.scatter(X[:,2],X[:,1], s=30, c=cIdx[k])\n",
    "clr = ['b','g','r','c','m','y','k']\n",
    "for i in range(K[kIdx]):\n",
    "    ind = (cIdx[kIdx]==i)\n",
    "    ax.scatter(nsd1[ind,3],nsd1[ind,4], s=30, c=clr[i], label='Cluster %d'%i)\n",
    "plt.xlabel('Y')\n",
    "plt.ylabel('X')\n",
    "plt.xlim([-1.5,15])\n",
    "plt.ylim([-1.5,15])\n",
    "plt.title('4v5, KMeans clustering with K=%d' % K[kIdx])\n",
    "#plt.legend()\n",
    "\n",
    "plt.show()\n",
    "\n",
    "fig = plt.figure()\n",
    "ax = fig.add_subplot(111)\n",
    "#ax.scatter(X[:,2],X[:,1], s=30, c=cIdx[k])\n",
    "clr = ['b','g','r','c','m','y','k']\n",
    "for i in range(K[kIdx]):\n",
    "    ind = (cIdx[kIdx]==i)\n",
    "    ax.scatter(nsd1[ind,4],nsd1[ind,5], s=30, c=clr[i], label='Cluster %d'%i)\n",
    "plt.xlabel('Y')\n",
    "plt.ylabel('X')\n",
    "plt.xlim([-1.5,15])\n",
    "plt.ylim([-1.5,15])\n",
    "plt.title('5v6, KMeans clustering with K=%d' % K[kIdx])\n",
    "#plt.legend()\n",
    "\n",
    "plt.show()\n"
   ]
  },
  {
   "cell_type": "code",
   "execution_count": null,
   "metadata": {
    "collapsed": false
   },
   "outputs": [],
   "source": []
  },
  {
   "cell_type": "code",
   "execution_count": null,
   "metadata": {
    "collapsed": true
   },
   "outputs": [],
   "source": []
  },
  {
   "cell_type": "code",
   "execution_count": null,
   "metadata": {
    "collapsed": true
   },
   "outputs": [],
   "source": []
  },
  {
   "cell_type": "code",
   "execution_count": null,
   "metadata": {
    "collapsed": true
   },
   "outputs": [],
   "source": []
  },
  {
   "cell_type": "code",
   "execution_count": null,
   "metadata": {
    "collapsed": true
   },
   "outputs": [],
   "source": []
  },
  {
   "cell_type": "code",
   "execution_count": null,
   "metadata": {
    "collapsed": true
   },
   "outputs": [],
   "source": []
  },
  {
   "cell_type": "code",
   "execution_count": null,
   "metadata": {
    "collapsed": true
   },
   "outputs": [],
   "source": []
  }
 ],
 "metadata": {
  "kernelspec": {
   "display_name": "Python 2",
   "language": "python",
   "name": "python2"
  },
  "language_info": {
   "codemirror_mode": {
    "name": "ipython",
    "version": 2
   },
   "file_extension": ".py",
   "mimetype": "text/x-python",
   "name": "python",
   "nbconvert_exporter": "python",
   "pygments_lexer": "ipython2",
   "version": "2.7.11"
  }
 },
 "nbformat": 4,
 "nbformat_minor": 0
}

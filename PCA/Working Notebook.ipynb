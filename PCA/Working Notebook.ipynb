{
 "cells": [
  {
   "cell_type": "markdown",
   "metadata": {},
   "source": [
    "# Import Statements"
   ]
  },
  {
   "cell_type": "code",
   "execution_count": 1,
   "metadata": {
    "collapsed": false
   },
   "outputs": [
    {
     "name": "stderr",
     "output_type": "stream",
     "text": [
      "/Users/AlecZ/Developer/lab_work/PCA/venv/lib/python2.7/site-packages/matplotlib/font_manager.py:273: UserWarning: Matplotlib is building the font cache using fc-list. This may take a moment.\n",
      "  warnings.warn('Matplotlib is building the font cache using fc-list. This may take a moment.')\n"
     ]
    },
    {
     "name": "stdout",
     "output_type": "stream",
     "text": [
      "Populating the interactive namespace from numpy and matplotlib\n"
     ]
    }
   ],
   "source": [
    "import numpy as np\n",
    "import math\n",
    "%pylab inline\n",
    "from matplotlib import pyplot as plt\n",
    "from mpl_toolkits.mplot3d import Axes3D\n",
    "from mpl_toolkits.mplot3d import proj3d\n",
    "from matplotlib import pyplot as plt\n",
    "from scipy.cluster.hierarchy import dendrogram, linkage\n",
    "import numpy as np"
   ]
  },
  {
   "cell_type": "markdown",
   "metadata": {},
   "source": [
    "# Create Data"
   ]
  },
  {
   "cell_type": "code",
   "execution_count": 2,
   "metadata": {
    "collapsed": true
   },
   "outputs": [],
   "source": [
    "np.random.seed(4294967295) # random seed for consistency"
   ]
  },
  {
   "cell_type": "markdown",
   "metadata": {},
   "source": [
    "# Cell 1 Data"
   ]
  },
  {
   "cell_type": "code",
   "execution_count": 3,
   "metadata": {
    "collapsed": false
   },
   "outputs": [
    {
     "data": {
      "image/png": "[encoded data removed]",
      "text/plain": [
       "<matplotlib.figure.Figure at 0x108659250>"
      ]
     },
     "metadata": {},
     "output_type": "display_data"
    }
   ],
   "source": [
    "#Set parameters\n",
    "mean_cell1 = [2, 2]\n",
    "cov = [[1, 0], [0, 1]]\n",
    "x1, y1 = np.random.multivariate_normal(mean_cell1, cov, 20).T\n",
    "plt.plot(x1, y1, 'o')\n",
    "plt.plot(2,2, '^')\n",
    "plt.axis('equal')\n",
    "plt.show()"
   ]
  },
  {
   "cell_type": "markdown",
   "metadata": {},
   "source": [
    "# Cell 2 Data"
   ]
  },
  {
   "cell_type": "code",
   "execution_count": 4,
   "metadata": {
    "collapsed": false
   },
   "outputs": [
    {
     "data": {
      "image/png": "[encoded data removed]",
      "text/plain": [
       "<matplotlib.figure.Figure at 0x108787110>"
      ]
     },
     "metadata": {},
     "output_type": "display_data"
    }
   ],
   "source": [
    "mean_cell2 = [-2, -2]\n",
    "cov = [[1, 0], [0, 1]]\n",
    "x2, y2 = np.random.multivariate_normal(mean_cell2, cov, 20).T\n",
    "plt.plot(x2, y2, 'o', color='red')\n",
    "plt.plot(-2,-2, '^', color='green')\n",
    "plt.axis('equal')\n",
    "plt.show()"
   ]
  },
  {
   "cell_type": "markdown",
   "metadata": {
    "collapsed": true
   },
   "source": [
    "# Both Cells Plots"
   ]
  },
  {
   "cell_type": "code",
   "execution_count": 5,
   "metadata": {
    "collapsed": false
   },
   "outputs": [
    {
     "data": {
      "image/png": "[encoded data removed]",
      "text/plain": [
       "<matplotlib.figure.Figure at 0x108787610>"
      ]
     },
     "metadata": {},
     "output_type": "display_data"
    }
   ],
   "source": [
    "plt.plot(x2, y2, 'o', color='red')\n",
    "plt.plot(-2,-2, '^', color='green')\n",
    "plt.axis('equal')\n",
    "plt.plot(x1, y1, 'o')\n",
    "plt.plot(2,2, '^')\n",
    "plt.show()"
   ]
  },
  {
   "cell_type": "markdown",
   "metadata": {
    "collapsed": true
   },
   "source": [
    "# Apply Drop Out"
   ]
  },
  {
   "cell_type": "code",
   "execution_count": 6,
   "metadata": {
    "collapsed": false
   },
   "outputs": [
    {
     "data": {
      "text/plain": [
       "[array([ 2.64840867,  0.91945628,  2.11388774,  1.95597398,  1.01176985,\n",
       "         1.97384186,  2.64437451,  2.42005442,  2.08608548,  3.05232244,\n",
       "         1.85361708,  1.90635979,  2.43132745,  3.40956779,  0.92007469,\n",
       "         1.97254783,  2.10243261,  1.42084063,  2.79774455,  2.92820363]),\n",
       " array([ 2.66932353,  2.28450104,  2.86762189,  2.24877162,  1.45407729,\n",
       "         3.00437642,  0.61462135,  3.43319167,  1.59869409,  2.03232405,\n",
       "         1.05383746,  3.33704142,  3.35522792,  0.66136697,  1.47913189,\n",
       "         1.07779786,  2.24923551,  0.72137668,  2.66657167,  0.87095746])]"
      ]
     },
     "execution_count": 6,
     "metadata": {},
     "output_type": "execute_result"
    }
   ],
   "source": [
    "x1_y1 = [x1, y1]\n",
    "x1_y1"
   ]
  },
  {
   "cell_type": "code",
   "execution_count": 7,
   "metadata": {
    "collapsed": false
   },
   "outputs": [
    {
     "data": {
      "text/plain": [
       "[array([-1.49223031, -2.47391497, -0.77270646, -3.35110557, -3.15968948,\n",
       "        -2.74155116,  0.03634112, -1.80130793, -4.12636604, -0.07097931,\n",
       "        -1.10393812, -2.73448472, -1.18149594, -1.52494621, -1.34211304,\n",
       "        -1.17810581, -1.98815547, -1.07283121, -1.45510498, -0.26842712]),\n",
       " array([-1.94476761, -1.58700752, -1.51522194, -4.01389028, -1.96964144,\n",
       "        -2.11300313, -2.81310207, -3.61758761, -2.69495935, -2.21350509,\n",
       "        -1.83712741, -2.07048343, -2.28408614, -2.78400306, -0.4260044 ,\n",
       "        -1.70621239, -1.42921295, -4.56589176, -3.05009087, -4.00096159])]"
      ]
     },
     "execution_count": 7,
     "metadata": {},
     "output_type": "execute_result"
    }
   ],
   "source": [
    "x2_y2 = [x2, y2]\n",
    "x2_y2"
   ]
  },
  {
   "cell_type": "code",
   "execution_count": 8,
   "metadata": {
    "collapsed": true
   },
   "outputs": [],
   "source": [
    "#parameters\n",
    "lmbda = -.5\n",
    "mu = 2\n",
    "p_0 = math.e**(lmbda * mu**2)\n",
    "\n",
    "def drop_out(p):\n",
    "    return np.random.binomial(1, p, 1)[0]\n",
    "\n",
    "def noise(p):\n",
    "    return np.random.normal(0, 0.2, 1)[0]"
   ]
  },
  {
   "cell_type": "code",
   "execution_count": 9,
   "metadata": {
    "collapsed": false
   },
   "outputs": [],
   "source": [
    "def apply_fuzz(points):\n",
    "    for index in range(len(points[0])):\n",
    "        points[0][index] += noise(0)\n",
    "        points[1][index] += noise(0)\n",
    "        if drop_out(p_0) == 1:\n",
    "            points[0][index] = 0\n",
    "            points[1][index] = 0\n",
    "    return points"
   ]
  },
  {
   "cell_type": "code",
   "execution_count": 10,
   "metadata": {
    "collapsed": false
   },
   "outputs": [
    {
     "data": {
      "text/plain": [
       "array([[ 2.47749398,  0.91924829,  2.01957969,  0.        ,  0.75672982,\n",
       "         2.16141217,  2.40020016,  2.38026849,  2.01645882,  3.04242442,\n",
       "         2.00662963,  1.47187547,  2.28858403,  3.55348612,  0.72195547,\n",
       "         1.72347264,  2.06293434,  1.31437635,  3.09112538,  0.        ],\n",
       "       [ 2.79343214,  2.24867069,  2.54033409,  0.        ,  1.58112968,\n",
       "         2.82345806,  0.3510922 ,  3.11348126,  1.37373469,  2.03841597,\n",
       "         0.89645635,  3.70313077,  3.29401601,  0.93068738,  1.426983  ,\n",
       "         1.28575828,  2.14951975,  0.60677867,  2.56719024,  0.        ]])"
      ]
     },
     "execution_count": 10,
     "metadata": {},
     "output_type": "execute_result"
    }
   ],
   "source": [
    "droppedx1_y1 = apply_fuzz(np.copy(x1_y1))\n",
    "droppedx1_y1"
   ]
  },
  {
   "cell_type": "code",
   "execution_count": 11,
   "metadata": {
    "collapsed": false
   },
   "outputs": [
    {
     "data": {
      "text/plain": [
       "array([[-1.55596689, -2.31088586, -0.87058743, -3.25333454, -3.38100561,\n",
       "         0.        ,  0.        , -1.77349483, -4.11905827, -0.09898561,\n",
       "        -1.06122896, -2.86535666, -1.37852253, -1.21944997,  0.        ,\n",
       "        -1.08617461, -1.91172503, -1.35918572, -1.22433056, -0.50956223],\n",
       "       [-1.98878067, -1.37260265, -1.41794158, -3.9924952 , -1.69664569,\n",
       "         0.        ,  0.        , -3.60196392, -2.64584623, -1.95065463,\n",
       "        -2.12908163, -2.30627651, -2.31625529, -2.70595582,  0.        ,\n",
       "        -1.81764781, -1.42640528, -4.53545952, -3.34452605, -4.28291157]])"
      ]
     },
     "execution_count": 11,
     "metadata": {},
     "output_type": "execute_result"
    }
   ],
   "source": [
    "droppedx2_y2 = apply_fuzz(np.copy(x2_y2))\n",
    "droppedx2_y2"
   ]
  },
  {
   "cell_type": "markdown",
   "metadata": {},
   "source": [
    "# Graphed Fuzzy Data"
   ]
  },
  {
   "cell_type": "code",
   "execution_count": 12,
   "metadata": {
    "collapsed": false
   },
   "outputs": [
    {
     "data": {
      "image/png": "[encoded data removed]",
      "text/plain": [
       "<matplotlib.figure.Figure at 0x1089e9dd0>"
      ]
     },
     "metadata": {},
     "output_type": "display_data"
    }
   ],
   "source": [
    "plt.plot(droppedx2_y2[0], droppedx2_y2[1], 'o', color='y')\n",
    "plt.plot(-2,-2, '^', color='green')\n",
    "plt.axis('equal')\n",
    "plt.plot(droppedx1_y1[0], droppedx1_y1[1], 'o', color = 'c')\n",
    "plt.plot(2,2, '^', color='g')\n",
    "plt.show()"
   ]
  },
  {
   "cell_type": "markdown",
   "metadata": {},
   "source": [
    "# Graph of Original vs. Dropped"
   ]
  },
  {
   "cell_type": "code",
   "execution_count": 13,
   "metadata": {
    "collapsed": false
   },
   "outputs": [
    {
     "data": {
      "image/png": "[encoded data removed]",
      "text/plain": [
       "<matplotlib.figure.Figure at 0x108855c10>"
      ]
     },
     "metadata": {},
     "output_type": "display_data"
    }
   ],
   "source": [
    "plt.plot(droppedx2_y2[0], droppedx2_y2[1], 'o', color='y')\n",
    "plt.plot(-2,-2, '^', color='green')\n",
    "plt.axis('equal')\n",
    "plt.plot(droppedx1_y1[0], droppedx1_y1[1], 'o', color='cyan')\n",
    "plt.plot(2,2, '^')\n",
    "plt.plot(x2, y2, 'o', color='red')\n",
    "plt.plot(-2,-2, '^', color='green')\n",
    "plt.axis('equal')\n",
    "plt.plot(x1, y1, 'o', color ='blue')\n",
    "plt.plot(2,2, '^')\n",
    "\n",
    "plt.show()"
   ]
  },
  {
   "cell_type": "markdown",
   "metadata": {},
   "source": [
    "# Combine Coordinates"
   ]
  },
  {
   "cell_type": "code",
   "execution_count": 14,
   "metadata": {
    "collapsed": false
   },
   "outputs": [
    {
     "data": {
      "text/plain": [
       "array([[ 2.47749398,  2.79343214],\n",
       "       [ 0.91924829,  2.24867069],\n",
       "       [ 2.01957969,  2.54033409],\n",
       "       [ 0.        ,  0.        ],\n",
       "       [ 0.75672982,  1.58112968],\n",
       "       [ 2.16141217,  2.82345806],\n",
       "       [ 2.40020016,  0.3510922 ],\n",
       "       [ 2.38026849,  3.11348126],\n",
       "       [ 2.01645882,  1.37373469],\n",
       "       [ 3.04242442,  2.03841597],\n",
       "       [ 2.00662963,  0.89645635],\n",
       "       [ 1.47187547,  3.70313077],\n",
       "       [ 2.28858403,  3.29401601],\n",
       "       [ 3.55348612,  0.93068738],\n",
       "       [ 0.72195547,  1.426983  ],\n",
       "       [ 1.72347264,  1.28575828],\n",
       "       [ 2.06293434,  2.14951975],\n",
       "       [ 1.31437635,  0.60677867],\n",
       "       [ 3.09112538,  2.56719024],\n",
       "       [ 0.        ,  0.        ],\n",
       "       [-1.55596689, -1.98878067],\n",
       "       [-2.31088586, -1.37260265],\n",
       "       [-0.87058743, -1.41794158],\n",
       "       [-3.25333454, -3.9924952 ],\n",
       "       [-3.38100561, -1.69664569],\n",
       "       [ 0.        ,  0.        ],\n",
       "       [ 0.        ,  0.        ],\n",
       "       [-1.77349483, -3.60196392],\n",
       "       [-4.11905827, -2.64584623],\n",
       "       [-0.09898561, -1.95065463],\n",
       "       [-1.06122896, -2.12908163],\n",
       "       [-2.86535666, -2.30627651],\n",
       "       [-1.37852253, -2.31625529],\n",
       "       [-1.21944997, -2.70595582],\n",
       "       [ 0.        ,  0.        ],\n",
       "       [-1.08617461, -1.81764781],\n",
       "       [-1.91172503, -1.42640528],\n",
       "       [-1.35918572, -4.53545952],\n",
       "       [-1.22433056, -3.34452605],\n",
       "       [-0.50956223, -4.28291157]])"
      ]
     },
     "execution_count": 14,
     "metadata": {},
     "output_type": "execute_result"
    }
   ],
   "source": [
    "matrix = np.concatenate((droppedx1_y1.T, droppedx2_y2.T),)\n",
    "matrix"
   ]
  },
  {
   "cell_type": "code",
   "execution_count": 15,
   "metadata": {
    "collapsed": false
   },
   "outputs": [
    {
     "data": {
      "text/plain": [
       "(40, 2)"
      ]
     },
     "execution_count": 15,
     "metadata": {},
     "output_type": "execute_result"
    }
   ],
   "source": [
    "matrix.shape"
   ]
  },
  {
   "cell_type": "markdown",
   "metadata": {},
   "source": [
    "# Recovery Time Boys"
   ]
  },
  {
   "cell_type": "code",
   "execution_count": 20,
   "metadata": {
    "collapsed": false
   },
   "outputs": [],
   "source": [
    "# elbow method"
   ]
  },
  {
   "cell_type": "code",
   "execution_count": 21,
   "metadata": {
    "collapsed": false
   },
   "outputs": [
    {
     "data": {
      "text/plain": [
       "array([[ 2.47749398,  2.79343214],\n",
       "       [ 0.91924829,  2.24867069],\n",
       "       [ 2.01957969,  2.54033409],\n",
       "       [ 0.        ,  0.        ],\n",
       "       [ 0.75672982,  1.58112968],\n",
       "       [ 2.16141217,  2.82345806],\n",
       "       [ 2.40020016,  0.3510922 ],\n",
       "       [ 2.38026849,  3.11348126],\n",
       "       [ 2.01645882,  1.37373469],\n",
       "       [ 3.04242442,  2.03841597],\n",
       "       [ 2.00662963,  0.89645635],\n",
       "       [ 1.47187547,  3.70313077],\n",
       "       [ 2.28858403,  3.29401601],\n",
       "       [ 3.55348612,  0.93068738],\n",
       "       [ 0.72195547,  1.426983  ],\n",
       "       [ 1.72347264,  1.28575828],\n",
       "       [ 2.06293434,  2.14951975],\n",
       "       [ 1.31437635,  0.60677867],\n",
       "       [ 3.09112538,  2.56719024],\n",
       "       [ 0.        ,  0.        ],\n",
       "       [-1.55596689, -1.98878067],\n",
       "       [-2.31088586, -1.37260265],\n",
       "       [-0.87058743, -1.41794158],\n",
       "       [-3.25333454, -3.9924952 ],\n",
       "       [-3.38100561, -1.69664569],\n",
       "       [ 0.        ,  0.        ],\n",
       "       [ 0.        ,  0.        ],\n",
       "       [-1.77349483, -3.60196392],\n",
       "       [-4.11905827, -2.64584623],\n",
       "       [-0.09898561, -1.95065463],\n",
       "       [-1.06122896, -2.12908163],\n",
       "       [-2.86535666, -2.30627651],\n",
       "       [-1.37852253, -2.31625529],\n",
       "       [-1.21944997, -2.70595582],\n",
       "       [ 0.        ,  0.        ],\n",
       "       [-1.08617461, -1.81764781],\n",
       "       [-1.91172503, -1.42640528],\n",
       "       [-1.35918572, -4.53545952],\n",
       "       [-1.22433056, -3.34452605],\n",
       "       [-0.50956223, -4.28291157]])"
      ]
     },
     "execution_count": 21,
     "metadata": {},
     "output_type": "execute_result"
    }
   ],
   "source": [
    "matrix"
   ]
  },
  {
   "cell_type": "code",
   "execution_count": 24,
   "metadata": {
    "collapsed": false
   },
   "outputs": [
    {
     "data": {
      "image/png": "[encoded data removed]",
      "text/plain": [
       "<matplotlib.figure.Figure at 0x108b8afd0>"
      ]
     },
     "metadata": {},
     "output_type": "display_data"
    },
    {
     "data": {
      "image/png": "[encoded data removed]",
      "text/plain": [
       "<matplotlib.figure.Figure at 0x108958290>"
      ]
     },
     "metadata": {},
     "output_type": "display_data"
    }
   ],
   "source": [
    "from scipy.cluster.vq import kmeans,vq\n",
    "from scipy.spatial.distance import cdist\n",
    "\n",
    "X = matrix\n",
    "\n",
    "##### cluster data into K=1..10 clusters #####\n",
    "K = range(1,10)\n",
    "\n",
    "# scipy.cluster.vq.kmeans\n",
    "KM = [kmeans(X,k) for k in K]\n",
    "centroids = [cent for (cent,var) in KM]   # cluster centroids\n",
    "#avgWithinSS = [var for (cent,var) in KM] # mean within-cluster sum of squares\n",
    "\n",
    "# alternative: scipy.cluster.vq.vq\n",
    "#Z = [vq(X,cent) for cent in centroids]\n",
    "#avgWithinSS = [sum(dist)/X.shape[0] for (cIdx,dist) in Z]\n",
    "\n",
    "# alternative: scipy.spatial.distance.cdist\n",
    "D_k = [cdist(X, cent, 'euclidean') for cent in centroids]\n",
    "cIdx = [np.argmin(D,axis=1) for D in D_k]\n",
    "dist = [np.min(D,axis=1) for D in D_k]\n",
    "avgWithinSS = [sum(d)/X.shape[0] for d in dist]\n",
    "\n",
    "##### plot ###\n",
    "kIdx = 2\n",
    "\n",
    "# elbow curve\n",
    "fig = plt.figure()\n",
    "ax = fig.add_subplot(111)\n",
    "ax.plot(K, avgWithinSS, 'b*-')\n",
    "ax.plot(K[kIdx], avgWithinSS[kIdx], marker='o', markersize=12, \n",
    "    markeredgewidth=2, markeredgecolor='r', markerfacecolor='None')\n",
    "plt.grid(True)\n",
    "plt.xlabel('Number of clusters')\n",
    "plt.ylabel('Average within-cluster sum of squares')\n",
    "plt.title('Elbow for KMeans clustering')\n",
    "\n",
    "# scatter plot\n",
    "fig = plt.figure()\n",
    "ax = fig.add_subplot(111)\n",
    "#ax.scatter(X[:,2],X[:,1], s=30, c=cIdx[k])\n",
    "clr = ['b','g','r','c','m','y','k']\n",
    "for i in range(K[kIdx]):\n",
    "    ind = (cIdx[kIdx]==i)\n",
    "    ax.scatter(X[ind,0],X[ind,1], s=30, c=clr[i], label='Cluster %d'%i)\n",
    "plt.xlabel('Petal Length')\n",
    "plt.ylabel('Sepal Width')\n",
    "plt.title('Iris Dataset, KMeans clustering with K=%d' % K[kIdx])\n",
    "plt.legend()\n",
    "\n",
    "plt.show()"
   ]
  },
  {
   "cell_type": "code",
   "execution_count": null,
   "metadata": {
    "collapsed": true
   },
   "outputs": [],
   "source": []
  },
  {
   "cell_type": "code",
   "execution_count": null,
   "metadata": {
    "collapsed": true
   },
   "outputs": [],
   "source": []
  },
  {
   "cell_type": "code",
   "execution_count": null,
   "metadata": {
    "collapsed": true
   },
   "outputs": [],
   "source": []
  },
  {
   "cell_type": "code",
   "execution_count": null,
   "metadata": {
    "collapsed": true
   },
   "outputs": [],
   "source": []
  },
  {
   "cell_type": "code",
   "execution_count": null,
   "metadata": {
    "collapsed": true
   },
   "outputs": [],
   "source": []
  },
  {
   "cell_type": "code",
   "execution_count": null,
   "metadata": {
    "collapsed": true
   },
   "outputs": [],
   "source": []
  }
 ],
 "metadata": {
  "kernelspec": {
   "display_name": "Python 2",
   "language": "python",
   "name": "python2"
  },
  "language_info": {
   "codemirror_mode": {
    "name": "ipython",
    "version": 2
   },
   "file_extension": ".py",
   "mimetype": "text/x-python",
   "name": "python",
   "nbconvert_exporter": "python",
   "pygments_lexer": "ipython2",
   "version": "2.7.10"
  }
 },
 "nbformat": 4,
 "nbformat_minor": 0
}

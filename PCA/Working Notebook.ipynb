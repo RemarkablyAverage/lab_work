{
 "cells": [
  {
   "cell_type": "markdown",
   "metadata": {},
   "source": [
    "# Import Statements"
   ]
  },
  {
   "cell_type": "code",
   "execution_count": 1,
   "metadata": {
    "collapsed": false
   },
   "outputs": [
    {
     "name": "stdout",
     "output_type": "stream",
     "text": [
      "Populating the interactive namespace from numpy and matplotlib\n"
     ]
    }
   ],
   "source": [
    "import numpy as np\n",
    "import math\n",
    "%pylab inline\n",
    "from matplotlib import pyplot as plt\n",
    "from mpl_toolkits.mplot3d import Axes3D\n",
    "from mpl_toolkits.mplot3d import proj3d\n",
    "from matplotlib import pyplot as plt\n",
    "from scipy.cluster.hierarchy import dendrogram, linkage\n",
    "import numpy as np\n",
    "from scipy.cluster.vq import kmeans,vq\n",
    "from scipy.spatial.distance import cdist"
   ]
  },
  {
   "cell_type": "markdown",
   "metadata": {},
   "source": [
    "# Create Data"
   ]
  },
  {
   "cell_type": "code",
   "execution_count": 2,
   "metadata": {
    "collapsed": true
   },
   "outputs": [],
   "source": [
    "np.random.seed(4294967295) # random seed for consistency"
   ]
  },
  {
   "cell_type": "markdown",
   "metadata": {},
   "source": [
    "# Cell 1 Data"
   ]
  },
  {
   "cell_type": "code",
   "execution_count": 3,
   "metadata": {
    "collapsed": false
   },
   "outputs": [
    {
     "data": {
      "image/png": "[encoded data removed]",
      "text/plain": [
       "<matplotlib.figure.Figure at 0x10e8caf10>"
      ]
     },
     "metadata": {},
     "output_type": "display_data"
    }
   ],
   "source": [
    "#Set parameters\n",
    "mean_cell1 = [2, 2]\n",
    "cov = [[1, 0], [0, 1]]\n",
    "x1, y1 = np.random.multivariate_normal(mean_cell1, cov, 20).T\n",
    "plt.plot(x1, y1, 'o')\n",
    "plt.plot(2,2, '^')\n",
    "plt.axis('equal')\n",
    "plt.show()"
   ]
  },
  {
   "cell_type": "markdown",
   "metadata": {},
   "source": [
    "# Cell 2 Data"
   ]
  },
  {
   "cell_type": "code",
   "execution_count": 4,
   "metadata": {
    "collapsed": false
   },
   "outputs": [
    {
     "data": {
      "image/png": "[encoded data removed]",
      "text/plain": [
       "<matplotlib.figure.Figure at 0x10e933950>"
      ]
     },
     "metadata": {},
     "output_type": "display_data"
    }
   ],
   "source": [
    "mean_cell2 = [-2, -2]\n",
    "cov = [[1, 0], [0, 1]]\n",
    "x2, y2 = np.random.multivariate_normal(mean_cell2, cov, 20).T\n",
    "plt.plot(x2, y2, 'o', color='red')\n",
    "plt.plot(-2,-2, '^', color='green')\n",
    "plt.axis('equal')\n",
    "plt.show()"
   ]
  },
  {
   "cell_type": "markdown",
   "metadata": {
    "collapsed": true
   },
   "source": [
    "# Both Cells Plots"
   ]
  },
  {
   "cell_type": "code",
   "execution_count": 5,
   "metadata": {
    "collapsed": false
   },
   "outputs": [
    {
     "data": {
      "image/png": "[encoded data removed]",
      "text/plain": [
       "<matplotlib.figure.Figure at 0x10eaa12d0>"
      ]
     },
     "metadata": {},
     "output_type": "display_data"
    }
   ],
   "source": [
    "plt.plot(x2, y2, 'o', color='red')\n",
    "plt.plot(-2,-2, '^', color='green')\n",
    "plt.axis('equal')\n",
    "plt.plot(x1, y1, 'o')\n",
    "plt.plot(2,2, '^')\n",
    "plt.show()"
   ]
  },
  {
   "cell_type": "markdown",
   "metadata": {
    "collapsed": true
   },
   "source": [
    "# Apply Drop Out"
   ]
  },
  {
   "cell_type": "code",
   "execution_count": 6,
   "metadata": {
    "collapsed": false
   },
   "outputs": [
    {
     "data": {
      "text/plain": [
       "[array([ 2.64840867,  0.91945628,  2.11388774,  1.95597398,  1.01176985,\n",
       "         1.97384186,  2.64437451,  2.42005442,  2.08608548,  3.05232244,\n",
       "         1.85361708,  1.90635979,  2.43132745,  3.40956779,  0.92007469,\n",
       "         1.97254783,  2.10243261,  1.42084063,  2.79774455,  2.92820363]),\n",
       " array([ 2.66932353,  2.28450104,  2.86762189,  2.24877162,  1.45407729,\n",
       "         3.00437642,  0.61462135,  3.43319167,  1.59869409,  2.03232405,\n",
       "         1.05383746,  3.33704142,  3.35522792,  0.66136697,  1.47913189,\n",
       "         1.07779786,  2.24923551,  0.72137668,  2.66657167,  0.87095746])]"
      ]
     },
     "execution_count": 6,
     "metadata": {},
     "output_type": "execute_result"
    }
   ],
   "source": [
    "x1_y1 = [x1, y1]\n",
    "x1_y1"
   ]
  },
  {
   "cell_type": "code",
   "execution_count": 7,
   "metadata": {
    "collapsed": false
   },
   "outputs": [
    {
     "data": {
      "text/plain": [
       "[array([-1.49223031, -2.47391497, -0.77270646, -3.35110557, -3.15968948,\n",
       "        -2.74155116,  0.03634112, -1.80130793, -4.12636604, -0.07097931,\n",
       "        -1.10393812, -2.73448472, -1.18149594, -1.52494621, -1.34211304,\n",
       "        -1.17810581, -1.98815547, -1.07283121, -1.45510498, -0.26842712]),\n",
       " array([-1.94476761, -1.58700752, -1.51522194, -4.01389028, -1.96964144,\n",
       "        -2.11300313, -2.81310207, -3.61758761, -2.69495935, -2.21350509,\n",
       "        -1.83712741, -2.07048343, -2.28408614, -2.78400306, -0.4260044 ,\n",
       "        -1.70621239, -1.42921295, -4.56589176, -3.05009087, -4.00096159])]"
      ]
     },
     "execution_count": 7,
     "metadata": {},
     "output_type": "execute_result"
    }
   ],
   "source": [
    "x2_y2 = [x2, y2]\n",
    "x2_y2"
   ]
  },
  {
   "cell_type": "code",
   "execution_count": 8,
   "metadata": {
    "collapsed": true
   },
   "outputs": [],
   "source": [
    "#parameters\n",
    "lmbda = -.5\n",
    "mu = 2\n",
    "p_0 = math.e**(lmbda * mu**2)\n",
    "\n",
    "def drop_out(p):\n",
    "    return np.random.binomial(1, p, 1)[0]\n",
    "\n",
    "def noise(p):\n",
    "    return np.random.normal(0, 0.2, 1)[0]"
   ]
  },
  {
   "cell_type": "code",
   "execution_count": 9,
   "metadata": {
    "collapsed": false
   },
   "outputs": [],
   "source": [
    "def apply_fuzz(points):\n",
    "    for index in range(len(points[0])):\n",
    "        points[0][index] += noise(0)\n",
    "        points[1][index] += noise(0)\n",
    "        if drop_out(p_0) == 1:\n",
    "            points[0][index] = 0\n",
    "            points[1][index] = 0\n",
    "    return points"
   ]
  },
  {
   "cell_type": "code",
   "execution_count": 10,
   "metadata": {
    "collapsed": false
   },
   "outputs": [
    {
     "data": {
      "text/plain": [
       "array([[ 2.47749398,  0.91924829,  2.01957969,  0.        ,  0.75672982,\n",
       "         2.16141217,  2.40020016,  2.38026849,  2.01645882,  3.04242442,\n",
       "         2.00662963,  1.47187547,  2.28858403,  3.55348612,  0.72195547,\n",
       "         1.72347264,  2.06293434,  1.31437635,  3.09112538,  0.        ],\n",
       "       [ 2.79343214,  2.24867069,  2.54033409,  0.        ,  1.58112968,\n",
       "         2.82345806,  0.3510922 ,  3.11348126,  1.37373469,  2.03841597,\n",
       "         0.89645635,  3.70313077,  3.29401601,  0.93068738,  1.426983  ,\n",
       "         1.28575828,  2.14951975,  0.60677867,  2.56719024,  0.        ]])"
      ]
     },
     "execution_count": 10,
     "metadata": {},
     "output_type": "execute_result"
    }
   ],
   "source": [
    "droppedx1_y1 = apply_fuzz(np.copy(x1_y1))\n",
    "droppedx1_y1"
   ]
  },
  {
   "cell_type": "code",
   "execution_count": 11,
   "metadata": {
    "collapsed": false
   },
   "outputs": [
    {
     "data": {
      "text/plain": [
       "array([[-1.55596689, -2.31088586, -0.87058743, -3.25333454, -3.38100561,\n",
       "         0.        ,  0.        , -1.77349483, -4.11905827, -0.09898561,\n",
       "        -1.06122896, -2.86535666, -1.37852253, -1.21944997,  0.        ,\n",
       "        -1.08617461, -1.91172503, -1.35918572, -1.22433056, -0.50956223],\n",
       "       [-1.98878067, -1.37260265, -1.41794158, -3.9924952 , -1.69664569,\n",
       "         0.        ,  0.        , -3.60196392, -2.64584623, -1.95065463,\n",
       "        -2.12908163, -2.30627651, -2.31625529, -2.70595582,  0.        ,\n",
       "        -1.81764781, -1.42640528, -4.53545952, -3.34452605, -4.28291157]])"
      ]
     },
     "execution_count": 11,
     "metadata": {},
     "output_type": "execute_result"
    }
   ],
   "source": [
    "droppedx2_y2 = apply_fuzz(np.copy(x2_y2))\n",
    "droppedx2_y2"
   ]
  },
  {
   "cell_type": "markdown",
   "metadata": {},
   "source": [
    "# Graphed Fuzzy Data"
   ]
  },
  {
   "cell_type": "code",
   "execution_count": 12,
   "metadata": {
    "collapsed": false
   },
   "outputs": [
    {
     "data": {
      "image/png": "[encoded data removed]",
      "text/plain": [
       "<matplotlib.figure.Figure at 0x10eaab1d0>"
      ]
     },
     "metadata": {},
     "output_type": "display_data"
    }
   ],
   "source": [
    "plt.plot(droppedx2_y2[0], droppedx2_y2[1], 'o', color='y')\n",
    "plt.plot(-2,-2, '^', color='green')\n",
    "plt.axis('equal')\n",
    "plt.plot(droppedx1_y1[0], droppedx1_y1[1], 'o', color = 'c')\n",
    "plt.plot(2,2, '^', color='g')\n",
    "plt.show()"
   ]
  },
  {
   "cell_type": "markdown",
   "metadata": {},
   "source": [
    "# Graph of Original vs. Dropped"
   ]
  },
  {
   "cell_type": "code",
   "execution_count": 13,
   "metadata": {
    "collapsed": false
   },
   "outputs": [
    {
     "data": {
      "image/png": "[encoded data removed]",
      "text/plain": [
       "<matplotlib.figure.Figure at 0x10ecb2290>"
      ]
     },
     "metadata": {},
     "output_type": "display_data"
    }
   ],
   "source": [
    "plt.plot(droppedx2_y2[0], droppedx2_y2[1], 'o', color='y')\n",
    "plt.plot(-2,-2, '^', color='green')\n",
    "plt.axis('equal')\n",
    "plt.plot(droppedx1_y1[0], droppedx1_y1[1], 'o', color='cyan')\n",
    "plt.plot(2,2, '^')\n",
    "plt.plot(x2, y2, 'o', color='red')\n",
    "plt.plot(-2,-2, '^', color='green')\n",
    "plt.axis('equal')\n",
    "plt.plot(x1, y1, 'o', color ='blue')\n",
    "plt.plot(2,2, '^')\n",
    "\n",
    "plt.show()"
   ]
  },
  {
   "cell_type": "markdown",
   "metadata": {},
   "source": [
    "# Combine Coordinates"
   ]
  },
  {
   "cell_type": "code",
   "execution_count": 14,
   "metadata": {
    "collapsed": false
   },
   "outputs": [
    {
     "data": {
      "text/plain": [
       "array([[ 2.47749398,  2.79343214],\n",
       "       [ 0.91924829,  2.24867069],\n",
       "       [ 2.01957969,  2.54033409],\n",
       "       [ 0.        ,  0.        ],\n",
       "       [ 0.75672982,  1.58112968],\n",
       "       [ 2.16141217,  2.82345806],\n",
       "       [ 2.40020016,  0.3510922 ],\n",
       "       [ 2.38026849,  3.11348126],\n",
       "       [ 2.01645882,  1.37373469],\n",
       "       [ 3.04242442,  2.03841597],\n",
       "       [ 2.00662963,  0.89645635],\n",
       "       [ 1.47187547,  3.70313077],\n",
       "       [ 2.28858403,  3.29401601],\n",
       "       [ 3.55348612,  0.93068738],\n",
       "       [ 0.72195547,  1.426983  ],\n",
       "       [ 1.72347264,  1.28575828],\n",
       "       [ 2.06293434,  2.14951975],\n",
       "       [ 1.31437635,  0.60677867],\n",
       "       [ 3.09112538,  2.56719024],\n",
       "       [ 0.        ,  0.        ],\n",
       "       [-1.55596689, -1.98878067],\n",
       "       [-2.31088586, -1.37260265],\n",
       "       [-0.87058743, -1.41794158],\n",
       "       [-3.25333454, -3.9924952 ],\n",
       "       [-3.38100561, -1.69664569],\n",
       "       [ 0.        ,  0.        ],\n",
       "       [ 0.        ,  0.        ],\n",
       "       [-1.77349483, -3.60196392],\n",
       "       [-4.11905827, -2.64584623],\n",
       "       [-0.09898561, -1.95065463],\n",
       "       [-1.06122896, -2.12908163],\n",
       "       [-2.86535666, -2.30627651],\n",
       "       [-1.37852253, -2.31625529],\n",
       "       [-1.21944997, -2.70595582],\n",
       "       [ 0.        ,  0.        ],\n",
       "       [-1.08617461, -1.81764781],\n",
       "       [-1.91172503, -1.42640528],\n",
       "       [-1.35918572, -4.53545952],\n",
       "       [-1.22433056, -3.34452605],\n",
       "       [-0.50956223, -4.28291157]])"
      ]
     },
     "execution_count": 14,
     "metadata": {},
     "output_type": "execute_result"
    }
   ],
   "source": [
    "matrix = np.concatenate((droppedx1_y1.T, droppedx2_y2.T),)\n",
    "matrix"
   ]
  },
  {
   "cell_type": "code",
   "execution_count": 15,
   "metadata": {
    "collapsed": false
   },
   "outputs": [
    {
     "data": {
      "text/plain": [
       "(40, 2)"
      ]
     },
     "execution_count": 15,
     "metadata": {},
     "output_type": "execute_result"
    }
   ],
   "source": [
    "matrix.shape"
   ]
  },
  {
   "cell_type": "code",
   "execution_count": 16,
   "metadata": {
    "collapsed": false
   },
   "outputs": [
    {
     "data": {
      "text/plain": [
       "array([[ 2.47749398,  2.79343214],\n",
       "       [ 0.91924829,  2.24867069],\n",
       "       [ 2.01957969,  2.54033409],\n",
       "       [ 0.        ,  0.        ],\n",
       "       [ 0.75672982,  1.58112968],\n",
       "       [ 2.16141217,  2.82345806],\n",
       "       [ 2.40020016,  0.3510922 ],\n",
       "       [ 2.38026849,  3.11348126],\n",
       "       [ 2.01645882,  1.37373469],\n",
       "       [ 3.04242442,  2.03841597],\n",
       "       [ 2.00662963,  0.89645635],\n",
       "       [ 1.47187547,  3.70313077],\n",
       "       [ 2.28858403,  3.29401601],\n",
       "       [ 3.55348612,  0.93068738],\n",
       "       [ 0.72195547,  1.426983  ],\n",
       "       [ 1.72347264,  1.28575828],\n",
       "       [ 2.06293434,  2.14951975],\n",
       "       [ 1.31437635,  0.60677867],\n",
       "       [ 3.09112538,  2.56719024],\n",
       "       [ 0.        ,  0.        ],\n",
       "       [-1.55596689, -1.98878067],\n",
       "       [-2.31088586, -1.37260265],\n",
       "       [-0.87058743, -1.41794158],\n",
       "       [-3.25333454, -3.9924952 ],\n",
       "       [-3.38100561, -1.69664569],\n",
       "       [ 0.        ,  0.        ],\n",
       "       [ 0.        ,  0.        ],\n",
       "       [-1.77349483, -3.60196392],\n",
       "       [-4.11905827, -2.64584623],\n",
       "       [-0.09898561, -1.95065463],\n",
       "       [-1.06122896, -2.12908163],\n",
       "       [-2.86535666, -2.30627651],\n",
       "       [-1.37852253, -2.31625529],\n",
       "       [-1.21944997, -2.70595582],\n",
       "       [ 0.        ,  0.        ],\n",
       "       [-1.08617461, -1.81764781],\n",
       "       [-1.91172503, -1.42640528],\n",
       "       [-1.35918572, -4.53545952],\n",
       "       [-1.22433056, -3.34452605],\n",
       "       [-0.50956223, -4.28291157]])"
      ]
     },
     "execution_count": 16,
     "metadata": {},
     "output_type": "execute_result"
    }
   ],
   "source": [
    "matrix"
   ]
  },
  {
   "cell_type": "code",
   "execution_count": 17,
   "metadata": {
    "collapsed": false
   },
   "outputs": [
    {
     "data": {
      "text/plain": [
       "[[2.4774939790165207, 2.7934321446221393],\n",
       " [0.91924829049278856, 2.2486706868088575],\n",
       " [2.0195796873992107, 2.5403340882379108],\n",
       " [0.0, 0.0],\n",
       " [0.75672981587997468, 1.5811296753347996],\n",
       " [2.1614121743991976, 2.8234580565037795],\n",
       " [2.4002001632796399, 0.35109220335250535],\n",
       " [2.3802684870058837, 3.1134812624397288],\n",
       " [2.0164588202724003, 1.3737346946458275],\n",
       " [3.0424244194148002, 2.0384159669998141],\n",
       " [2.0066296310775655, 0.89645635404122004],\n",
       " [1.4718754651567241, 3.7031307679974432],\n",
       " [2.2885840316934889, 3.2940160092692707],\n",
       " [3.5534861210059052, 0.93068738282882091],\n",
       " [0.72195547164638629, 1.4269829981788749],\n",
       " [1.7234726370269213, 1.285758281050271],\n",
       " [2.0629343446924122, 2.1495197471008005],\n",
       " [1.3143763455493502, 0.60677867388093287],\n",
       " [3.0911253768593072, 2.5671902356459784],\n",
       " [0.0, 0.0],\n",
       " [-1.5559668949823919, -1.9887806701357185],\n",
       " [-2.3108858573240463, -1.3726026474266002],\n",
       " [-0.87058743413426765, -1.4179415787432816],\n",
       " [-3.2533345366339486, -3.992495204857156],\n",
       " [-3.3810056099326666, -1.6966456923073023],\n",
       " [0.0, 0.0],\n",
       " [0.0, 0.0],\n",
       " [-1.7734948325156559, -3.6019639200492111],\n",
       " [-4.1190582702673231, -2.6458462274877732],\n",
       " [-0.098985609665810603, -1.9506546328257173],\n",
       " [-1.0612289648632596, -2.1290816323681474],\n",
       " [-2.8653566556775973, -2.3062765063912942],\n",
       " [-1.3785225274158475, -2.3162552902579363],\n",
       " [-1.2194499738075824, -2.7059558222255085],\n",
       " [0.0, 0.0],\n",
       " [-1.0861746110039419, -1.8176478053186218],\n",
       " [-1.9117250348169113, -1.4264052827943725],\n",
       " [-1.3591857205640081, -4.5354595178398744],\n",
       " [-1.224330563947271, -3.3445260522899991],\n",
       " [-0.50956223302770631, -4.2829115675522758]]"
      ]
     },
     "execution_count": 17,
     "metadata": {},
     "output_type": "execute_result"
    }
   ],
   "source": [
    "[list(m) for m in matrix]"
   ]
  },
  {
   "cell_type": "markdown",
   "metadata": {},
   "source": [
    "# Recovery Time Boys"
   ]
  },
  {
   "cell_type": "code",
   "execution_count": 18,
   "metadata": {
    "collapsed": false
   },
   "outputs": [],
   "source": [
    "# kmeans with iterative derivative shit"
   ]
  },
  {
   "cell_type": "code",
   "execution_count": 19,
   "metadata": {
    "collapsed": false
   },
   "outputs": [],
   "source": [
    "def clear_drop_out(matrix):\n",
    "    list_matrix = [list(m) for m in matrix]\n",
    "    ret_matrix = []\n",
    "    for index in range(len(list_matrix)):\n",
    "        if list_matrix[index][0] == 0 and list_matrix[index][1] == 0:\n",
    "            continue\n",
    "        ret_matrix.append(list_matrix[index])\n",
    "    return np.array(ret_matrix)"
   ]
  },
  {
   "cell_type": "code",
   "execution_count": 20,
   "metadata": {
    "collapsed": false
   },
   "outputs": [
    {
     "data": {
      "text/plain": [
       "array([[ 2.47749398,  2.79343214],\n",
       "       [ 0.91924829,  2.24867069],\n",
       "       [ 2.01957969,  2.54033409],\n",
       "       [ 0.75672982,  1.58112968],\n",
       "       [ 2.16141217,  2.82345806],\n",
       "       [ 2.40020016,  0.3510922 ],\n",
       "       [ 2.38026849,  3.11348126],\n",
       "       [ 2.01645882,  1.37373469],\n",
       "       [ 3.04242442,  2.03841597],\n",
       "       [ 2.00662963,  0.89645635],\n",
       "       [ 1.47187547,  3.70313077],\n",
       "       [ 2.28858403,  3.29401601],\n",
       "       [ 3.55348612,  0.93068738],\n",
       "       [ 0.72195547,  1.426983  ],\n",
       "       [ 1.72347264,  1.28575828],\n",
       "       [ 2.06293434,  2.14951975],\n",
       "       [ 1.31437635,  0.60677867],\n",
       "       [ 3.09112538,  2.56719024],\n",
       "       [-1.55596689, -1.98878067],\n",
       "       [-2.31088586, -1.37260265],\n",
       "       [-0.87058743, -1.41794158],\n",
       "       [-3.25333454, -3.9924952 ],\n",
       "       [-3.38100561, -1.69664569],\n",
       "       [-1.77349483, -3.60196392],\n",
       "       [-4.11905827, -2.64584623],\n",
       "       [-0.09898561, -1.95065463],\n",
       "       [-1.06122896, -2.12908163],\n",
       "       [-2.86535666, -2.30627651],\n",
       "       [-1.37852253, -2.31625529],\n",
       "       [-1.21944997, -2.70595582],\n",
       "       [-1.08617461, -1.81764781],\n",
       "       [-1.91172503, -1.42640528],\n",
       "       [-1.35918572, -4.53545952],\n",
       "       [-1.22433056, -3.34452605],\n",
       "       [-0.50956223, -4.28291157]])"
      ]
     },
     "execution_count": 20,
     "metadata": {},
     "output_type": "execute_result"
    }
   ],
   "source": [
    "matrix = clear_drop_out(np.copy(matrix))\n",
    "matrix"
   ]
  },
  {
   "cell_type": "code",
   "execution_count": 92,
   "metadata": {
    "collapsed": false
   },
   "outputs": [
    {
     "data": {
      "text/plain": [
       "[3.0924448299258893,\n",
       " 1.2327959309241372,\n",
       " 1.0252004720098888,\n",
       " 0.86560504495414214,\n",
       " 0.72412094224019852,\n",
       " 0.64435819920331039,\n",
       " 0.59282187600060909,\n",
       " 0.56792570354304561,\n",
       " 0.53870230816299991]"
      ]
     },
     "execution_count": 92,
     "metadata": {},
     "output_type": "execute_result"
    }
   ],
   "source": [
    "def find_avgWithinSS(matrix, maxclusters=10):\n",
    "    K = range(1, maxclusters)\n",
    "    KM = [kmeans(matrix,k) for k in K]\n",
    "    centroids = [cent for (cent,var) in KM]   \n",
    "    D_k = [cdist(matrix, cent, 'euclidean') for cent in centroids]\n",
    "    cIdx = [np.argmin(D,axis=1) for D in D_k]\n",
    "    dist = [np.min(D,axis=1) for D in D_k]\n",
    "    avgWithinSS = [sum(d)/matrix.shape[0] for d in dist]\n",
    "    return avgWithinSS\n",
    "\n",
    "test = find_avgWithinSS(np.copy(matrix))\n",
    "test"
   ]
  },
  {
   "cell_type": "code",
   "execution_count": 75,
   "metadata": {
    "collapsed": false
   },
   "outputs": [],
   "source": [
    "def findK(points, num_derivatives=3):\n",
    "    for x in range(0,num_derivatives):\n",
    "        points = np.diff(points)\n",
    "    ret = list(points)\n",
    "    return ret.index(max(ret))"
   ]
  },
  {
   "cell_type": "markdown",
   "metadata": {},
   "source": [
    "# Find Centroid (naive, no noise filtering)"
   ]
  },
  {
   "cell_type": "code",
   "execution_count": 76,
   "metadata": {
    "collapsed": false
   },
   "outputs": [],
   "source": [
    "def find_centroid(matrix):\n",
    "    K = findK(find_avgWithinSS(matrix))\n",
    "    KM = [kmeans(matrix, K)]\n",
    "    centroids = [cent for (cent,var) in KM]\n",
    "    return centroids"
   ]
  },
  {
   "cell_type": "code",
   "execution_count": 77,
   "metadata": {
    "collapsed": false
   },
   "outputs": [
    {
     "name": "stdout",
     "output_type": "stream",
     "text": [
      "[array([[ 2.33285533,  2.78033092],\n",
      "       [ 1.71250637,  1.18903233],\n",
      "       [-1.76346208, -2.56067353]])]\n"
     ]
    }
   ],
   "source": [
    "find_centroid(matrix)"
   ]
  },
  {
   "cell_type": "code",
   "execution_count": 81,
   "metadata": {
    "collapsed": false
   },
   "outputs": [
    {
     "name": "stdout",
     "output_type": "stream",
     "text": [
      "[3.0924448299258893, 1.2327959309241372, 1.0252004720098888, 0.86968168569555115, 0.72819758298160764, 0.64995166609058497, 0.60963864966900305, 0.56503625222172082, 0.52528890983168874]\n",
      "1\n"
     ]
    },
    {
     "data": {
      "image/png": "[encoded data removed]",
      "text/plain": [
       "<matplotlib.figure.Figure at 0x10e99e550>"
      ]
     },
     "metadata": {},
     "output_type": "display_data"
    },
    {
     "data": {
      "image/png": "[encoded data removed]",
      "text/plain": [
       "<matplotlib.figure.Figure at 0x10eb55450>"
      ]
     },
     "metadata": {},
     "output_type": "display_data"
    },
    {
     "name": "stdout",
     "output_type": "stream",
     "text": [
      "1\n"
     ]
    }
   ],
   "source": [
    "maxclusters=10\n",
    "##### plot ###\n",
    "avg = find_avgWithinSS(matrix)\n",
    "print avg\n",
    "found = findK(avg)\n",
    "kIdx = found - 1\n",
    "print kIdx\n",
    "K = range(1, maxclusters)\n",
    "KM = [kmeans(matrix,k) for k in K]\n",
    "centroids = [cent for (cent,var) in KM]   \n",
    "D_k = [cdist(matrix, cent, 'euclidean') for cent in centroids]\n",
    "cIdx = [np.argmin(D,axis=1) for D in D_k]\n",
    "\n",
    "# elbow curve\n",
    "fig = plt.figure()\n",
    "ax = fig.add_subplot(111)\n",
    "ax.plot(K, find_avgWithinSS(matrix), 'b*-')\n",
    "ax.plot(K[kIdx], find_avgWithinSS(matrix)[kIdx], marker='o', markersize=12, \n",
    "    markeredgewidth=2, markeredgecolor='r', markerfacecolor='None')\n",
    "plt.grid(True)\n",
    "plt.xlabel('Number of clusters')\n",
    "plt.ylabel('Average within-cluster sum of squares')\n",
    "plt.title('Elbow for KMeans clustering')\n",
    "\n",
    "# scatter plot\n",
    "fig = plt.figure()\n",
    "ax = fig.add_subplot(111)\n",
    "#ax.scatter(X[:,2],X[:,1], s=30, c=cIdx[k])\n",
    "clr = ['b','g','r','c','m','y','k']\n",
    "for i in range(K[kIdx]):\n",
    "    ind = (cIdx[kIdx]==i)\n",
    "    ax.scatter(X[ind,0],X[ind,1], s=30, c=clr[i], label='Cluster %d'%i)\n",
    "plt.xlabel('Y')\n",
    "plt.ylabel('X')\n",
    "plt.title('Cells, KMeans clustering with K=%d' % K[kIdx])\n",
    "#plt.legend()\n",
    "\n",
    "plt.show()\n",
    "print kIdx"
   ]
  },
  {
   "cell_type": "code",
   "execution_count": null,
   "metadata": {
    "collapsed": false
   },
   "outputs": [],
   "source": []
  },
  {
   "cell_type": "code",
   "execution_count": null,
   "metadata": {
    "collapsed": false
   },
   "outputs": [],
   "source": []
  },
  {
   "cell_type": "code",
   "execution_count": null,
   "metadata": {
    "collapsed": true
   },
   "outputs": [],
   "source": []
  },
  {
   "cell_type": "code",
   "execution_count": null,
   "metadata": {
    "collapsed": true
   },
   "outputs": [],
   "source": []
  },
  {
   "cell_type": "code",
   "execution_count": null,
   "metadata": {
    "collapsed": true
   },
   "outputs": [],
   "source": []
  },
  {
   "cell_type": "code",
   "execution_count": null,
   "metadata": {
    "collapsed": true
   },
   "outputs": [],
   "source": []
  }
 ],
 "metadata": {
  "kernelspec": {
   "display_name": "Python 2",
   "language": "python",
   "name": "python2"
  },
  "language_info": {
   "codemirror_mode": {
    "name": "ipython",
    "version": 2
   },
   "file_extension": ".py",
   "mimetype": "text/x-python",
   "name": "python",
   "nbconvert_exporter": "python",
   "pygments_lexer": "ipython2",
   "version": "2.7.11"
  }
 },
 "nbformat": 4,
 "nbformat_minor": 0
}
